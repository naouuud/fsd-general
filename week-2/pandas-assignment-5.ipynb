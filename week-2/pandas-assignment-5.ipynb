{
 "cells": [
  {
   "cell_type": "markdown",
   "metadata": {},
   "source": [
    "### Using .apply()"
   ]
  },
  {
   "cell_type": "code",
   "execution_count": 166,
   "metadata": {},
   "outputs": [],
   "source": [
    "import pandas as pd"
   ]
  },
  {
   "cell_type": "code",
   "execution_count": 167,
   "metadata": {},
   "outputs": [],
   "source": [
    "df = pd.read_csv('kc_house_data.csv')"
   ]
  },
  {
   "cell_type": "markdown",
   "metadata": {},
   "source": [
    "Taking an example from the previous assingment, I used a for loop to add a new column showing the distance of each house from the most expensive house. The same formula can be represented using apply."
   ]
  },
  {
   "cell_type": "markdown",
   "metadata": {},
   "source": [
    "First, import the required functions:"
   ]
  },
  {
   "cell_type": "code",
   "execution_count": 168,
   "metadata": {},
   "outputs": [],
   "source": [
    "from math import pi, sin, cos, acos\n",
    "\n",
    "def calc_distance(loc1, loc2):\n",
    "    loc1[0] = loc1[0] * pi/180\n",
    "    loc1[1] = loc1[1] * pi/180\n",
    "    loc2[0] = loc2[0] * pi/180\n",
    "    loc2[1] = loc2[1] * pi/180\n",
    "    return acos(sin(loc1[0]) * sin(loc2[0]) + cos(loc1[0]) * cos(loc2[0]) * cos(loc2[1] - loc1[1]))  * 6371\n",
    "\n",
    "def distance_between(id1, id2):\n",
    "    if df[df.id == id1]['id'].count() == 0 or df[df.id == id2]['id'].count() == 0:\n",
    "        return None\n",
    "    house1 = [df.loc[df['id'] == id1, ['lat']].iat[0, 0], df.loc[df['id'] == id1, ['long']].iat[0, 0]]\n",
    "    house2 = [df.loc[df['id'] == id2, ['lat']].iat[0, 0], df.loc[df['id'] == id2, ['long']].iat[0, 0]]\n",
    "    return (calc_distance(house1, house2))"
   ]
  },
  {
   "cell_type": "markdown",
   "metadata": {},
   "source": [
    "This time I will calculate distance from the least expensive house, which has ID 3421079032."
   ]
  },
  {
   "cell_type": "code",
   "execution_count": 169,
   "metadata": {},
   "outputs": [],
   "source": [
    "df['distance_from_min'] = df.apply(lambda row: distance_between(3421079032, row['id']), axis=1)"
   ]
  },
  {
   "cell_type": "markdown",
   "metadata": {},
   "source": [
    "Check that it worked:"
   ]
  },
  {
   "cell_type": "code",
   "execution_count": 170,
   "metadata": {},
   "outputs": [
    {
     "data": {
      "text/html": [
       "<div>\n",
       "<style scoped>\n",
       "    .dataframe tbody tr th:only-of-type {\n",
       "        vertical-align: middle;\n",
       "    }\n",
       "\n",
       "    .dataframe tbody tr th {\n",
       "        vertical-align: top;\n",
       "    }\n",
       "\n",
       "    .dataframe thead th {\n",
       "        text-align: right;\n",
       "    }\n",
       "</style>\n",
       "<table border=\"1\" class=\"dataframe\">\n",
       "  <thead>\n",
       "    <tr style=\"text-align: right;\">\n",
       "      <th></th>\n",
       "      <th>id</th>\n",
       "      <th>price</th>\n",
       "      <th>distance_from_min</th>\n",
       "    </tr>\n",
       "  </thead>\n",
       "  <tbody>\n",
       "    <tr>\n",
       "      <th>6636</th>\n",
       "      <td>226039316</td>\n",
       "      <td>941500.0</td>\n",
       "      <td>67.574971</td>\n",
       "    </tr>\n",
       "    <tr>\n",
       "      <th>18025</th>\n",
       "      <td>7280300375</td>\n",
       "      <td>536000.0</td>\n",
       "      <td>67.554172</td>\n",
       "    </tr>\n",
       "    <tr>\n",
       "      <th>306</th>\n",
       "      <td>7280300196</td>\n",
       "      <td>550000.0</td>\n",
       "      <td>67.471579</td>\n",
       "    </tr>\n",
       "    <tr>\n",
       "      <th>4537</th>\n",
       "      <td>7280300042</td>\n",
       "      <td>650000.0</td>\n",
       "      <td>67.439000</td>\n",
       "    </tr>\n",
       "    <tr>\n",
       "      <th>11728</th>\n",
       "      <td>7154200070</td>\n",
       "      <td>995000.0</td>\n",
       "      <td>67.398895</td>\n",
       "    </tr>\n",
       "    <tr>\n",
       "      <th>...</th>\n",
       "      <td>...</td>\n",
       "      <td>...</td>\n",
       "      <td>...</td>\n",
       "    </tr>\n",
       "    <tr>\n",
       "      <th>3852</th>\n",
       "      <td>3221079055</td>\n",
       "      <td>367000.0</td>\n",
       "      <td>2.275307</td>\n",
       "    </tr>\n",
       "    <tr>\n",
       "      <th>8707</th>\n",
       "      <td>2821079081</td>\n",
       "      <td>590000.0</td>\n",
       "      <td>1.986847</td>\n",
       "    </tr>\n",
       "    <tr>\n",
       "      <th>13137</th>\n",
       "      <td>3321079060</td>\n",
       "      <td>378000.0</td>\n",
       "      <td>1.550195</td>\n",
       "    </tr>\n",
       "    <tr>\n",
       "      <th>1389</th>\n",
       "      <td>4102000075</td>\n",
       "      <td>275000.0</td>\n",
       "      <td>0.344853</td>\n",
       "    </tr>\n",
       "    <tr>\n",
       "      <th>1149</th>\n",
       "      <td>3421079032</td>\n",
       "      <td>75000.0</td>\n",
       "      <td>0.000000</td>\n",
       "    </tr>\n",
       "  </tbody>\n",
       "</table>\n",
       "<p>21613 rows × 3 columns</p>\n",
       "</div>"
      ],
      "text/plain": [
       "               id     price  distance_from_min\n",
       "6636    226039316  941500.0          67.574971\n",
       "18025  7280300375  536000.0          67.554172\n",
       "306    7280300196  550000.0          67.471579\n",
       "4537   7280300042  650000.0          67.439000\n",
       "11728  7154200070  995000.0          67.398895\n",
       "...           ...       ...                ...\n",
       "3852   3221079055  367000.0           2.275307\n",
       "8707   2821079081  590000.0           1.986847\n",
       "13137  3321079060  378000.0           1.550195\n",
       "1389   4102000075  275000.0           0.344853\n",
       "1149   3421079032   75000.0           0.000000\n",
       "\n",
       "[21613 rows x 3 columns]"
      ]
     },
     "execution_count": 170,
     "metadata": {},
     "output_type": "execute_result"
    }
   ],
   "source": [
    "df[['id', 'price', 'distance_from_min']].sort_values('distance_from_min', ascending=False)"
   ]
  },
  {
   "cell_type": "markdown",
   "metadata": {},
   "source": [
    "At a glance, this suggests that as distance to the cheapest house decreases, price seems to decrease as well."
   ]
  },
  {
   "cell_type": "markdown",
   "metadata": {},
   "source": [
    "### Using .apply() to bin values"
   ]
  },
  {
   "cell_type": "markdown",
   "metadata": {},
   "source": [
    "Continuing the above example, I will add a flag to separate distances into either greater than 34km or less than 34km (half of greatest distance). This will help me understand if the trend of having houses of a similar price clustered with one another applies to the dataset as a whole."
   ]
  },
  {
   "cell_type": "code",
   "execution_count": 171,
   "metadata": {},
   "outputs": [],
   "source": [
    "df['over_34_km_from_min'] = df.apply(lambda row: 1 if row['distance_from_min'] > 34 else 0, axis=1)"
   ]
  },
  {
   "cell_type": "code",
   "execution_count": 172,
   "metadata": {},
   "outputs": [
    {
     "data": {
      "text/html": [
       "<div>\n",
       "<style scoped>\n",
       "    .dataframe tbody tr th:only-of-type {\n",
       "        vertical-align: middle;\n",
       "    }\n",
       "\n",
       "    .dataframe tbody tr th {\n",
       "        vertical-align: top;\n",
       "    }\n",
       "\n",
       "    .dataframe thead th {\n",
       "        text-align: right;\n",
       "    }\n",
       "</style>\n",
       "<table border=\"1\" class=\"dataframe\">\n",
       "  <thead>\n",
       "    <tr style=\"text-align: right;\">\n",
       "      <th></th>\n",
       "      <th>id</th>\n",
       "      <th>price</th>\n",
       "      <th>distance_from_min</th>\n",
       "      <th>over_34_km_from_min</th>\n",
       "    </tr>\n",
       "  </thead>\n",
       "  <tbody>\n",
       "    <tr>\n",
       "      <th>0</th>\n",
       "      <td>7129300520</td>\n",
       "      <td>221900.0</td>\n",
       "      <td>38.144715</td>\n",
       "      <td>1</td>\n",
       "    </tr>\n",
       "    <tr>\n",
       "      <th>1</th>\n",
       "      <td>6414100192</td>\n",
       "      <td>538000.0</td>\n",
       "      <td>59.559782</td>\n",
       "      <td>1</td>\n",
       "    </tr>\n",
       "    <tr>\n",
       "      <th>2</th>\n",
       "      <td>5631500400</td>\n",
       "      <td>180000.0</td>\n",
       "      <td>58.159586</td>\n",
       "      <td>1</td>\n",
       "    </tr>\n",
       "    <tr>\n",
       "      <th>3</th>\n",
       "      <td>2487200875</td>\n",
       "      <td>604000.0</td>\n",
       "      <td>46.481765</td>\n",
       "      <td>1</td>\n",
       "    </tr>\n",
       "    <tr>\n",
       "      <th>4</th>\n",
       "      <td>1954400510</td>\n",
       "      <td>510000.0</td>\n",
       "      <td>40.620019</td>\n",
       "      <td>1</td>\n",
       "    </tr>\n",
       "    <tr>\n",
       "      <th>...</th>\n",
       "      <td>...</td>\n",
       "      <td>...</td>\n",
       "      <td>...</td>\n",
       "      <td>...</td>\n",
       "    </tr>\n",
       "    <tr>\n",
       "      <th>21608</th>\n",
       "      <td>263000018</td>\n",
       "      <td>360000.0</td>\n",
       "      <td>58.637113</td>\n",
       "      <td>1</td>\n",
       "    </tr>\n",
       "    <tr>\n",
       "      <th>21609</th>\n",
       "      <td>6600060120</td>\n",
       "      <td>400000.0</td>\n",
       "      <td>43.956883</td>\n",
       "      <td>1</td>\n",
       "    </tr>\n",
       "    <tr>\n",
       "      <th>21610</th>\n",
       "      <td>1523300141</td>\n",
       "      <td>402101.0</td>\n",
       "      <td>47.173348</td>\n",
       "      <td>1</td>\n",
       "    </tr>\n",
       "    <tr>\n",
       "      <th>21611</th>\n",
       "      <td>291310100</td>\n",
       "      <td>400000.0</td>\n",
       "      <td>32.504629</td>\n",
       "      <td>0</td>\n",
       "    </tr>\n",
       "    <tr>\n",
       "      <th>21612</th>\n",
       "      <td>1523300157</td>\n",
       "      <td>325000.0</td>\n",
       "      <td>47.147410</td>\n",
       "      <td>1</td>\n",
       "    </tr>\n",
       "  </tbody>\n",
       "</table>\n",
       "<p>21613 rows × 4 columns</p>\n",
       "</div>"
      ],
      "text/plain": [
       "               id     price  distance_from_min  over_34_km_from_min\n",
       "0      7129300520  221900.0          38.144715                    1\n",
       "1      6414100192  538000.0          59.559782                    1\n",
       "2      5631500400  180000.0          58.159586                    1\n",
       "3      2487200875  604000.0          46.481765                    1\n",
       "4      1954400510  510000.0          40.620019                    1\n",
       "...           ...       ...                ...                  ...\n",
       "21608   263000018  360000.0          58.637113                    1\n",
       "21609  6600060120  400000.0          43.956883                    1\n",
       "21610  1523300141  402101.0          47.173348                    1\n",
       "21611   291310100  400000.0          32.504629                    0\n",
       "21612  1523300157  325000.0          47.147410                    1\n",
       "\n",
       "[21613 rows x 4 columns]"
      ]
     },
     "execution_count": 172,
     "metadata": {},
     "output_type": "execute_result"
    }
   ],
   "source": [
    "df_ = df[['id', 'price', 'distance_from_min', 'over_34_km_from_min']]\n",
    "df_"
   ]
  },
  {
   "cell_type": "markdown",
   "metadata": {},
   "source": [
    "Now I can filter by the two categories, and check the mean house price in each. I expect that the mean house price for houses flagged 1 'over_34_km_from_min' will be higher."
   ]
  },
  {
   "cell_type": "code",
   "execution_count": 173,
   "metadata": {},
   "outputs": [
    {
     "data": {
      "text/plain": [
       "607148.0"
      ]
     },
     "execution_count": 173,
     "metadata": {},
     "output_type": "execute_result"
    }
   ],
   "source": [
    "df_.loc[df['over_34_km_from_min'] == 1, 'price'].mean().round(0)"
   ]
  },
  {
   "cell_type": "code",
   "execution_count": 174,
   "metadata": {},
   "outputs": [
    {
     "data": {
      "text/plain": [
       "367246.0"
      ]
     },
     "execution_count": 174,
     "metadata": {},
     "output_type": "execute_result"
    }
   ],
   "source": [
    "df_.loc[df['over_34_km_from_min'] == 0, 'price'].mean().round(0)"
   ]
  },
  {
   "cell_type": "markdown",
   "metadata": {},
   "source": [
    "Conclusion: If we take the cheapest house, and divide our remaining houses into two categories (taking the halfway distance as the boundary), houses further away than the halfway distance have a higher mean price of 607,148 compared to 367,246 for houses closer to the cheapest house."
   ]
  },
  {
   "cell_type": "markdown",
   "metadata": {},
   "source": [
    "I am curious how many houses were in each category. I will check this:"
   ]
  },
  {
   "cell_type": "code",
   "execution_count": 175,
   "metadata": {},
   "outputs": [
    {
     "data": {
      "text/plain": [
       "15580"
      ]
     },
     "execution_count": 175,
     "metadata": {},
     "output_type": "execute_result"
    }
   ],
   "source": [
    "df_.loc[df_['over_34_km_from_min'] == 1, 'id'].count()"
   ]
  },
  {
   "cell_type": "code",
   "execution_count": 176,
   "metadata": {},
   "outputs": [
    {
     "data": {
      "text/plain": [
       "6033"
      ]
     },
     "execution_count": 176,
     "metadata": {},
     "output_type": "execute_result"
    }
   ],
   "source": [
    "df_.loc[df_['over_34_km_from_min'] == 0, 'id'].count()"
   ]
  },
  {
   "cell_type": "markdown",
   "metadata": {},
   "source": [
    "It seems that most houses were in the over 34km category. Even though this was the halfway distance, there were more houses in the outer half. This makes sense in a circular settlement where the area gets larger as you move out. This leads to the next section."
   ]
  },
  {
   "cell_type": "markdown",
   "metadata": {},
   "source": [
    "### Binning differently"
   ]
  },
  {
   "cell_type": "markdown",
   "metadata": {},
   "source": [
    "Another way to bin the houses in the above example is to take the half count that's closest vs. the half that's farthest, irrespective of the boundary distance. To do this, I will first sort my houses by distance from the cheapest and I will reset the index."
   ]
  },
  {
   "cell_type": "code",
   "execution_count": 177,
   "metadata": {},
   "outputs": [
    {
     "data": {
      "text/html": [
       "<div>\n",
       "<style scoped>\n",
       "    .dataframe tbody tr th:only-of-type {\n",
       "        vertical-align: middle;\n",
       "    }\n",
       "\n",
       "    .dataframe tbody tr th {\n",
       "        vertical-align: top;\n",
       "    }\n",
       "\n",
       "    .dataframe thead th {\n",
       "        text-align: right;\n",
       "    }\n",
       "</style>\n",
       "<table border=\"1\" class=\"dataframe\">\n",
       "  <thead>\n",
       "    <tr style=\"text-align: right;\">\n",
       "      <th></th>\n",
       "      <th>id</th>\n",
       "      <th>price</th>\n",
       "      <th>distance_from_min</th>\n",
       "    </tr>\n",
       "  </thead>\n",
       "  <tbody>\n",
       "    <tr>\n",
       "      <th>0</th>\n",
       "      <td>226039316</td>\n",
       "      <td>941500.0</td>\n",
       "      <td>67.574971</td>\n",
       "    </tr>\n",
       "    <tr>\n",
       "      <th>1</th>\n",
       "      <td>7280300375</td>\n",
       "      <td>536000.0</td>\n",
       "      <td>67.554172</td>\n",
       "    </tr>\n",
       "    <tr>\n",
       "      <th>2</th>\n",
       "      <td>7280300196</td>\n",
       "      <td>550000.0</td>\n",
       "      <td>67.471579</td>\n",
       "    </tr>\n",
       "    <tr>\n",
       "      <th>3</th>\n",
       "      <td>7280300042</td>\n",
       "      <td>650000.0</td>\n",
       "      <td>67.439000</td>\n",
       "    </tr>\n",
       "    <tr>\n",
       "      <th>4</th>\n",
       "      <td>7154200070</td>\n",
       "      <td>995000.0</td>\n",
       "      <td>67.398895</td>\n",
       "    </tr>\n",
       "    <tr>\n",
       "      <th>...</th>\n",
       "      <td>...</td>\n",
       "      <td>...</td>\n",
       "      <td>...</td>\n",
       "    </tr>\n",
       "    <tr>\n",
       "      <th>21608</th>\n",
       "      <td>3221079055</td>\n",
       "      <td>367000.0</td>\n",
       "      <td>2.275307</td>\n",
       "    </tr>\n",
       "    <tr>\n",
       "      <th>21609</th>\n",
       "      <td>2821079081</td>\n",
       "      <td>590000.0</td>\n",
       "      <td>1.986847</td>\n",
       "    </tr>\n",
       "    <tr>\n",
       "      <th>21610</th>\n",
       "      <td>3321079060</td>\n",
       "      <td>378000.0</td>\n",
       "      <td>1.550195</td>\n",
       "    </tr>\n",
       "    <tr>\n",
       "      <th>21611</th>\n",
       "      <td>4102000075</td>\n",
       "      <td>275000.0</td>\n",
       "      <td>0.344853</td>\n",
       "    </tr>\n",
       "    <tr>\n",
       "      <th>21612</th>\n",
       "      <td>3421079032</td>\n",
       "      <td>75000.0</td>\n",
       "      <td>0.000000</td>\n",
       "    </tr>\n",
       "  </tbody>\n",
       "</table>\n",
       "<p>21613 rows × 3 columns</p>\n",
       "</div>"
      ],
      "text/plain": [
       "               id     price  distance_from_min\n",
       "0       226039316  941500.0          67.574971\n",
       "1      7280300375  536000.0          67.554172\n",
       "2      7280300196  550000.0          67.471579\n",
       "3      7280300042  650000.0          67.439000\n",
       "4      7154200070  995000.0          67.398895\n",
       "...           ...       ...                ...\n",
       "21608  3221079055  367000.0           2.275307\n",
       "21609  2821079081  590000.0           1.986847\n",
       "21610  3321079060  378000.0           1.550195\n",
       "21611  4102000075  275000.0           0.344853\n",
       "21612  3421079032   75000.0           0.000000\n",
       "\n",
       "[21613 rows x 3 columns]"
      ]
     },
     "execution_count": 177,
     "metadata": {},
     "output_type": "execute_result"
    }
   ],
   "source": [
    "df_2 = df[['id', 'price', 'distance_from_min']].sort_values('distance_from_min', ascending=False).reset_index(drop=True)\n",
    "df_2"
   ]
  },
  {
   "cell_type": "code",
   "execution_count": 178,
   "metadata": {},
   "outputs": [
    {
     "data": {
      "text/plain": [
       "10806.5"
      ]
     },
     "execution_count": 178,
     "metadata": {},
     "output_type": "execute_result"
    }
   ],
   "source": [
    "median_index = len(df_2) / 2\n",
    "median_index"
   ]
  },
  {
   "cell_type": "markdown",
   "metadata": {},
   "source": [
    "Finally, after much searching, I found out how to reference a row -- row.name! I tried row.index so many times, and could never figure out why it didn't work."
   ]
  },
  {
   "cell_type": "code",
   "execution_count": 179,
   "metadata": {},
   "outputs": [
    {
     "data": {
      "text/html": [
       "<div>\n",
       "<style scoped>\n",
       "    .dataframe tbody tr th:only-of-type {\n",
       "        vertical-align: middle;\n",
       "    }\n",
       "\n",
       "    .dataframe tbody tr th {\n",
       "        vertical-align: top;\n",
       "    }\n",
       "\n",
       "    .dataframe thead th {\n",
       "        text-align: right;\n",
       "    }\n",
       "</style>\n",
       "<table border=\"1\" class=\"dataframe\">\n",
       "  <thead>\n",
       "    <tr style=\"text-align: right;\">\n",
       "      <th></th>\n",
       "      <th>id</th>\n",
       "      <th>price</th>\n",
       "      <th>distance_from_min</th>\n",
       "      <th>farther_half_of_houses</th>\n",
       "    </tr>\n",
       "  </thead>\n",
       "  <tbody>\n",
       "    <tr>\n",
       "      <th>0</th>\n",
       "      <td>226039316</td>\n",
       "      <td>941500.0</td>\n",
       "      <td>67.574971</td>\n",
       "      <td>1</td>\n",
       "    </tr>\n",
       "    <tr>\n",
       "      <th>1</th>\n",
       "      <td>7280300375</td>\n",
       "      <td>536000.0</td>\n",
       "      <td>67.554172</td>\n",
       "      <td>1</td>\n",
       "    </tr>\n",
       "    <tr>\n",
       "      <th>2</th>\n",
       "      <td>7280300196</td>\n",
       "      <td>550000.0</td>\n",
       "      <td>67.471579</td>\n",
       "      <td>1</td>\n",
       "    </tr>\n",
       "    <tr>\n",
       "      <th>3</th>\n",
       "      <td>7280300042</td>\n",
       "      <td>650000.0</td>\n",
       "      <td>67.439000</td>\n",
       "      <td>1</td>\n",
       "    </tr>\n",
       "    <tr>\n",
       "      <th>4</th>\n",
       "      <td>7154200070</td>\n",
       "      <td>995000.0</td>\n",
       "      <td>67.398895</td>\n",
       "      <td>1</td>\n",
       "    </tr>\n",
       "    <tr>\n",
       "      <th>...</th>\n",
       "      <td>...</td>\n",
       "      <td>...</td>\n",
       "      <td>...</td>\n",
       "      <td>...</td>\n",
       "    </tr>\n",
       "    <tr>\n",
       "      <th>21608</th>\n",
       "      <td>3221079055</td>\n",
       "      <td>367000.0</td>\n",
       "      <td>2.275307</td>\n",
       "      <td>0</td>\n",
       "    </tr>\n",
       "    <tr>\n",
       "      <th>21609</th>\n",
       "      <td>2821079081</td>\n",
       "      <td>590000.0</td>\n",
       "      <td>1.986847</td>\n",
       "      <td>0</td>\n",
       "    </tr>\n",
       "    <tr>\n",
       "      <th>21610</th>\n",
       "      <td>3321079060</td>\n",
       "      <td>378000.0</td>\n",
       "      <td>1.550195</td>\n",
       "      <td>0</td>\n",
       "    </tr>\n",
       "    <tr>\n",
       "      <th>21611</th>\n",
       "      <td>4102000075</td>\n",
       "      <td>275000.0</td>\n",
       "      <td>0.344853</td>\n",
       "      <td>0</td>\n",
       "    </tr>\n",
       "    <tr>\n",
       "      <th>21612</th>\n",
       "      <td>3421079032</td>\n",
       "      <td>75000.0</td>\n",
       "      <td>0.000000</td>\n",
       "      <td>0</td>\n",
       "    </tr>\n",
       "  </tbody>\n",
       "</table>\n",
       "<p>21613 rows × 4 columns</p>\n",
       "</div>"
      ],
      "text/plain": [
       "               id     price  distance_from_min  farther_half_of_houses\n",
       "0       226039316  941500.0          67.574971                       1\n",
       "1      7280300375  536000.0          67.554172                       1\n",
       "2      7280300196  550000.0          67.471579                       1\n",
       "3      7280300042  650000.0          67.439000                       1\n",
       "4      7154200070  995000.0          67.398895                       1\n",
       "...           ...       ...                ...                     ...\n",
       "21608  3221079055  367000.0           2.275307                       0\n",
       "21609  2821079081  590000.0           1.986847                       0\n",
       "21610  3321079060  378000.0           1.550195                       0\n",
       "21611  4102000075  275000.0           0.344853                       0\n",
       "21612  3421079032   75000.0           0.000000                       0\n",
       "\n",
       "[21613 rows x 4 columns]"
      ]
     },
     "execution_count": 179,
     "metadata": {},
     "output_type": "execute_result"
    }
   ],
   "source": [
    "df_2['farther_half_of_houses'] = df_2.apply(lambda row: 1 if row.name < 10806 else 0, axis=1)\n",
    "df_2"
   ]
  },
  {
   "cell_type": "markdown",
   "metadata": {},
   "source": [
    "I expect there to be an equal number of houses flagged 0 and 1 this time."
   ]
  },
  {
   "cell_type": "code",
   "execution_count": 180,
   "metadata": {},
   "outputs": [
    {
     "data": {
      "text/plain": [
       "10806"
      ]
     },
     "execution_count": 180,
     "metadata": {},
     "output_type": "execute_result"
    }
   ],
   "source": [
    "df_2.loc[df_2['farther_half_of_houses'] == 1, 'id'].count()"
   ]
  },
  {
   "cell_type": "code",
   "execution_count": 181,
   "metadata": {},
   "outputs": [
    {
     "data": {
      "text/plain": [
       "10807"
      ]
     },
     "execution_count": 181,
     "metadata": {},
     "output_type": "execute_result"
    }
   ],
   "source": [
    "df_2.loc[df_2['farther_half_of_houses'] == 0, 'id'].count()"
   ]
  },
  {
   "cell_type": "markdown",
   "metadata": {},
   "source": [
    "Very good. Now I will compare means. I expect the farther half (flagged 1) to have a higher mean price."
   ]
  },
  {
   "cell_type": "code",
   "execution_count": 182,
   "metadata": {},
   "outputs": [
    {
     "data": {
      "text/plain": [
       "621581.0"
      ]
     },
     "execution_count": 182,
     "metadata": {},
     "output_type": "execute_result"
    }
   ],
   "source": [
    "df_2.loc[df_2['farther_half_of_houses'] == 1, 'price'].mean().round(0)"
   ]
  },
  {
   "cell_type": "code",
   "execution_count": 183,
   "metadata": {},
   "outputs": [
    {
     "data": {
      "text/plain": [
       "458791.0"
      ]
     },
     "execution_count": 183,
     "metadata": {},
     "output_type": "execute_result"
    }
   ],
   "source": [
    "df_2.loc[df_2['farther_half_of_houses'] == 0, 'price'].mean().round(0)"
   ]
  },
  {
   "cell_type": "markdown",
   "metadata": {},
   "source": [
    "Excellent. Observations confirmed. Now to get some sleep!"
   ]
  }
 ],
 "metadata": {
  "kernelspec": {
   "display_name": "sefactory_env",
   "language": "python",
   "name": "python3"
  },
  "language_info": {
   "codemirror_mode": {
    "name": "ipython",
    "version": 3
   },
   "file_extension": ".py",
   "mimetype": "text/x-python",
   "name": "python",
   "nbconvert_exporter": "python",
   "pygments_lexer": "ipython3",
   "version": "3.10.9"
  },
  "orig_nbformat": 4
 },
 "nbformat": 4,
 "nbformat_minor": 2
}
