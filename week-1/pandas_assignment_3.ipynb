{
 "cells": [
  {
   "cell_type": "markdown",
   "metadata": {},
   "source": [
    "## Categorical variables"
   ]
  },
  {
   "cell_type": "markdown",
   "metadata": {},
   "source": [
    "Categorical variables refer to variables whose range of values does not represent a meaningful continuous progression. Let's take the example of climate. One way of discussing climate might be to provide an average annual temperature for every city in our dataset. This represents a continuous value where, for example, it is meaningful that 8.1 is larger than 7.9 (in this case, it means hotter on average). It should be noted that this does not paint the whole picture, however. For instance, city A might have a higher average annual temperature than city B, but this does not mean that any given day is more likely to be hotter. For instance, city A might have very intense temperature fluctuations where it experiences both hotter and colder weather than city B. However, for the sake of simplicity, we can handle this value as a continuous one. On the other hand, each city on our dataset might be assigned a number for the climate type it has; 1 might refer to a hot dry summer climate, while 2 refers to a cold dry winter climate (Beirut and Beijing, respectively). In this case, it is not useful to take a city in between those two, Karachi for instance, and impute its climate type value to be 1.5, as this is meaningless. What would be more helpful is consider cities in a specific radius around Karachi and consider the mode (most frequent) climate category in that region. This is very likely to be Karachi's climate type as well.\n",
    "\n",
    "In our dataset, we have some continuous variables, like 'price' and 'square footage', and categorical variables like 'view' and 'waterfront'. With regards to the examples discussed in class, 'bathrooms' and 'bedrooms', I tend to consider them a bit of both. As a real estate agent, I would not tell a client that their house, based on price, is likely to have 3.829 bathrooms (in this case, aggregating values and determining which category the house is likely to belong to is more useful.). However, if I were doing a broader study to correlate number of bathrooms with price, then I would find it permissible to treat bathroom count as a continuous variable. "
   ]
  },
  {
   "cell_type": "markdown",
   "metadata": {},
   "source": [
    "## Handling missing values"
   ]
  },
  {
   "cell_type": "code",
   "execution_count": 755,
   "metadata": {},
   "outputs": [],
   "source": [
    "import pandas as pd"
   ]
  },
  {
   "cell_type": "code",
   "execution_count": 756,
   "metadata": {},
   "outputs": [],
   "source": [
    "df = pd.read_csv('kc_house_data.csv')"
   ]
  },
  {
   "cell_type": "code",
   "execution_count": 757,
   "metadata": {},
   "outputs": [],
   "source": [
    "df_ = df[['id', 'price', 'bedrooms', 'bathrooms', 'sqft_living', 'sqft_lot']]"
   ]
  },
  {
   "cell_type": "code",
   "execution_count": 758,
   "metadata": {},
   "outputs": [
    {
     "name": "stdout",
     "output_type": "stream",
     "text": [
      "<class 'pandas.core.frame.DataFrame'>\n",
      "RangeIndex: 21613 entries, 0 to 21612\n",
      "Data columns (total 6 columns):\n",
      " #   Column       Non-Null Count  Dtype  \n",
      "---  ------       --------------  -----  \n",
      " 0   id           21613 non-null  int64  \n",
      " 1   price        21613 non-null  float64\n",
      " 2   bedrooms     21613 non-null  int64  \n",
      " 3   bathrooms    21613 non-null  float64\n",
      " 4   sqft_living  21613 non-null  int64  \n",
      " 5   sqft_lot     21613 non-null  int64  \n",
      "dtypes: float64(2), int64(4)\n",
      "memory usage: 1013.2 KB\n"
     ]
    }
   ],
   "source": [
    "df_.info()"
   ]
  },
  {
   "cell_type": "code",
   "execution_count": 759,
   "metadata": {},
   "outputs": [],
   "source": [
    "import numpy as np"
   ]
  },
  {
   "cell_type": "markdown",
   "metadata": {},
   "source": [
    "As I still haven't full understood the percentage method, I have chosen to introduce np.nan values manually based on conditions. I will read more about the percentage method later since it allows to introduce missing values at random."
   ]
  },
  {
   "cell_type": "code",
   "execution_count": 760,
   "metadata": {},
   "outputs": [],
   "source": [
    "df_.loc[df['bedrooms'] > 4.0, 'bedrooms'] = np.nan\n",
    "df_.loc[df['bathrooms'] > 2.0, 'bathrooms'] = np.nan"
   ]
  },
  {
   "cell_type": "code",
   "execution_count": 761,
   "metadata": {},
   "outputs": [
    {
     "name": "stdout",
     "output_type": "stream",
     "text": [
      "<class 'pandas.core.frame.DataFrame'>\n",
      "RangeIndex: 21613 entries, 0 to 21612\n",
      "Data columns (total 6 columns):\n",
      " #   Column       Non-Null Count  Dtype  \n",
      "---  ------       --------------  -----  \n",
      " 0   id           21613 non-null  int64  \n",
      " 1   price        21613 non-null  float64\n",
      " 2   bedrooms     19678 non-null  float64\n",
      " 3   bathrooms    10371 non-null  float64\n",
      " 4   sqft_living  21613 non-null  int64  \n",
      " 5   sqft_lot     21613 non-null  int64  \n",
      "dtypes: float64(3), int64(3)\n",
      "memory usage: 1013.2 KB\n"
     ]
    }
   ],
   "source": [
    "df_.info()"
   ]
  },
  {
   "cell_type": "markdown",
   "metadata": {},
   "source": [
    "The first method to deal with missing values is to delete those rows, using dropna(). First, we drop all rows with any missing value."
   ]
  },
  {
   "cell_type": "code",
   "execution_count": 762,
   "metadata": {},
   "outputs": [],
   "source": [
    "df_cleaned1 = df_.dropna()"
   ]
  },
  {
   "cell_type": "code",
   "execution_count": 763,
   "metadata": {},
   "outputs": [
    {
     "name": "stdout",
     "output_type": "stream",
     "text": [
      "<class 'pandas.core.frame.DataFrame'>\n",
      "Index: 9979 entries, 0 to 21612\n",
      "Data columns (total 6 columns):\n",
      " #   Column       Non-Null Count  Dtype  \n",
      "---  ------       --------------  -----  \n",
      " 0   id           9979 non-null   int64  \n",
      " 1   price        9979 non-null   float64\n",
      " 2   bedrooms     9979 non-null   float64\n",
      " 3   bathrooms    9979 non-null   float64\n",
      " 4   sqft_living  9979 non-null   int64  \n",
      " 5   sqft_lot     9979 non-null   int64  \n",
      "dtypes: float64(3), int64(3)\n",
      "memory usage: 545.7 KB\n"
     ]
    },
    {
     "data": {
      "text/plain": [
       "9979"
      ]
     },
     "execution_count": 763,
     "metadata": {},
     "output_type": "execute_result"
    }
   ],
   "source": [
    "df_cleaned1.info()\n",
    "len(df_cleaned1)"
   ]
  },
  {
   "cell_type": "markdown",
   "metadata": {},
   "source": [
    "This has reduced the count to 9979. However, I can also choose to drop just the rows with a missing 'bathroom' value, keeping the missing 'bedroom' values."
   ]
  },
  {
   "cell_type": "code",
   "execution_count": 764,
   "metadata": {},
   "outputs": [],
   "source": [
    "df_cleaned2 = df_.dropna(subset=['bathrooms'])"
   ]
  },
  {
   "cell_type": "code",
   "execution_count": 765,
   "metadata": {},
   "outputs": [
    {
     "name": "stdout",
     "output_type": "stream",
     "text": [
      "<class 'pandas.core.frame.DataFrame'>\n",
      "Index: 10371 entries, 0 to 21612\n",
      "Data columns (total 6 columns):\n",
      " #   Column       Non-Null Count  Dtype  \n",
      "---  ------       --------------  -----  \n",
      " 0   id           10371 non-null  int64  \n",
      " 1   price        10371 non-null  float64\n",
      " 2   bedrooms     9979 non-null   float64\n",
      " 3   bathrooms    10371 non-null  float64\n",
      " 4   sqft_living  10371 non-null  int64  \n",
      " 5   sqft_lot     10371 non-null  int64  \n",
      "dtypes: float64(3), int64(3)\n",
      "memory usage: 567.2 KB\n"
     ]
    },
    {
     "data": {
      "text/plain": [
       "10371"
      ]
     },
     "execution_count": 765,
     "metadata": {},
     "output_type": "execute_result"
    }
   ],
   "source": [
    "df_cleaned2.info()\n",
    "len(df_cleaned2)"
   ]
  },
  {
   "cell_type": "markdown",
   "metadata": {},
   "source": [
    "All rows with a missing 'bathroom' value have been dropped. In the 'bedrooms' column, there are additional missing values which we have not dropped."
   ]
  },
  {
   "cell_type": "markdown",
   "metadata": {},
   "source": [
    "Another way to deal with missing values is to replace them with a different value that makes sense for that variable type. In this case, I will fill missing 'bedroom' and 'bathroom' values with the respective modes."
   ]
  },
  {
   "cell_type": "code",
   "execution_count": 766,
   "metadata": {},
   "outputs": [
    {
     "name": "stdout",
     "output_type": "stream",
     "text": [
      "<class 'pandas.core.frame.DataFrame'>\n",
      "RangeIndex: 21613 entries, 0 to 21612\n",
      "Data columns (total 6 columns):\n",
      " #   Column       Non-Null Count  Dtype  \n",
      "---  ------       --------------  -----  \n",
      " 0   id           21613 non-null  int64  \n",
      " 1   price        21613 non-null  float64\n",
      " 2   bedrooms     19678 non-null  float64\n",
      " 3   bathrooms    10371 non-null  float64\n",
      " 4   sqft_living  21613 non-null  int64  \n",
      " 5   sqft_lot     21613 non-null  int64  \n",
      "dtypes: float64(3), int64(3)\n",
      "memory usage: 1013.2 KB\n"
     ]
    }
   ],
   "source": [
    "df_.info()"
   ]
  },
  {
   "cell_type": "code",
   "execution_count": 767,
   "metadata": {},
   "outputs": [
    {
     "data": {
      "text/plain": [
       "0    3.0\n",
       "Name: bedrooms, dtype: float64"
      ]
     },
     "execution_count": 767,
     "metadata": {},
     "output_type": "execute_result"
    }
   ],
   "source": [
    "df_['bedrooms'].mode()"
   ]
  },
  {
   "cell_type": "code",
   "execution_count": 768,
   "metadata": {},
   "outputs": [],
   "source": [
    "bedroom_mode = df_['bedrooms'].mode()[0]"
   ]
  },
  {
   "cell_type": "code",
   "execution_count": 769,
   "metadata": {},
   "outputs": [],
   "source": [
    "df_filled = df_.fillna(value={'bedrooms': bedroom_mode})"
   ]
  },
  {
   "cell_type": "code",
   "execution_count": 770,
   "metadata": {},
   "outputs": [
    {
     "name": "stdout",
     "output_type": "stream",
     "text": [
      "<class 'pandas.core.frame.DataFrame'>\n",
      "RangeIndex: 21613 entries, 0 to 21612\n",
      "Data columns (total 6 columns):\n",
      " #   Column       Non-Null Count  Dtype  \n",
      "---  ------       --------------  -----  \n",
      " 0   id           21613 non-null  int64  \n",
      " 1   price        21613 non-null  float64\n",
      " 2   bedrooms     21613 non-null  float64\n",
      " 3   bathrooms    10371 non-null  float64\n",
      " 4   sqft_living  21613 non-null  int64  \n",
      " 5   sqft_lot     21613 non-null  int64  \n",
      "dtypes: float64(3), int64(3)\n",
      "memory usage: 1013.2 KB\n"
     ]
    }
   ],
   "source": [
    "df_filled.info()"
   ]
  },
  {
   "cell_type": "markdown",
   "metadata": {},
   "source": [
    "Missing bedroom values have been replaced. I will do the same for bathrooms, but instead of declaring a new variable for the filled table, I will specify inplace=True in the fillna function argument."
   ]
  },
  {
   "cell_type": "code",
   "execution_count": 771,
   "metadata": {},
   "outputs": [],
   "source": [
    "bathroom_mode = df_['bathrooms'].mode()[0]"
   ]
  },
  {
   "cell_type": "code",
   "execution_count": 772,
   "metadata": {},
   "outputs": [],
   "source": [
    "df_filled.fillna(value={'bathrooms': bathroom_mode}, inplace=True)"
   ]
  },
  {
   "cell_type": "code",
   "execution_count": 773,
   "metadata": {},
   "outputs": [
    {
     "name": "stdout",
     "output_type": "stream",
     "text": [
      "<class 'pandas.core.frame.DataFrame'>\n",
      "RangeIndex: 21613 entries, 0 to 21612\n",
      "Data columns (total 6 columns):\n",
      " #   Column       Non-Null Count  Dtype  \n",
      "---  ------       --------------  -----  \n",
      " 0   id           21613 non-null  int64  \n",
      " 1   price        21613 non-null  float64\n",
      " 2   bedrooms     21613 non-null  float64\n",
      " 3   bathrooms    21613 non-null  float64\n",
      " 4   sqft_living  21613 non-null  int64  \n",
      " 5   sqft_lot     21613 non-null  int64  \n",
      "dtypes: float64(3), int64(3)\n",
      "memory usage: 1013.2 KB\n"
     ]
    }
   ],
   "source": [
    "df_filled.info()"
   ]
  },
  {
   "cell_type": "markdown",
   "metadata": {},
   "source": [
    "All missing values have been replaced."
   ]
  }
 ],
 "metadata": {
  "kernelspec": {
   "display_name": "sefactory_env",
   "language": "python",
   "name": "python3"
  },
  "language_info": {
   "codemirror_mode": {
    "name": "ipython",
    "version": 3
   },
   "file_extension": ".py",
   "mimetype": "text/x-python",
   "name": "python",
   "nbconvert_exporter": "python",
   "pygments_lexer": "ipython3",
   "version": "3.10.9"
  },
  "orig_nbformat": 4
 },
 "nbformat": 4,
 "nbformat_minor": 2
}
