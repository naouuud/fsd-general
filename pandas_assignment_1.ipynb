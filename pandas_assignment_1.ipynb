{
  "cells": [
    {
      "cell_type": "markdown",
      "metadata": {
        "id": "npJZwsR5G-sZ"
      },
      "source": [
        "# Getting started"
      ]
    },
    {
      "cell_type": "code",
      "execution_count": 10,
      "metadata": {
        "colab": {
          "base_uri": "https://localhost:8080/"
        },
        "id": "0hpuM-ZmB-dI",
        "outputId": "3bcbef2b-b4ad-4001-efba-14d1a943f9dd"
      },
      "outputs": [
        {
          "name": "stdout",
          "output_type": "stream",
          "text": [
            "Drive already mounted at /content/drive; to attempt to forcibly remount, call drive.mount(\"/content/drive\", force_remount=True).\n"
          ]
        }
      ],
      "source": [
        "from google.colab import drive\n",
        "drive.mount('/content/drive')"
      ]
    },
    {
      "cell_type": "code",
      "execution_count": 11,
      "metadata": {
        "colab": {
          "base_uri": "https://localhost:8080/",
          "height": 35
        },
        "id": "d00TPqSD8iYu",
        "outputId": "dcd79fbc-df0a-43ca-93b6-23e050215e50"
      },
      "outputs": [
        {
          "data": {
            "application/vnd.google.colaboratory.intrinsic+json": {
              "type": "string"
            },
            "text/plain": [
              "'1.5.3'"
            ]
          },
          "execution_count": 11,
          "metadata": {},
          "output_type": "execute_result"
        }
      ],
      "source": [
        "import pandas as pd\n",
        "pd.__version__"
      ]
    },
    {
      "cell_type": "code",
      "execution_count": 12,
      "metadata": {
        "id": "2e21Y5-v85HQ"
      },
      "outputs": [],
      "source": [
        "df = pd.read_csv('/content/drive/MyDrive/Colab Notebooks/kc_house_data.csv')"
      ]
    },
    {
      "cell_type": "markdown",
      "metadata": {
        "id": "Vb-rXK06_hCw"
      },
      "source": [
        "# Overview of the dataset"
      ]
    },
    {
      "cell_type": "markdown",
      "metadata": {
        "id": "kye_c_VX7kYd"
      },
      "source": [
        "The dataset, which describes real estate units, contains information about the below properties of each unit, retrieved using the 'columns' property on the DataFrame object. The total number of columns is 21, while there are 21,613 entries. This can be learned through the 'shape' property."
      ]
    },
    {
      "cell_type": "code",
      "execution_count": 13,
      "metadata": {
        "colab": {
          "base_uri": "https://localhost:8080/"
        },
        "id": "zIEf7W4iBf3z",
        "outputId": "86b35580-3c33-4f34-8b4f-3afa74298163"
      },
      "outputs": [
        {
          "data": {
            "text/plain": [
              "Index(['id', 'date', 'price', 'bedrooms', 'bathrooms', 'sqft_living',\n",
              "       'sqft_lot', 'floors', 'waterfront', 'view', 'condition', 'grade',\n",
              "       'sqft_above', 'sqft_basement', 'yr_built', 'yr_renovated', 'zipcode',\n",
              "       'lat', 'long', 'sqft_living15', 'sqft_lot15'],\n",
              "      dtype='object')"
            ]
          },
          "execution_count": 13,
          "metadata": {},
          "output_type": "execute_result"
        }
      ],
      "source": [
        "df.columns"
      ]
    },
    {
      "cell_type": "code",
      "execution_count": 14,
      "metadata": {
        "colab": {
          "base_uri": "https://localhost:8080/"
        },
        "id": "oqmtfoWf7IdB",
        "outputId": "6d5a44ad-4f66-4fc1-dd30-0f410d1141c8"
      },
      "outputs": [
        {
          "data": {
            "text/plain": [
              "(21613, 21)"
            ]
          },
          "execution_count": 14,
          "metadata": {},
          "output_type": "execute_result"
        }
      ],
      "source": [
        "df.shape"
      ]
    },
    {
      "cell_type": "markdown",
      "metadata": {
        "id": "yfd4niFb8B9u"
      },
      "source": [
        "The variables contained in the dataset are of three data types: int, float and object (string object). This can be demonstrated by calling the info() method on the DataFrame object."
      ]
    },
    {
      "cell_type": "code",
      "execution_count": 15,
      "metadata": {
        "colab": {
          "base_uri": "https://localhost:8080/"
        },
        "id": "lkAuNg5d9FJ5",
        "outputId": "370e7e59-4ccd-451d-fa29-aafacb21ee3d"
      },
      "outputs": [
        {
          "name": "stdout",
          "output_type": "stream",
          "text": [
            "<class 'pandas.core.frame.DataFrame'>\n",
            "RangeIndex: 21613 entries, 0 to 21612\n",
            "Data columns (total 21 columns):\n",
            " #   Column         Non-Null Count  Dtype  \n",
            "---  ------         --------------  -----  \n",
            " 0   id             21613 non-null  int64  \n",
            " 1   date           21613 non-null  object \n",
            " 2   price          21613 non-null  float64\n",
            " 3   bedrooms       21613 non-null  int64  \n",
            " 4   bathrooms      21613 non-null  float64\n",
            " 5   sqft_living    21613 non-null  int64  \n",
            " 6   sqft_lot       21613 non-null  int64  \n",
            " 7   floors         21613 non-null  float64\n",
            " 8   waterfront     21613 non-null  int64  \n",
            " 9   view           21613 non-null  int64  \n",
            " 10  condition      21613 non-null  int64  \n",
            " 11  grade          21613 non-null  int64  \n",
            " 12  sqft_above     21613 non-null  int64  \n",
            " 13  sqft_basement  21613 non-null  int64  \n",
            " 14  yr_built       21613 non-null  int64  \n",
            " 15  yr_renovated   21613 non-null  int64  \n",
            " 16  zipcode        21613 non-null  int64  \n",
            " 17  lat            21613 non-null  float64\n",
            " 18  long           21613 non-null  float64\n",
            " 19  sqft_living15  21613 non-null  int64  \n",
            " 20  sqft_lot15     21613 non-null  int64  \n",
            "dtypes: float64(5), int64(15), object(1)\n",
            "memory usage: 3.5+ MB\n"
          ]
        }
      ],
      "source": [
        "df.info()"
      ]
    },
    {
      "cell_type": "markdown",
      "metadata": {
        "id": "oicBZcnV_nNT"
      },
      "source": [
        "# Price distribution"
      ]
    },
    {
      "cell_type": "markdown",
      "metadata": {
        "id": "tX-TxXGB-vQe"
      },
      "source": [
        "The minimum price listed is 75,000, while the maximum price is 7,700,000. The mean price is 540,182. The most common prices are 450,000 and 350,000, each occurring 172 times and representing two modes. The median house price is 450,000."
      ]
    },
    {
      "cell_type": "code",
      "execution_count": 16,
      "metadata": {
        "colab": {
          "base_uri": "https://localhost:8080/"
        },
        "id": "b3f4ONrv9x2h",
        "outputId": "860e9740-0275-4207-ea7b-e7095cd5f3b4"
      },
      "outputs": [
        {
          "data": {
            "text/plain": [
              "75000.0"
            ]
          },
          "execution_count": 16,
          "metadata": {},
          "output_type": "execute_result"
        }
      ],
      "source": [
        "df.price.min()"
      ]
    },
    {
      "cell_type": "code",
      "execution_count": 17,
      "metadata": {
        "colab": {
          "base_uri": "https://localhost:8080/"
        },
        "id": "h6f7l4jV-i2i",
        "outputId": "0913785d-8f6c-4c18-c44f-2f1b73949f31"
      },
      "outputs": [
        {
          "data": {
            "text/plain": [
              "7700000.0"
            ]
          },
          "execution_count": 17,
          "metadata": {},
          "output_type": "execute_result"
        }
      ],
      "source": [
        "df.price.max()"
      ]
    },
    {
      "cell_type": "code",
      "execution_count": 18,
      "metadata": {
        "colab": {
          "base_uri": "https://localhost:8080/"
        },
        "id": "s-JmSrW2-qKp",
        "outputId": "347faf6b-feb0-426d-b151-f10fd61f15a9"
      },
      "outputs": [
        {
          "data": {
            "text/plain": [
              "540182.1587933188"
            ]
          },
          "execution_count": 18,
          "metadata": {},
          "output_type": "execute_result"
        }
      ],
      "source": [
        "df.price.mean()"
      ]
    },
    {
      "cell_type": "code",
      "execution_count": 19,
      "metadata": {
        "colab": {
          "base_uri": "https://localhost:8080/"
        },
        "id": "Hx5Ab8jgAejb",
        "outputId": "4b0a90bb-5a7a-474f-afad-ffa55ae5658a"
      },
      "outputs": [
        {
          "data": {
            "text/plain": [
              "450000.0    172\n",
              "350000.0    172\n",
              "550000.0    159\n",
              "500000.0    152\n",
              "425000.0    150\n",
              "           ... \n",
              "278800.0      1\n",
              "439888.0      1\n",
              "354901.0      1\n",
              "942000.0      1\n",
              "402101.0      1\n",
              "Name: price, Length: 3625, dtype: int64"
            ]
          },
          "execution_count": 19,
          "metadata": {},
          "output_type": "execute_result"
        }
      ],
      "source": [
        "df.price.value_counts()"
      ]
    },
    {
      "cell_type": "code",
      "execution_count": 20,
      "metadata": {
        "colab": {
          "base_uri": "https://localhost:8080/"
        },
        "id": "RZjf8wIFBcwQ",
        "outputId": "015b621b-ddca-4257-fb58-575a61700ed4"
      },
      "outputs": [
        {
          "data": {
            "text/plain": [
              "450000.0"
            ]
          },
          "execution_count": 20,
          "metadata": {},
          "output_type": "execute_result"
        }
      ],
      "source": [
        "price_list = df.price.values\n",
        "price_list.sort()\n",
        "median_index = int(len(price_list) / 2)\n",
        "price_list[median_index]"
      ]
    },
    {
      "cell_type": "markdown",
      "metadata": {
        "id": "AwIGGKJdF7SW"
      },
      "source": [
        "## Houses for millionaires"
      ]
    },
    {
      "cell_type": "markdown",
      "metadata": {
        "id": "wk496cLDGEOy"
      },
      "source": [
        "Out of curiosity, I was wondering how many units cost 1,000,000 or more. Using vanilla Python, I was able to retrieve this value. Only 1,492 (6.9%) of the houses cost more than 1,000,000."
      ]
    },
    {
      "cell_type": "code",
      "execution_count": 21,
      "metadata": {
        "colab": {
          "base_uri": "https://localhost:8080/"
        },
        "id": "0Uc3abP2Aj8L",
        "outputId": "372cbe8b-f052-4111-d35d-4b06b3b920bc"
      },
      "outputs": [
        {
          "data": {
            "text/plain": [
              "{'Under 1,000,000': 20121, '1,000,000 or higher': 1492}"
            ]
          },
          "execution_count": 21,
          "metadata": {},
          "output_type": "execute_result"
        }
      ],
      "source": [
        "price_list = list(df['price'])\n",
        "price_ranges = {'Under 1,000,000': 0, '1,000,000 or higher': 0}\n",
        "for i in range(len(price_list)):\n",
        "  if price_list[i] < 1000000:\n",
        "    price_ranges['Under 1,000,000'] += 1\n",
        "  else:\n",
        "    price_ranges['1,000,000 or higher'] += 1\n",
        "price_ranges"
      ]
    },
    {
      "cell_type": "markdown",
      "metadata": {
        "id": "kgM7yidRG693"
      },
      "source": [
        "# Geographical distribution"
      ]
    },
    {
      "cell_type": "markdown",
      "metadata": {
        "id": "L7xpEMg7IiAr"
      },
      "source": [
        "I wasn't sure how to analyze geographical data. However, a plot of longitude against latitude provides a visual description of the properties' relative locations (the plot was suggested by Colab, I have no knowledge how to produce it yet). From the graph, it seems they are all located in a single cluster with a few outliers. The primary cluster also appears to be divided at longitude -122.4, resulting in a smaller subcluster. This is probably due to a natural feature, such as a river, which is unbuildable."
      ]
    },
    {
      "cell_type": "code",
      "execution_count": 22,
      "metadata": {
        "colab": {
          "base_uri": "https://localhost:8080/"
        },
        "id": "jevDTP-qG8Z1",
        "outputId": "71cf612b-ad98-4425-968f-73a805b6d7ab"
      },
      "outputs": [
        {
          "data": {
            "text/plain": [
              "Index(['id', 'date', 'price', 'bedrooms', 'bathrooms', 'sqft_living',\n",
              "       'sqft_lot', 'floors', 'waterfront', 'view', 'condition', 'grade',\n",
              "       'sqft_above', 'sqft_basement', 'yr_built', 'yr_renovated', 'zipcode',\n",
              "       'lat', 'long', 'sqft_living15', 'sqft_lot15'],\n",
              "      dtype='object')"
            ]
          },
          "execution_count": 22,
          "metadata": {},
          "output_type": "execute_result"
        }
      ],
      "source": [
        "df.columns"
      ]
    },
    {
      "cell_type": "code",
      "execution_count": 23,
      "metadata": {
        "colab": {
          "base_uri": "https://localhost:8080/",
          "height": 960
        },
        "id": "G7g2faJ6H06T",
        "outputId": "564a41aa-42f0-4cac-f3e1-618c8cecc480"
      },
      "outputs": [
        {
          "data": {
            "text/html": [
              "\n",
              "\n",
              "  <div id=\"df-7d845080-8c3c-4a5b-9877-4ec2a2341319\">\n",
              "    <div class=\"colab-df-container\">\n",
              "      <div>\n",
              "<style scoped>\n",
              "    .dataframe tbody tr th:only-of-type {\n",
              "        vertical-align: middle;\n",
              "    }\n",
              "\n",
              "    .dataframe tbody tr th {\n",
              "        vertical-align: top;\n",
              "    }\n",
              "\n",
              "    .dataframe thead th {\n",
              "        text-align: right;\n",
              "    }\n",
              "</style>\n",
              "<table border=\"1\" class=\"dataframe\">\n",
              "  <thead>\n",
              "    <tr style=\"text-align: right;\">\n",
              "      <th></th>\n",
              "      <th>lat</th>\n",
              "      <th>long</th>\n",
              "    </tr>\n",
              "  </thead>\n",
              "  <tbody>\n",
              "    <tr>\n",
              "      <th>0</th>\n",
              "      <td>47.5112</td>\n",
              "      <td>-122.257</td>\n",
              "    </tr>\n",
              "    <tr>\n",
              "      <th>1</th>\n",
              "      <td>47.7210</td>\n",
              "      <td>-122.319</td>\n",
              "    </tr>\n",
              "    <tr>\n",
              "      <th>2</th>\n",
              "      <td>47.7379</td>\n",
              "      <td>-122.233</td>\n",
              "    </tr>\n",
              "    <tr>\n",
              "      <th>3</th>\n",
              "      <td>47.5208</td>\n",
              "      <td>-122.393</td>\n",
              "    </tr>\n",
              "    <tr>\n",
              "      <th>4</th>\n",
              "      <td>47.6168</td>\n",
              "      <td>-122.045</td>\n",
              "    </tr>\n",
              "    <tr>\n",
              "      <th>...</th>\n",
              "      <td>...</td>\n",
              "      <td>...</td>\n",
              "    </tr>\n",
              "    <tr>\n",
              "      <th>21608</th>\n",
              "      <td>47.6993</td>\n",
              "      <td>-122.346</td>\n",
              "    </tr>\n",
              "    <tr>\n",
              "      <th>21609</th>\n",
              "      <td>47.5107</td>\n",
              "      <td>-122.362</td>\n",
              "    </tr>\n",
              "    <tr>\n",
              "      <th>21610</th>\n",
              "      <td>47.5944</td>\n",
              "      <td>-122.299</td>\n",
              "    </tr>\n",
              "    <tr>\n",
              "      <th>21611</th>\n",
              "      <td>47.5345</td>\n",
              "      <td>-122.069</td>\n",
              "    </tr>\n",
              "    <tr>\n",
              "      <th>21612</th>\n",
              "      <td>47.5941</td>\n",
              "      <td>-122.299</td>\n",
              "    </tr>\n",
              "  </tbody>\n",
              "</table>\n",
              "<p>21613 rows × 2 columns</p>\n",
              "</div>\n",
              "      <button class=\"colab-df-convert\" onclick=\"convertToInteractive('df-7d845080-8c3c-4a5b-9877-4ec2a2341319')\"\n",
              "              title=\"Convert this dataframe to an interactive table.\"\n",
              "              style=\"display:none;\">\n",
              "\n",
              "  <svg xmlns=\"http://www.w3.org/2000/svg\" height=\"24px\"viewBox=\"0 0 24 24\"\n",
              "       width=\"24px\">\n",
              "    <path d=\"M0 0h24v24H0V0z\" fill=\"none\"/>\n",
              "    <path d=\"M18.56 5.44l.94 2.06.94-2.06 2.06-.94-2.06-.94-.94-2.06-.94 2.06-2.06.94zm-11 1L8.5 8.5l.94-2.06 2.06-.94-2.06-.94L8.5 2.5l-.94 2.06-2.06.94zm10 10l.94 2.06.94-2.06 2.06-.94-2.06-.94-.94-2.06-.94 2.06-2.06.94z\"/><path d=\"M17.41 7.96l-1.37-1.37c-.4-.4-.92-.59-1.43-.59-.52 0-1.04.2-1.43.59L10.3 9.45l-7.72 7.72c-.78.78-.78 2.05 0 2.83L4 21.41c.39.39.9.59 1.41.59.51 0 1.02-.2 1.41-.59l7.78-7.78 2.81-2.81c.8-.78.8-2.07 0-2.86zM5.41 20L4 18.59l7.72-7.72 1.47 1.35L5.41 20z\"/>\n",
              "  </svg>\n",
              "      </button>\n",
              "\n",
              "\n",
              "\n",
              "    <div id=\"df-05c96587-a4b8-4622-b6a9-993421aa8058\">\n",
              "      <button class=\"colab-df-quickchart\" onclick=\"quickchart('df-05c96587-a4b8-4622-b6a9-993421aa8058')\"\n",
              "              title=\"Suggest charts.\"\n",
              "              style=\"display:none;\">\n",
              "\n",
              "<svg xmlns=\"http://www.w3.org/2000/svg\" height=\"24px\"viewBox=\"0 0 24 24\"\n",
              "     width=\"24px\">\n",
              "    <g>\n",
              "        <path d=\"M19 3H5c-1.1 0-2 .9-2 2v14c0 1.1.9 2 2 2h14c1.1 0 2-.9 2-2V5c0-1.1-.9-2-2-2zM9 17H7v-7h2v7zm4 0h-2V7h2v10zm4 0h-2v-4h2v4z\"/>\n",
              "    </g>\n",
              "</svg>\n",
              "      </button>\n",
              "    </div>\n",
              "\n",
              "<style>\n",
              "  .colab-df-quickchart {\n",
              "    background-color: #E8F0FE;\n",
              "    border: none;\n",
              "    border-radius: 50%;\n",
              "    cursor: pointer;\n",
              "    display: none;\n",
              "    fill: #1967D2;\n",
              "    height: 32px;\n",
              "    padding: 0 0 0 0;\n",
              "    width: 32px;\n",
              "  }\n",
              "\n",
              "  .colab-df-quickchart:hover {\n",
              "    background-color: #E2EBFA;\n",
              "    box-shadow: 0px 1px 2px rgba(60, 64, 67, 0.3), 0px 1px 3px 1px rgba(60, 64, 67, 0.15);\n",
              "    fill: #174EA6;\n",
              "  }\n",
              "\n",
              "  [theme=dark] .colab-df-quickchart {\n",
              "    background-color: #3B4455;\n",
              "    fill: #D2E3FC;\n",
              "  }\n",
              "\n",
              "  [theme=dark] .colab-df-quickchart:hover {\n",
              "    background-color: #434B5C;\n",
              "    box-shadow: 0px 1px 3px 1px rgba(0, 0, 0, 0.15);\n",
              "    filter: drop-shadow(0px 1px 2px rgba(0, 0, 0, 0.3));\n",
              "    fill: #FFFFFF;\n",
              "  }\n",
              "</style>\n",
              "\n",
              "    <script>\n",
              "      async function quickchart(key) {\n",
              "        const containerElement = document.querySelector('#' + key);\n",
              "        const charts = await google.colab.kernel.invokeFunction(\n",
              "            'suggestCharts', [key], {});\n",
              "      }\n",
              "    </script>\n",
              "\n",
              "      <script>\n",
              "\n",
              "function displayQuickchartButton(domScope) {\n",
              "  let quickchartButtonEl =\n",
              "    domScope.querySelector('#df-05c96587-a4b8-4622-b6a9-993421aa8058 button.colab-df-quickchart');\n",
              "  quickchartButtonEl.style.display =\n",
              "    google.colab.kernel.accessAllowed ? 'block' : 'none';\n",
              "}\n",
              "\n",
              "        displayQuickchartButton(document);\n",
              "      </script>\n",
              "      <style>\n",
              "    .colab-df-container {\n",
              "      display:flex;\n",
              "      flex-wrap:wrap;\n",
              "      gap: 12px;\n",
              "    }\n",
              "\n",
              "    .colab-df-convert {\n",
              "      background-color: #E8F0FE;\n",
              "      border: none;\n",
              "      border-radius: 50%;\n",
              "      cursor: pointer;\n",
              "      display: none;\n",
              "      fill: #1967D2;\n",
              "      height: 32px;\n",
              "      padding: 0 0 0 0;\n",
              "      width: 32px;\n",
              "    }\n",
              "\n",
              "    .colab-df-convert:hover {\n",
              "      background-color: #E2EBFA;\n",
              "      box-shadow: 0px 1px 2px rgba(60, 64, 67, 0.3), 0px 1px 3px 1px rgba(60, 64, 67, 0.15);\n",
              "      fill: #174EA6;\n",
              "    }\n",
              "\n",
              "    [theme=dark] .colab-df-convert {\n",
              "      background-color: #3B4455;\n",
              "      fill: #D2E3FC;\n",
              "    }\n",
              "\n",
              "    [theme=dark] .colab-df-convert:hover {\n",
              "      background-color: #434B5C;\n",
              "      box-shadow: 0px 1px 3px 1px rgba(0, 0, 0, 0.15);\n",
              "      filter: drop-shadow(0px 1px 2px rgba(0, 0, 0, 0.3));\n",
              "      fill: #FFFFFF;\n",
              "    }\n",
              "  </style>\n",
              "\n",
              "      <script>\n",
              "        const buttonEl =\n",
              "          document.querySelector('#df-7d845080-8c3c-4a5b-9877-4ec2a2341319 button.colab-df-convert');\n",
              "        buttonEl.style.display =\n",
              "          google.colab.kernel.accessAllowed ? 'block' : 'none';\n",
              "\n",
              "        async function convertToInteractive(key) {\n",
              "          const element = document.querySelector('#df-7d845080-8c3c-4a5b-9877-4ec2a2341319');\n",
              "          const dataTable =\n",
              "            await google.colab.kernel.invokeFunction('convertToInteractive',\n",
              "                                                     [key], {});\n",
              "          if (!dataTable) return;\n",
              "\n",
              "          const docLinkHtml = 'Like what you see? Visit the ' +\n",
              "            '<a target=\"_blank\" href=https://colab.research.google.com/notebooks/data_table.ipynb>data table notebook</a>'\n",
              "            + ' to learn more about interactive tables.';\n",
              "          element.innerHTML = '';\n",
              "          dataTable['output_type'] = 'display_data';\n",
              "          await google.colab.output.renderOutput(dataTable, element);\n",
              "          const docLink = document.createElement('div');\n",
              "          docLink.innerHTML = docLinkHtml;\n",
              "          element.appendChild(docLink);\n",
              "        }\n",
              "      </script>\n",
              "    </div>\n",
              "  </div>\n"
            ],
            "text/plain": [
              "           lat     long\n",
              "0      47.5112 -122.257\n",
              "1      47.7210 -122.319\n",
              "2      47.7379 -122.233\n",
              "3      47.5208 -122.393\n",
              "4      47.6168 -122.045\n",
              "...        ...      ...\n",
              "21608  47.6993 -122.346\n",
              "21609  47.5107 -122.362\n",
              "21610  47.5944 -122.299\n",
              "21611  47.5345 -122.069\n",
              "21612  47.5941 -122.299\n",
              "\n",
              "[21613 rows x 2 columns]"
            ]
          },
          "execution_count": 23,
          "metadata": {},
          "output_type": "execute_result"
        },
        {
          "data": {
            "text/html": [
              "<h4 class=\"colab-quickchart-section-title\">Values</h4>\n",
              "<style>\n",
              "  .colab-quickchart-section-title {\n",
              "      clear: both;\n",
              "  }\n",
              "</style>"
            ],
            "text/plain": [
              "<google.colab._quickchart_helpers.SectionTitle at 0x78fffb0975e0>"
            ]
          },
          "metadata": {},
          "output_type": "display_data"
        },
        {
          "data": {
            "text/html": [
              "      <div class=\"colab-quickchart-chart-with-code\" id=\"chart-3c368258-9a26-47f6-8c65-d37209f41718\">\n",
              "        <img src=\"data:image/png;base64,iVBORw0KGgoAAAANSUhEUgAAAMYAAABgCAYAAABG3g2uAAAAOXRFWHRTb2Z0d2FyZQBNYXRwbG90\n",
              "bGliIHZlcnNpb24zLjcuMSwgaHR0cHM6Ly9tYXRwbG90bGliLm9yZy/bCgiHAAAACXBIWXMAAA9h\n",
              "AAAPYQGoP6dpAAANKElEQVR4nO3dfUwUdxoH8O/A8iKvgsgiKruuvKgVFkEWqvYUKdG0er5dk4sa\n",
              "X6IBMT3kNDRtqpKaO+s1hujhXamchVgUicW217NN64lFTk/wRA/rHSqty+7xJr7xpouw+7s/iKML\n",
              "A+wu+yLD80k2ceb3m9lnNV9nhn1m4BhjDIQQI06OLoCQlxEFgxABFAxCBFAwCBFAwSBEAAWDEAEU\n",
              "DEIEUDAIEUDBIEQABWMEW7BgAXbu3OnoMkSJgjFKUIjMQ8EgRAAFQyRSUlIgl8vh5eWFKVOmICsr\n",
              "CwaDAQCwZcsWlJeX46OPPoKXlxe8vLwcXO3Lj4IhEiqVChUVFWhvb0dRUREOHTqEvLw8AEBubi5e\n",
              "e+01vPPOO+jo6EBHR4eDq335UTBEYvPmzZBKpeA4DgkJCVi7di2+//57R5c1YkkcXQAZPsYY9u7d\n",
              "i+PHj6OhoQGMMeh0OsTFxTm6tBGLjhgicOLECRw4cABHjx7FvXv38OjRI6SmpuLFe9CcnOif2hz0\n",
              "tyUCra2tkEgkCAwMBMdxOHfuHAoLC43mBAUF4datWw6qcOShYIjAhg0bkJSUhMjISAQEBCA3Nxdr\n",
              "1641mrNjxw7cvHkTfn5+GDt2rGMKHUE4uuebkP7oiEGIAAoGIQIoGIQIoGAQIoCCQYgACgYhAigY\n",
              "hAiwOBj5+fngOA5ffvklACA+Ph7R0dGIjo7GzJkzwXEcqqur+213/fp1fl50dDTkcjn8/f35cblc\n",
              "joiICH68uLjYrLoOHjxo6UcihGdRE6FarUZeXh4SEhL4dRUVFfyfP//8c3zwwQeIiorqt21kZCSu\n",
              "XbvGL7/99tvgOM5oTnFxMaKjoy0pDXV1df3WnajU4N1T1y3aH3E8H3cJgnzdcat58Hb516dL8fsV\n",
              "MyH1cR/2e5p9xDAYDNi8eTNycnLg5uYmOOfIkSPYtGnTkPvS6XQ4duyYSXMtxRijUIxwbbqeIUMB\n",
              "AH//bzN+eegfVnlPs48Y2dnZmDt3LmJjYwXHtVotysrK8Nlnnw25r1OnTkGhUPQ7Oqxbtw6MMahU\n",
              "Kuzbtw/jx48X3L6rqwtdXV1G6/R6vdFyxZ0HQ9ZBxKO5rWvoSSYw64jx448/oqSkZNCb6gsKCrBk\n",
              "yRIEBAQMuT+hI8v58+dRXV2NqqoqBAQEYP369QNu/+GHH8LX19foVVlZaTTnYefTIesgpC+zglFe\n",
              "Xg61Wo2wsDDI5XJcunQJKSkp+PjjjwH0nrbk5+ebdGp0584dXLp0CatXrzZaHxISAgBwcXFBRkYG\n",
              "ysvLB9zHe++9h9bWVqOXSqUymnOfgkEsYNapVFpaGtLS0vjlBQsWICMjA8uXLwcAlJaWoqenB8nJ\n",
              "yUPu69NPP8WKFSuMWqA7OzvR3d3NrysqKsKsWbMG3Iebm1u/6xxnZ2ejZWodJpaw6q2tR44cwcaN\n",
              "G/vdLZabm4uGhgbs2bMHQO8FfEFBAY4ePWo0r7m5GatWrYJerwdjDAqFot8cc1FXPbHEsILxww8/\n",
              "GC0fP35ccN6WLVuMlp2cnKDVavvNUygUuHr16nBK6kdvoGAQ84n+m286YBBLiD4YBkoGsQAFgxAB\n",
              "og8G5YJYwu5NhADAcRwiIyP5+S9+V1FRUQGlUonw8HAsXLgQ9fX1lpYIANBTMogF7N5E+Ex5eXm/\n",
              "x7gYDAasWbMGeXl5SExMxP79+5GRkYGTJ09aUiYAOmIQyzi0ibCvK1euQCKRIDExEQCQmpqKr7/+\n",
              "Gjqdzux9PUM/riWWMDsYpjYR9n3gV19JSUlQKpXYvn07Ojs7AQAajQYymYyf4+3tDR8fHzQ0NAju\n",
              "o6urC21tbUavvk2EPRQMYgGHNBHW1dXhypUruHjxIlpaWpCZmWlOGTxTmgglTtwAWxMyMIc0ET5r\n",
              "FPT09MTWrVv5i++QkBCjG43a29vR2tqK4OBgwf2Y0kQ4Y4KPOR+REABmBiMtLQ2NjY1Qq9VQq9VI\n",
              "SEjA4cOH+cZCU5oIHz58iMePHwPovV4pLi7mGwVjY2PR3d2Nc+fOAQA++eQTLF26FO7uwndkubm5\n",
              "wcfHx+jVt4mQvscglrB7E2FNTQ1SU1PBcRx6enoQExPD36ft5OSEwsJCpKamQqfTITg42KQbngZD\n",
              "lxjEEqJ7qPP27duRnZ3NL39zvRFbj1U5sCJib+p9bw57H6L/5ptOpYglRkEwHF0BGYlEHwyRnSkS\n",
              "OxF9MOhUilhC9MHQGxxdARmJ7N5d29DQgEWLFiEiIgJRUVFYtWoVWlpa+PHhPqKzLzpiEEvYvbvW\n",
              "2dkZu3btwrx58wAAmZmZyMzMREFBAT9nOI/o7CtpWqBV9kNGF7t310qlUj4UQO+RRq1Wm1uGycZ5\n",
              "CddIyGAc+ohOvV6PQ4cOYdmyZUbrrfmITjK6XH7/davsx2GP6GSMYevWrfDz88O2bdv49dZ+RCcZ\n",
              "XcZ7W+cMwWGP6ExPT4dWq0VxcbFRb5W1H9Fpig1z5GZvYynfMS5QTfEfeiIxot73Jv+KnjzW5u9n\n",
              "9+5aoDcUtbW1+OKLL+Dq6sqv7+zsxKNHj/hlUx7ROVR3LQCM9XAZtJ4pAZ6DjluTgTEoJ/na7f3E\n",
              "iLPDLTZW/R5jsO7a3bt3AwAuXLiAnJwcqNVq/ke8K1asAND7iM7ExERERUUhMjISZWVlw35EJwAU\n",
              "boofdHx1fAg+WhUF5SRfpC8MFZwzceyYYdcBAGviZfhtcjh2JIfj5JZXrbLP3ywMhWJ8b7gn+Y3B\n",
              "zjenY0FE73VZsK871r0qwxuRQfz899+YbtH7vLgPAPjzmhij5aHuCStOScCR9bOxVCl8f42pFr0S\n",
              "JLheacUjiei7a5+52dSORQfO88slaXNwt02HpOlSuEqMg8wYw1//3YBtJ67x69KTwvDHs7cBAB6u\n",
              "zvjPnsXQdeux/E8X8FNLB6ZP8EHW0hmoqnuE0pq7WBAxHgmKcahpasOur25gTXwIkqZJEa/wh4vz\n",
              "8/f76lo9vrneiO9uNCPIxx1Nbc/vb9+9ZAbCpd6YM3UcVHvPwtWZw8m0OZi7rxRBPu7IWT0L04K8\n",
              "4e3uAsYYqjQPESb1ho+78BHy0s/30fDoCVbGTIL83dOm/X0mh+NGQytSfjEVsTI/6A0MJVX/g5+H\n",
              "K5JnSPEv9QP8KvefAPp3tf6tugGHSmvRruvB71bMRGLE8x+dGwwMf/iuBjJ/T5TW3MXyWcFYOC0Q\n",
              "Hq4S9OgN+PXhSwgN9MJSZTDGuDojJsSP37ZHb8CxCg2KKjXYMn8qHj/V43p9KzIXRcDf0xXWMGqC\n",
              "AQA/t3SgqU0HRYAXgnxN+3VUbbpuXKl7iHmhAZizrxQt7V14fXog/rI+zppl8x52PsX52y1Y9EoQ\n",
              "3F2enxY++2fiOA73Orrg7S6Bm6T/aaOptA8eo7lNh4s/3Uf2mVv8+uOb4zHJzwO+Y1zgO8QpKAA0\n",
              "t+kQv/csAOu0e78sRlUwhkv74DFOVdVj3asy+Fnpf6aXQVePHk4ch6ZWHSb7e5i9fZXmIbzdJAiT\n",
              "etugOscQXTBWrlwJuVxutE6v16OyshIqlUrw4nykE/vnA4b/GWUymdHXAkMRXTCEtLW1wdfXF62t\n",
              "rfDxEd/DEcT++QD7f0bRd9cSYgkKBiECKBiECBgVwXBzc0NWVtaA3cAjndg/H2D/zzgqLr4JMdeo\n",
              "OGIQYi4KBiECKBiECBB9MG7fvo05c+YgPDwccXFxuHHjhqNLEpSeng65XA6O43Dt2jV+/WD122LM\n",
              "VnQ6HZYvX47w8HAolUokJyejtrYWAHD37l0sXrwYYWFhmDlzJs6ff97saYsxkzCRS0xMZPn5+Ywx\n",
              "xk6ePMlmz57t2IIGUFZWxrRaLZPJZOzq1av8+sHqt8WYrTx58oSdPn2aGQwGxhhjOTk5bP78+Ywx\n",
              "xjZu3MiysrIYY4xVVlayiRMnsqdPn9pszBSiDkZzczPz9vZm3d3djDHGDAYDk0ql7Pbt2w6ubGAv\n",
              "BmOw+m0xZk+XL19mMpmMMcaYp6cna2xs5Mfi4uLYmTNnbDZmClGfSmm1WkyYMAESSe8zHziOQ0hI\n",
              "CDQajYMrM81g9dtizJ4OHjyIZcuW4f79++ju7kZQ0PObj+RyOTQajU3GTGXV349BiCn27t2L2tpa\n",
              "nD17Fk+ePHF0OYJEfcSYPHkyGhsb0dPTA6D3Zh+NRsM/cOFlN1j9thizh/379+PUqVP49ttv4eHh\n",
              "gXHjxkEikaCpqYmfo1arERISYpMxU4k6GIGBgYiJiUFhYSEAoKSkBJMmTUJoqPB93S+bweq3xZit\n",
              "ZWdno6ioCGfOnDH6He9vvfUWcnNzAQCXL19GfX095s+fb7Mxk5h1xTQC1dTUsISEBBYWFsZiY2NZ\n",
              "dXW1o0sSlJKSwiZOnMicnZ1ZYGAgmzp1KmNs8PptMWYrWq2WAWAKhYIplUqmVCqZSqVijDHW1NTE\n",
              "kpOTWWhoKJsxYwYrLS3lt7PFmCmoV4oQAaI+lSLEUhQMQgRQMAgRQMEgRAAFgxABFAxCBFAwCBFA\n",
              "wSBEAAWDEAEUDEIEUDAIEfB/nMIViquczEwAAAAASUVORK5CYII=\n",
              "\">\n",
              "        \n",
              "      </div>\n",
              "      <script></script>\n",
              "      <script type=\"text/javascript\">\n",
              "        (() => {\n",
              "          const chartElement = document.getElementById(\"chart-3c368258-9a26-47f6-8c65-d37209f41718\");\n",
              "          async function getCodeForChartHandler(event) {\n",
              "            const chartCodeResponse =  await google.colab.kernel.invokeFunction(\n",
              "                'getCodeForChart', [\"chart-3c368258-9a26-47f6-8c65-d37209f41718\"], {});\n",
              "            const responseJson = chartCodeResponse.data['application/json'];\n",
              "            await google.colab.notebook.addCell(responseJson.code, 'code');\n",
              "          }\n",
              "          chartElement.onclick = getCodeForChartHandler;\n",
              "        })();\n",
              "      </script>\n",
              "      <style>\n",
              "        .colab-quickchart-chart-with-code  {\n",
              "            display: block;\n",
              "            float: left;\n",
              "            border: 1px solid transparent;\n",
              "        }\n",
              "\n",
              "        .colab-quickchart-chart-with-code:hover {\n",
              "            cursor: pointer;\n",
              "            border: 1px solid #aaa;\n",
              "        }\n",
              "      </style>"
            ],
            "text/plain": [
              "import numpy as np\n",
              "from google.colab import autoviz\n",
              "\n",
              "def value_plot(df, y, sort_ascending=False, figscale=1):\n",
              "  from matplotlib import pyplot as plt\n",
              "  figsize = (8 * figscale, 4 * figscale)\n",
              "  if sort_ascending:\n",
              "    df = df.sort_values(y).reset_index(drop=True)\n",
              "  _, ax = plt.subplots(figsize=figsize)\n",
              "  df[y].plot(kind='line')\n",
              "  plt.title(y)\n",
              "  ax.spines[['top', 'right',]].set_visible(False)\n",
              "  plt.tight_layout()\n",
              "  return autoviz.MplChart.from_current_mpl_state()\n",
              "\n",
              "chart = value_plot(_df_0, *['lat'], **{})\n",
              "chart"
            ]
          },
          "metadata": {},
          "output_type": "display_data"
        },
        {
          "data": {
            "text/html": [
              "      <div class=\"colab-quickchart-chart-with-code\" id=\"chart-4508a4bc-9e1c-4608-b5a7-bbd3e22ac0d3\">\n",
              "        <img src=\"data:image/png;base64,iVBORw0KGgoAAAANSUhEUgAAAMcAAABgCAYAAACpHGaQAAAAOXRFWHRTb2Z0d2FyZQBNYXRwbG90\n",
              "bGliIHZlcnNpb24zLjcuMSwgaHR0cHM6Ly9tYXRwbG90bGliLm9yZy/bCgiHAAAACXBIWXMAAA9h\n",
              "AAAPYQGoP6dpAAASt0lEQVR4nO2deVRT177HvwFqWuZWKmLCoAZwAEFRCloLClQBXVi9Pp+1k3dR\n",
              "62q5aml92tbqtbVq+xSluqj6XsGqt5br9BxQKM5jZVQURAHBhEkhYgCFAMl+fyBHMpyQQEIY9met\n",
              "s5bZ42/j/p59zt6/vQ+HEEJAoVBUMDG2ARRKT4WKg0JhgYqDQmGBioNCYYGKg0JhgYqDQmGBioNC\n",
              "YYGKg0JhgYqDQmGBiqOXEhgYiFWrVhnbjD4NFQeFwgIVB4XCAhVHH+DOnTsIDQ2FnZ0d+Hw+Pvnk\n",
              "E0gkEiY+MDAQS5cuxbvvvgsbGxs4Ojril19+USgjISEBAoEAVlZWmD17NqKiohAYGNjNLelZUHH0\n",
              "curq6hAcHIxRo0ZBKBQiPT0d+fn5+PDDDxXS7d69G5GRkaipqcHWrVsRFRWFwsJCAMDFixexePFi\n",
              "bNu2DU+ePEFkZCTi4+ON0ZweBRVHL+fEiRNoamrCjz/+CHNzczg4OGDr1q04evQoKisrmXRz5szB\n",
              "1KlTYWJigjlz5uC1115DZmYmAGDPnj2IiIhAaGgoTE1NERYWhrCwMGM1qcdAxdHLEYlEcHZ2hpmZ\n",
              "GRMmEAgAAEKhkAkbMmSIQj4LCwvU1dUBAMrKyuDs7KwQ7+LiYiCLew9UHL0cR0dHCIVCtLS0MGFF\n",
              "RUUAACcnJ63K4PF4ePDggUKY8u/+CBVHLyc8PBxmZmb4+uuv0dDQgMrKSnz++eeYOXMmBg8erFUZ\n",
              "77//Po4ePYqUlBTIZDIkJyfj5MmTBra850PF0cuxtrZGamoqbt68CT6fDx8fHwgEAvz2229alxEQ\n",
              "EIC4uDh8+umnsLW1xc6dO7FgwQK8/PLLBrS858Ohe8gp6pg1axbs7e2xc+dOY5tiNOjIQQEAHDp0\n",
              "CLW1tWhubkZiYiJOnDiBBQsWGNsso2LWcRJKf+D48eP4+OOP0dTUBGdnZ8THx+Ott94ytllGhT5W\n",
              "USgs0McqCoUFKg4KhQUqDgqFBSoOCoWFfimO2NhYY5tA6QX0S3Ho22/os39lYd7Oa5DLFSf+quul\n",
              "CPzvc9h2pkCv9XUGQgi++PdN/PNYrlbpk3Iq4LIyCZM2nkVVnVQlXih+hq+P3EJx9VN9m9pj6Jfi\n",
              "0BcX7lXhq8M5SLpVgevFj3HvUZ1CfNy5IpSIn2Fz6j2N5ZQ9aUBY7CUczCzVm22PnzZh5rbL2H2l\n",
              "GAAgetyAQ1ml2H21BC0yeYf5P/s9i7FtXVKeSvyHCWn4/boQ/7nrmlb2tMjk2HWxCLdKJR0nVuJE\n",
              "TjlO3qrQOV9X0as4kpKS4OPjAy6Xi2XLlinE/fzzz/Dw8ICnpyfGjBmDffv2MXHp6emYOHEizM3N\n",
              "MWvWLI11BAYGYujQofD29oa3tze2bNmizyboxIfxadifJmJ+y5X6nEwpgBACmVx1WWntsVzkVdTi\n",
              "ywM39Wbb9rOFuFUmwT+Pt3bslna26Lqw1TZyFFXV43BWKeRywowYD2tVRxV1/J4mxPqT+Zi5/bJO\n",
              "ddc2NiPq92x8+q8sJN+uwKPaRrXp8sprcS7/kU5ld4ReV8hdXV0RHx+PAwcOoL6+XiFu9OjRuHLl\n",
              "CmxsbCASiTB27Fj4+/tj+PDhzAad7OxsnDp1qsN6tmzZ0qGIjAFR6nbKnXDpHzdwtUiMc18GwOrl\n",
              "l5jwZ00yvdvS2KJYJofDeWFXJ5d9gzZfAACYtCtLW+5U1HaqzoZ2f5vF+7IwwMwE99aFqqQL+/kS\n",
              "ACBl2VtwH2zVqbqU0evI4ebmBi8vL4WNN20EBQXBxsYGQOsehMGDB0Mkar3r8vl8+Pr6gsvl6tOc\n",
              "bqejTnfsZjmq66U4devFDr26xmZcLqzWuy3K3bf9b2URd1iWUmHZwhqd7Wls7vhRTpu6m1o0l3O/\n",
              "ql5jvC4Y5Z3j9OnTqKmpwYQJEzqVf+XKlfD09MS8efNw//59jWmlUilqa2sVLplM/3dqXWjfOb/4\n",
              "t/4epdqjfHc30cPIweTvRJ4j2WWdqoujInPN6NMXSidx+Pv7w87OTu3VNgp0xK1bt7Bw4UIkJibC\n",
              "wsJCZ4P37t2L/Px85OTkYPLkyZgxY4bG9Bs2bICNjY3ClZaWpnO9+qR95/wz76FB6lC+47b/ras4\n",
              "dO2gfQWdxHHt2jVUV1ervRwdHTvMn5eXhxkzZiA+Ph5vvvlmpwxuq4fD4SAqKgr379+HWCxmTf/V\n",
              "V19BIpEoXL6+vp2quyO07XTd4empqTvr+lhlTEx01KU+3Wi7zWX9zp07CAsLw65duxASEtKpMlpa\n",
              "WiAWi2Fvbw+gdQ+Cvb09Bg4cyJqHy+WqvMuYmpp2qv6OUHkhZ/mP6g4/aI7S0NGVkcOYKLejO9Hr\n",
              "O8eZM2fA5/MRExODX3/9FXw+H8eOHQMALFmyBBKJBCtWrGCmYVNSUgAAd+/eBZ/PR3R0NFJSUsDn\n",
              "8xEXFwcAyMjIYI6JkUqlCA8Ph6enJ7y8vBAXF8eU3xO4cLcKV7V4ue6OO7dyn1J45zB47fpD55FD\n",
              "j63T68gRFBSE0lL1C1mpqams+dzd3VnzjR8/ntnsb2FhgYyMjK4baiDaFvvurQvFADMTlQ7ahqY7\n",
              "NyFEL3dL5feE9kXKuzh0KGfvjM3a5jHm+w5dIX9OlrAGfuvPYMS3p5BfqTonfyizFOtO5EGbvWFN\n",
              "Mjlul0lYO6GmEt5Yfwbv/3odp9qtCFfVSZlV7bTix5j801ks2pOBusZmAEDN0ybsTxPibmUdUnIr\n",
              "QQhRueO2yF7Uqs6s9lOkCxMUJyw4nNZFtjaU12XWHs+DuP7FYuCFe1VwWZmERXsy0NisOjO47I9s\n",
              "TNt6EdIW9bOG0hYZ8sprQQiBqOaZ2jRs9Mp3jp7O7LirzL+nb72En/42BnN9+Mzd7Yvnq9eT3V5H\n",
              "gNvraNbgguGxJkUlLPZ0O/+q5/+DRWrm5B/VSfGoTopLBdXIXBWMR3VShMZeUkknetyAbWcL8XXY\n",
              "SHyyNxNpJY+ZOHd7K7jYmTO/XVYmKeSVNsuAV1oXIWVyguUHb+JwVhneGcvDlnneOHe3SiG9TE6Y\n",
              "RTYAOJSlOMrvvlqC3VdL4G5vhc+mCrBkfzaA1pm4oM0XcGXlVIX0/3ejHABw6lYlXOws4G5vheM5\n",
              "5bhcUI01M0dhWeINXCpgfzwtfFSHrAdP8PPZAqyYPgL/eF4foN9Hxn65TTY6OhoxMTEKYcodqI3L\n",
              "K6bgk72ZyH1+55w4fCBcB1nit2tdc160GGCKp3pYGR/nZIss4ROd891YHYKdF+/jl/NFCuElG8NV\n",
              "/hbjnV9FxgPdF/7a+CZsJH44eUertNNG2yMlt/PT2548Gxz/R+dmQpWhI0cHvPnjOYXfV4vEuFrE\n",
              "PnWsLfoQBoBOCQMAvjlyG0lqnPmq61V9pW6X6+4s2B5thQEAt8s652bSxq0yCZpa5Bhg1vU3BvrO\n",
              "0U9p/xjWnvHrTquEddb1ozOUPWnochnqnDs7AxVHP0XdHo2+Qr20peNEWtAjXNb/+OMPeHt7w8PD\n",
              "Ax4eHti8eTNrHc+ePcP8+fMhEAjg5uaGgwcP6rMJlD7Ae/97XS/l9AiXdUdHRyQnJ2Pw4MGQSCTw\n",
              "8fGBj4+P2i8Lbdq0CVwuF4WFhSguLsYbb7yBKVOmaFwl74h+OCfRp7n7sK7jRFrQI1zWJ02axJwI\n",
              "bmNjgxEjRqCkpERtHYmJiVi8eDEAYOjQoQgMDMSRI0e6ZLc+d+BR+g5Gma3S5LKel5eHa9euYceO\n",
              "HWrzCoVChQ+tuLi4KHykRRmpVAqpVPH5Wtll/cfkfF3Mp/QTepTLemlpKSIiIrBjxw7w+XxdTGNF\n",
              "G5f16vomvdRF6Vv0GJf18vJyBAcHY9WqVZg7dy5rGU5OTgqnh5SUlGj8glF3uqxT+hbdNpWryWW9\n",
              "oqICQUFBWLFihcpXUJWZO3cu88hVXFyM8+fPa9xPzuVyYW1trXAZymWd0rfoES7rq1evhlAoRGxs\n",
              "LBOXkJAAoHVE8fb2ZupYvnw5GhoaMHz4cEybNg3bt2+HnZ2dPptBoQCgvlUA2P2qKL2Xko3hXS6D\n",
              "rpBTKCxQcVAoLFBxUCgsUHFQKCxQcVAoLPQ6r9yPPvoIPB6PmfJdvny5PptAoTD0Oq9coHWtQ1l8\n",
              "XeGnv43Bfx3M0Vt5FOPywzseeimn13nlGgJPno1K2N8nDUWE95Bus8EYzB7HUxv+psBwi6qWXP36\n",
              "ukZNEeDm6rdxOjoAdpYDsCTIFfMnsLsT6UKPO0i6zSs3ODiYNX9sbCzGjBmDGTNm4MaNGxrr0uYg\n",
              "6ZEO1lgVPlIhbPXMUXAZ2PFZvjve8+kwDRtjnWzxltvrCmG5a6dBMMhS6zKsuGb4nw/Gq42zsxyA\n",
              "v08aCgAIHjkI30WMVoiP+Q9vTHZVFML3EaOxL/INHP50Iub7at/JXnnphUvOMDsLvD3KHkc/m4Sj\n",
              "n01SSJf17QvXofNfBuIDf2eMdLBmLTf/++ko2RiO22unYaSDtcLfpmRjOL6c5g4b85cgGGSJjFUh\n",
              "iA5xg4muJ8GxoJOM/f39UVCg/hNe2dnZWjkfdtUr94cffoCDgwNMTExw5MgRhIaGoqCgAJaW6jvU\n",
              "hg0bsHbtWoUwPz8/lXSRk4fBb9hAzNh2Gdvmj21NN2wgYp9/sozDAc5+EYiymga8ZjEAielC3CiV\n",
              "YOqIQUwZcQvGIczTobWdpRLwX30FFlwzjFmborAPe8NsT4x1soW7vRU4HA7+zK3Eor2ZsOKawYJr\n",
              "htPRAbh+X4x5u/7CWCdbbJrrBfMBpojYfgXv+Tkj5vnhcceiJmEM3xYA8M5YHnOS+fcRo/G+vwtT\n",
              "37czRjJHDF0tFCM5txJfhY4AAHzg74JLBdUYPcQaSUsmM3nGOb2KcU6vYsNsT/h8nwrx0xeeyyUb\n",
              "wyFtkeGB+Bne3nIRAHD9myBIm+U4frMcc8bxYWP+4vsjd76bjqKqeoweYg1CWv+WhAAOti/ju4jW\n",
              "R6DTeQ9xMLMUG2Z74lWLAQAAuZwwHd2Sa4ZTSyeDEIK480Vw1eEG0mmIAVizZg1ZunSpSnhubi5x\n",
              "cnIif/75p0pcWVkZcXd3J7t379apLjc3N5KRkcEa39jYSCQSicK1ZMkSrcu/UlhFiqvqNaYRip+S\n",
              "kznlRC6Xs6bJKHlMKiUNpL6xWSVOLpeTv4qqSXVdo0K4ctq28islDSTzwWOVtHuuFpNL96o02iGX\n",
              "y4no8VOFsJLqetLUImPNI22WEXG9lGw/W0DuVEgU4hqaWsiTZ02sedXxVNpMaht0y2MMesRB0rp4\n",
              "5ZaWljKjyl9//QWxWAyBQMCaXt1B0iKRCNHR0QphMpkMaWlp8PX17bTXLvuBp4Zhn5qwbACHoZ/2\n",
              "qKPouN6K0pmutMnZ2RlLly7VrUJ9Ku306dOEx+MRKysrYmlpSXg8Hjl69CghhJDg4GBia2tLvLy8\n",
              "mCs5OZkQQkhkZCQxNzdXiIuPjyeEtI4oXl5eTB1BQUHEw8ODeHl5ET8/P3L27Fm92C6RSAgAIpFI\n",
              "Ok7cC+hr7SGk+9vUL71y1VFbWwsbGxtIJBJYW7O/IPYW+lp7gO5vE10hp1BYoOKgUFig4ngOl8vF\n",
              "mjVrev0Xbdvoa+0Bur9N9J2DQmGBjhwUCgtUHBQKC1QcFAoLVBwACgoKMHHiRLi5uWHChAnIzc01\n",
              "tkkAWo8zcnFxAYfDUXCw1GSvIeL0RWNjI2bNmsV4b4eEhKCwsBAA8OjRI0yfPh2urq7w8PDAxYsX\n",
              "mXyGiNOKbllq7OFMmTKFJCQkEEIIOXDgABk/frxxDXrOhQsXiEgkIs7OziQ7O5sJ12SvIeL0RUND\n",
              "A0lKSmJ8v7Zt20YCAgIIIYQsXLiQrFmzhhBCSFpaGuHxeKSpqclgcdrQ78Xx8OFDYmVlRZqbW538\n",
              "5HI5sbe3JwUFBUa27AXtxaHJXkPEGZL09HTi7OxMCCHEwsKCVFRUMHETJkwgqampBovThn7/WCUS\n",
              "ieDg4MBs0OJwOHByctJ4crsx0WSvIeIMSWxsLCIiIiAWi9Hc3MxseANenJ5viDhtoR/MpBiF9evX\n",
              "o7CwEGfOnEFDQ9e/A2gI+v3I4ejoiIqKCrS0tH5HjhACoVCo8eR2Y6LJXkPEGYJNmzbh8OHDOHXq\n",
              "FMzNzTFw4ECYmZmhsrKSSdN2er4h4rSl34tj0KBBGDduHHMayqFDh8Dn8zXuETEmmuw1RJy+iYmJ\n",
              "wf79+5GamgpbW1smvP3p+enp6SgrK0NAQIDB4rRCpzeoPkp+fj7x8/Mjrq6uxMfHh+Tk5BjbJEII\n",
              "IYsWLSI8Ho+YmpqSQYMGkeHDhxNCNNtriDh9IRKJCAAybNgwZt+Or68vIYSQyspKEhISQgQCARk1\n",
              "apTCPh1DxGkD9a2iUFjo949VFAobVBwUCgtUHBQKC1QcFAoLVBwUCgtUHBQKC1QcFAoLVBwUCgtU\n",
              "HBQKC1QcFAoLVBwUCgv/D4Qxv3Mb7K5zAAAAAElFTkSuQmCC\n",
              "\">\n",
              "        \n",
              "      </div>\n",
              "      <script></script>\n",
              "      <script type=\"text/javascript\">\n",
              "        (() => {\n",
              "          const chartElement = document.getElementById(\"chart-4508a4bc-9e1c-4608-b5a7-bbd3e22ac0d3\");\n",
              "          async function getCodeForChartHandler(event) {\n",
              "            const chartCodeResponse =  await google.colab.kernel.invokeFunction(\n",
              "                'getCodeForChart', [\"chart-4508a4bc-9e1c-4608-b5a7-bbd3e22ac0d3\"], {});\n",
              "            const responseJson = chartCodeResponse.data['application/json'];\n",
              "            await google.colab.notebook.addCell(responseJson.code, 'code');\n",
              "          }\n",
              "          chartElement.onclick = getCodeForChartHandler;\n",
              "        })();\n",
              "      </script>\n",
              "      <style>\n",
              "        .colab-quickchart-chart-with-code  {\n",
              "            display: block;\n",
              "            float: left;\n",
              "            border: 1px solid transparent;\n",
              "        }\n",
              "\n",
              "        .colab-quickchart-chart-with-code:hover {\n",
              "            cursor: pointer;\n",
              "            border: 1px solid #aaa;\n",
              "        }\n",
              "      </style>"
            ],
            "text/plain": [
              "import numpy as np\n",
              "from google.colab import autoviz\n",
              "\n",
              "def value_plot(df, y, sort_ascending=False, figscale=1):\n",
              "  from matplotlib import pyplot as plt\n",
              "  figsize = (8 * figscale, 4 * figscale)\n",
              "  if sort_ascending:\n",
              "    df = df.sort_values(y).reset_index(drop=True)\n",
              "  _, ax = plt.subplots(figsize=figsize)\n",
              "  df[y].plot(kind='line')\n",
              "  plt.title(y)\n",
              "  ax.spines[['top', 'right',]].set_visible(False)\n",
              "  plt.tight_layout()\n",
              "  return autoviz.MplChart.from_current_mpl_state()\n",
              "\n",
              "chart = value_plot(_df_1, *['long'], **{})\n",
              "chart"
            ]
          },
          "metadata": {},
          "output_type": "display_data"
        },
        {
          "data": {
            "text/html": [
              "<h4 class=\"colab-quickchart-section-title\">Distributions</h4>\n",
              "<style>\n",
              "  .colab-quickchart-section-title {\n",
              "      clear: both;\n",
              "  }\n",
              "</style>"
            ],
            "text/plain": [
              "<google.colab._quickchart_helpers.SectionTitle at 0x78fff8f19600>"
            ]
          },
          "metadata": {},
          "output_type": "display_data"
        },
        {
          "data": {
            "text/html": [
              "      <div class=\"colab-quickchart-chart-with-code\" id=\"chart-b11161f7-1263-472f-8a95-322cb190a852\">\n",
              "        <img src=\"data:image/png;base64,iVBORw0KGgoAAAANSUhEUgAAAL8AAABgCAYAAABMgqP8AAAAOXRFWHRTb2Z0d2FyZQBNYXRwbG90\n",
              "bGliIHZlcnNpb24zLjcuMSwgaHR0cHM6Ly9tYXRwbG90bGliLm9yZy/bCgiHAAAACXBIWXMAAA9h\n",
              "AAAPYQGoP6dpAAALHUlEQVR4nO3df0wbdR8H8PdhtyZQwGo3mM61sB8lsQwyswGbC85pnHuMzFX/\n",
              "kkmXLcPoFrJO9zxGCHEm+Dh1AVkWzLIMkY0ZB5j4LDEONA6HApsaZuJ0iyK4Ch1OYWCLrv08fyDn\n",
              "asvk2oPr9T6vpMn6/V7bT493r9+7fe8qEBGBMQ2KU7oAxpTC4WeaxeFnmsXhZ5rF4WeaxeFnmsXh\n",
              "Z5rF4WeaxeFnmsXhV6l77rkHpaWlSpehahx+DeAPSmgcfqZZHP4YsG3bNlgsFhgMBqSlpaG8vBx+\n",
              "vx8A8OSTT6KtrQ179+6FwWCAwWBQuNroweGPAStWrEBHRweuXr2KhoYG7N+/HwcPHgQA1NTUYPXq\n",
              "1di9ezdGRkYwMjKicLXRg8MfA7Zu3YqUlBQIgoDc3FwUFhbigw8+ULqsqKdTugAWGSJCRUUFjh49\n",
              "CpfLBSKC1+vF8uXLlS4t6vGWX+WOHTuGyspK1NXVYXBwEL/++iuKi4tx/TlKcXH8Zw6F14rKDQ0N\n",
              "QafTYe7cuRAEAR999BHq6+sDlklNTcW3336rUIXRi8Ovcg6HA2vXrkVmZiZMJhNqampQWFgYsMyu\n",
              "XbvwzTffwGg04uabb1am0Cgk8Dm8TKt4y880i8PPNIvDzzSLw880i8PPNIvDzzSLw880a9rC7/V6\n",
              "sWHDBixZsgRZWVm4//77cfHiRQCA2+3GunXrsHjxYthsNpw6dUp8XLh9U1FVVSXPm2OxgaaJx+Oh\n",
              "EydOkN/vJyKi6upqys/PJyKizZs3U3l5ORERdXZ20u23306///57RH1TsXPnzsjfGIsZ0xb+v+vq\n",
              "6iKz2UxERAkJCfTTTz+JfcuXL6eTJ09G1DcVHP5g5n//L+imFTM2pbmqqgoFBQX4+eef8ccffyA1\n",
              "NVXss1gs6O3tDbsvlLGxMYyNjQW0+Xw+md8VU7MZCX9FRQUuXryI1tZWeDyemXhJvPTSS3jhhRcC\n",
              "2nJzc2fktVkwy39OhGzv+e+/ZriSv0gOf3d3N5YuXfqPbRNeffVVNDU1oaWlBfHx8YiPj4dOp0N/\n",
              "f7+4Fe/p6cGCBQtw6623htUXynPPPQen0xnQVlZWJvXtsjBMFvRoI/loj8PhmFIbAOzbtw8NDQ04\n",
              "efJkwFTaxx57DDU1NQCArq4uXLp0Cfn5+RH1/Z1er0dSUlLA7aabbpL6dlkMm/KW3+12o7+/Hx6P\n",
              "B+fOnRPPFBoaGsLo6GjQ8j/++CN27dqF9PR0rFmzBsB4IDs6OvDyyy9j06ZNWLx4MWbPno36+nrM\n",
              "mjULAMLuY0yqKYe/oaEBlZWVcLlcePjhh8X25ORk7N69O2j5+fPnB5xKd72UlJRJT7AOt48xqaYc\n",
              "/pKSEpSUlODFF1/ksXOMCzVmn2zHVC3j+1Ak7/CWlZXB7/ejv78f165dE9sn2/FkLFpJDv+bb76J\n",
              "HTt2YNasWeJVAQRBgNvtlr04FvukfMvITXL49+zZg66uLlit1umoh7EZI/lQp8lk4uCzmCA5/Bs2\n",
              "bEBlZSXcbjeGh4fFG2NqI3nY8/zzzwMAnE4nBEEAEUEQBJ43owJqPjIzHSSHf+LS14ypHV+olk1J\n",
              "LH5rSA5/XFwcBEEIaudhT/RQe1Bn6vCn5PBfvXpV/LfH40FdXR0HPwLRONVXKyQf7UlISBBvJpMJ\n",
              "TqcTx48fn47aGJtWEZ/Afv78eQwODspRC2MzSvKwx2g0imP+ibk91dXV8lbF2AyQHP4vv/zyrwfr\n",
              "dEhNTeWTRBSk9p1bJUkOv9lsxm+//SZ+CIxGI+Lj4+WuKyZxUKOL5PC3t7fDbreL59EODAygsbER\n",
              "eXl5shenZUrOdtQKyeGfOLqzatUqAOMfhp07d+Kzzz6TvTjGppPkoz0ej0cMPgCsXLkSXq9X1qIY\n",
              "mwmSt/wGgwEtLS247777AACtra1ISEiQvTC14/F99JMc/tdffx0bN24Uj/D4/X40NTXJXhgLxh8o\n",
              "eUkOv8vlwpkzZzAwMABg/IoKnZ2dshfG2HSTPOYvKyvDnDlzYLPZYLPZYDKZ+GoOTJUint7AJ7Iw\n",
              "tZI87ElMTER7eztWrlwJADh9+jQSExNlL0wteByuXpLDv3fvXjzyyCPIyMgAAFy4cAHNzc2yFzaZ\n",
              "CxcuoKioCIODg0hOTkZtbS3uvPPOGXt9Fjskhz8vLw9ff/01Pv30UwDjx/mvvwjtdCsuLsa2bdvg\n",
              "cDhw/PhxOBwOdHV1yf46/D+ssS+sMb/RaMT69euxfv36GQ2+2+3GmTNnUFhYCACw2+3o6+sTf+uL\n",
              "MSlUdQ5vX18f5s2bB51uvGxBELBgwQL09vZi0aJFAcvyL7Owf6Kq8EsR6pdZMjIygn6wYjIbQ7Q5\n",
              "na1BbQU+Hzo7O7FixYqontrtU3mdoda92WxGSUlJ2K8l0GTXEY9CbrcbixYtwpUrV6DT6UBEmDdv\n",
              "Hj755JMpbfn1ej30er2sNQ0PDyM5ORlDQ0NISkqS9bnlxHUGU9WPUM+dOxfLli1DfX09AKCxsRHz\n",
              "588PCj4Q+pdZ5A4+UzfVDXveeOMNOBwOVFRUICkpCYcPH1a6JKZSqgu/1WoVD7MyFglVDXuikV6v\n",
              "R3l5edQPqbjOYKra4WVMTrzlZ5rF4WeaxeFnmsXh/5vDhw9DEAS8++67AICcnBxkZ2cjOzsbNpsN\n",
              "giCgu7s76HEulwsPPPAArFYrli5dCrvdjsuXL4v9FosFVqtVfK63335bsVqB8akhmZmZ4vJtbW1i\n",
              "X0dHB7KysrBkyRLce++9uHTpkiJ1njt3TlwuOzsbFosFt9xyi9gf8TolJvr+++8pLy+PcnNzqbm5\n",
              "Oaj/nXfeIZvNFvKx/f391NbWJt5/5plnqKioSLxvNpvpiy++iIpaiYgA0C+//BLU7vP5aOHChfTh\n",
              "hx8SEdErr7xCjz76qGJ1Xu/pp5+m7du3i/cjXae85f+T3+/H1q1bUV1dPelhtkOHDmHLli0h+1JS\n",
              "UnD33XeL93NyctDT0zMdpUZc642cPXsWOp0Oa9asATA+hfy9994L6/I0ctbp9Xpx5MiRsN7TZDj8\n",
              "f9q3bx9WrVqFu+66K2R/X18fPv74Y3E69Y34fD7s378fBQUFAe1PPPEEMjMzsWXLloAhkVK1rl27\n",
              "FllZWXA6nRgdHQUA9Pb2wmw2i8skJiYiKSkJLpdLsToBoKmpCenp6cjOzg5oj2SdcvgBfPXVV2hs\n",
              "bERpaemky9TW1uKhhx6CyWS64XMREZ566ikYjcaAGYenTp1Cd3c3Pv/8c5hMJhQVFSla6w8//ICz\n",
              "Z8+ivb0dly9fxrPPPhtWPdNd54RQ3xARr9OwB0wx5MCBA5Samkpms5nMZjPp9XqaM2cOHThwgIiI\n",
              "/H4/paWl0fvvv/+Pz7V9+3Z68MEHaWxsbNJlXC4XGQwGxWud0N7eLo67Ozs7yWq1in3Dw8M0e/Zs\n",
              "8ng8itX53XffUXx8fMh9lAnhrFMOfwj5+fkBO2ctLS10xx13kM/nu+HjduzYQevWrSOv1xvQPjIy\n",
              "EvCHe+2112j16tWK1XrlyhUaHR0lovEd3JKSEtq0aZN4Pz09PWCH1263K1LnhNLSUnr88ccD2uRY\n",
              "p6qb2KaEQ4cOYfPmzYiLCxwl1tTUwOVyYc+ePTh9+jSqq6uRkZGBnJwcAEBaWhqam5sxMDAAu90O\n",
              "n88HIkJ6ejrq6uoUq/X8+fMoLi6GIAi4du0ali1bhqqqKgDjPzhYX1+P4uJieL1e3HbbbXjrrbcU\n",
              "qRMY32mura0NWl9yrFOe28M0i3d4mWZx+JlmcfiZZnH4mWZx+JlmcfiZZnH4mWZx+JlmcfiZZnH4\n",
              "mWZx+Jlm/R+JtrjNHqa4zwAAAABJRU5ErkJggg==\n",
              "\">\n",
              "        \n",
              "      </div>\n",
              "      <script></script>\n",
              "      <script type=\"text/javascript\">\n",
              "        (() => {\n",
              "          const chartElement = document.getElementById(\"chart-b11161f7-1263-472f-8a95-322cb190a852\");\n",
              "          async function getCodeForChartHandler(event) {\n",
              "            const chartCodeResponse =  await google.colab.kernel.invokeFunction(\n",
              "                'getCodeForChart', [\"chart-b11161f7-1263-472f-8a95-322cb190a852\"], {});\n",
              "            const responseJson = chartCodeResponse.data['application/json'];\n",
              "            await google.colab.notebook.addCell(responseJson.code, 'code');\n",
              "          }\n",
              "          chartElement.onclick = getCodeForChartHandler;\n",
              "        })();\n",
              "      </script>\n",
              "      <style>\n",
              "        .colab-quickchart-chart-with-code  {\n",
              "            display: block;\n",
              "            float: left;\n",
              "            border: 1px solid transparent;\n",
              "        }\n",
              "\n",
              "        .colab-quickchart-chart-with-code:hover {\n",
              "            cursor: pointer;\n",
              "            border: 1px solid #aaa;\n",
              "        }\n",
              "      </style>"
            ],
            "text/plain": [
              "import numpy as np\n",
              "from google.colab import autoviz\n",
              "\n",
              "def histogram(df, colname, num_bins=20, figscale=1):\n",
              "  from matplotlib import pyplot as plt\n",
              "  figsize = (8 * figscale, 4 * figscale)\n",
              "  _, ax = plt.subplots(figsize=figsize)\n",
              "  plt.hist(df[colname], bins=num_bins, histtype='stepfilled')\n",
              "  plt.ylabel('count')\n",
              "  plt.title(colname)\n",
              "  ax.spines[['top', 'right',]].set_visible(False)\n",
              "  plt.tight_layout()\n",
              "  return autoviz.MplChart.from_current_mpl_state()\n",
              "\n",
              "chart = histogram(_df_2, *['lat'], **{})\n",
              "chart"
            ]
          },
          "metadata": {},
          "output_type": "display_data"
        },
        {
          "data": {
            "text/html": [
              "      <div class=\"colab-quickchart-chart-with-code\" id=\"chart-bfcafa4a-74fb-4e5f-911c-c26094093d21\">\n",
              "        <img src=\"data:image/png;base64,iVBORw0KGgoAAAANSUhEUgAAAMQAAABgCAYAAABCK92TAAAAOXRFWHRTb2Z0d2FyZQBNYXRwbG90\n",
              "bGliIHZlcnNpb24zLjcuMSwgaHR0cHM6Ly9tYXRwbG90bGliLm9yZy/bCgiHAAAACXBIWXMAAA9h\n",
              "AAAPYQGoP6dpAAAMb0lEQVR4nO3dfUwT9x8H8HdrXQlPhVEH2ELVlYe4CmREA5qNTjBZKxsoccvm\n",
              "TLuEqVlYOtmTmyPGLZOfyzZA5wZbAviQOBaRsOnCtDpnnDjLMqaZsMDUFdDawATcRFT47g/C/a5S\n",
              "oIU+UPi8kov2vte7TxPf3vfuvncnYIwxEEIAAEJvF0DIVEKBIISHAkEIDwWCEB4KBCE8FAhCeCgQ\n",
              "hPBQIAjhoUAQwkOB8EFqtRrvvvuut8uYligQhPBQIAjhoUD4uKamJmg0GkilUsjlcmzYsAE9PT1c\n",
              "u1qthsFgwPPPPw+JRIKoqCh8/vnnNuuoqKiAUqlEUFAQVq9ejby8PKjVag//kqmBAuHDbt68iYyM\n",
              "DCxcuBBmsxkmkwnNzc3Q6XQ2y1VWViI3Nxc3btxAcXEx8vLy0NraCgA4deoUNm7ciF27dqG7uxu5\n",
              "ubkoLy/3xs+ZEigQPuzw4cO4c+cOduzYAX9/f0RGRqK4uBi1tbWwWCzccjk5OVi+fDmEQiFycnLw\n",
              "4IMP4pdffgEA7N27F1lZWdBoNJg1axa0Wi20Wq23fpLXUSB8WFtbGxQKBUQiETdPqVQCAMxmMzdv\n",
              "7ty5Nt8LCAjAzZs3AQAdHR1QKBQ27fPmzXNTxVMfBcKHRUVFwWw24969e9y8P//8EwAQHR3t0Dpk\n",
              "Mhn++usvm3n3f55JKBA+bOXKlRCJRHjnnXfQ19cHi8WCTZs24amnnkJERIRD61i3bh1qa2vx/fff\n",
              "Y2BgAHV1dfjuu+/cXPnURYHwYcHBwTh27Bh+++03yOVyJCcnQ6lUYs+ePQ6vIy0tDZ999hlefvll\n",
              "hISEoKysDGvXroWfn58bK5+6BHRPNblfdnY2wsPDUVZW5u1SPI72EATV1dXo7e3F3bt3UVVVhcOH\n",
              "D2Pt2rXeLssrROMvQqa7b7/9Fi+99BLu3LkDhUKB8vJyPP74494uyyuoy0QID3WZCOGhQBDCQ4Eg\n",
              "hIcCQQjPjApESUmJt0sgU9yMCsRMHqNDHEPXIVxk3uYjdudf+d9KD1dCJoMCMQGj/eMnvm9GdZkI\n",
              "GY/TgTh//rxD8wjxRU4HQq/XOzSPEF/k8DGE1WqFxWJBX18fLly4gOEhUD09Pfj333/dViAhnuRw\n",
              "IA4cOIDi4mJcvXoVTz/9NDdfIpHgzTffdEtxhHiaw4EwGAwwGAx4//33UVBQ4M6aZgQ6TTs1OX3a\n",
              "taCgAIODg7BYLDY3tzt6UzshU5nTgdizZw9eeeUVzJ49G0Lh0DG5QCCA1Wp1eXGEeJrTgXjvvfdg\n",
              "MpkQFxfnjnoI8SqnT7tKpVIKA5m2nA5EdnY2iouLYbVa0dvby033u337NrKzsxEbG4vExESsWLGC\n",
              "e56oWq3G/PnzkZSUhKSkJBQVFXHfs1qtePLJJxETEwOVSoVTp0451EaIKzjdZdqyZQsAID8/HwKB\n",
              "AIwxCAQCDAwMjFh2/fr10Gg0EAgE+PTTT5Gbm4uTJ08CAIqKipCdnT3iO5s3b0ZKSgrq6upgMpmw\n",
              "atUqXL58GbNnzx6zjRBXcHoPMTg4yE0DAwPcn/fz8/ODVquFQCAAAKSkpODKlSvjrv/rr7/Gxo0b\n",
              "AQCLFy/G3Llz8eOPP47bRogreGxwX0lJCbKysrjPmzdvxqJFi/Dss8/i0qVLAICuri7cvXvX5jGM\n",
              "8+bNg9lsHrPNnv7+fpsuXW9vr93gEsLndCCEQiFmzZo1YhrL9u3b0draisLCQgDAvn370NzcjPPn\n",
              "z+Oxxx5DZmbmxKofQ2FhISQSic107tw5l2+HTC9OH0MMP0YdAPr6+rB3794x/+f96KOPcOjQIRiN\n",
              "Rvj7+wMYemo1MHT9Ii8vD6+//jq6uroQFhYGkUgEi8XC7QmuXLmC6OjoMdvsefvtt5Gfn28zzxeu\n",
              "sNu7gk1Xrz3H6T1EQEAAN0mlUuTn5+PgwYN2l/3kk09w4MABHDt2DCEhIQCAe/fu4fr169wy1dXV\n",
              "CA8PR1hYGABgzZo1KC0tBQCYTCZ0dHQgLS1t3Lb7icViBAcH20zj7ckImfQdc83Nzejs7Bwxv729\n",
              "Ha+99hoWLFiAJ554AsDQP9ITJ05g5cqV6O/vh1AohFQqxTfffMN9b8eOHVi3bh1iYmLwwAMPYP/+\n",
              "/dxZpLHapiq6u863OB2I0NBQ7szR8FimXbt2jVhOLpdjtKdkNjQ0jLr+8PBwHD161Ok2QlzB6UA0\n",
              "Njb+/8siESIiIqgrQqYNpwOhUChw69YtLhihoaHcwTLxLBpC7npOB+LMmTPIycnhzvRcv34d1dXV\n",
              "SE1NdXlxZAgdh3iO04EYPqu0bNkyAEMB2bRpE86ePevy4gjxNKdPu/b19XFhAIClS5fi9u3bLi2K\n",
              "EG9xOhCBgYEwGo3c5+PHjyMgIMClRRHiLU53mXbu3InVq1dzZ5YGBwdx6NAhlxdGiDc4HYirV6+i\n",
              "oaGBu9ocHh5OY4TItOF0l6mgoABz5syBSqWCSqWCVCr1iTFChDhi0sO/R7s5iBBf5HQggoKCcObM\n",
              "Ge7zTz/9hKCgIJcWRYi3OH0M8eGHH2LVqlWIj48HALS0tKCmpsblhY2mpaUFOp0OnZ2dkEgkqKys\n",
              "xCOPPOKx7ZPpzelApKamoqmpCfX19QCGrkMMD+32hA0bNmD9+vXQ6/U4ePAg9Ho9TCaTW7blq1eI\n",
              "nambhnnYmtAxRGhoKLRaLbRarUfDYLVa0dDQgBdeeAEAkJOTg7a2Nu5pHoRMlk+9QaitrQ2RkZEQ\n",
              "iYbKFggEiI6OhtlshlKptFm2v78f/f39NvPo4N9xM3XgoE8FwhmFhYXYtm2bzbz4+PgRt5UOGxgY\n",
              "wLlz57BkyRLuouNqt1fpOvbqd0R+/nG780f77aMtP1kTrd9RCoUCBoNh3OUEbLS7eKYgq9UKpVKJ\n",
              "v//+GyKRCIwxREZG4vTp0w7tIcRiMcRisd119/b2QiKRoKenB8HBwW77De5C9buGT71j7qGHHsKj\n",
              "jz6K/fv3Axi6H1sul48IA2D/nurRwkDIMJ/rMpWVlUGv12P79u0IDg5GRUWFt0si04jPBSIuLo47\n",
              "5UuIq/lUl8mdxGIxtm7d6rPdKqrfNXzqoJoQd6M9BCE8FAhCeCgQhPBM60AcOXIEycnJEIvFePXV\n",
              "V23adu7cCZVKhUWLFiEhIYG7tgEAX331FZKSkriboD7++ONRt6HX6yGTybi3Ib3xxhs+Vf+tW7fw\n",
              "3HPPQalUIjY2dtTn9HqyfpPJhKVLl8Lf39/uS3X4xnob1YSwaeyPP/5gjY2NbMuWLcxgMNi0GY1G\n",
              "1t3dzRhjzGw2s7CwMNba2soYY+z06dPs2rVrjDHGuru72cMPP8x++OEHu9vQ6XSsqKjIZ+vftm0b\n",
              "0+l0jDHGLl26xObMmcM6Ozu9Wn9bWxv7+eefWWlpKcvKyhpzG2lpaaympsYl9TLG2LTeQwy/3254\n",
              "MCBfeno6JBIJgKHH80dERKCtrQ0AsGzZMu5BbBKJBPHx8Q69/cjVPFF/VVUV91am+fPnQ61Wu+z+\n",
              "lonWL5fLsWTJEq+cgp3WgXCU0WjEjRs3sHjx4hFtFy9eRH19PTIyMkb9fklJCRISEpCZmWnz7FtP\n",
              "mUz9ZrMZCoWC+zzWW5ncZaz6HWHvbVQT5XNXqvlSU1PR0tJit+3XX3/lXswylgsXLuDFF19EVVXV\n",
              "iOdLtbe3IysrC6WlpZDL5Xa//8EHHyAyMhJCoRA1NTXQaDRoaWlBYGCgT9Q/Ge6u3xH79u1DVFQU\n",
              "GGPYvXs3MjMzcfHiRafXw3FZ52sK27p164g+LGOM/f777yw6OpodPXp0RFtHRweLi4tjlZWVTm0r\n",
              "NjaWNTQ0TLRUu9xZ/8KFC1l9fT33ec2aNezLL7+cdM18E6mfMcYqKirGPYa4n1gsntQx0IztMjU1\n",
              "NUGr1eKLL77AihUrbNquXbuG9PR0vPXWW9DpdGOup729nfv72bNn0dXVZXf0rau5qn7+W5kuX76M\n",
              "kydPjntmxxXGqt9R472NakImHCUfYDQamUwmY0FBQSwwMJDJZDJWW1vLGGMsIyODhYSEsMTERG6q\n",
              "q6tjjDGWm5vL/P39bdrKy8sZY0P/8yYmJnLbSE9PZyqViiUmJrKUlBR24sQJn6r/n3/+Yc888wxb\n",
              "sGABi4mJYVVVVV6vv7m5mclkMhYaGsr8/PyYTCZju3fvZowxZjKZmEaj4WpPTk5mKpWKJSQksOXL\n",
              "l7PGxsZJ1UxjmQjhmbFdJkLsoUAQwkOBIISHAkEIDwWCEB4KBCE8FAhCeCgQhPBQIAjhoUAQwkOB\n",
              "IITnP/L6SXuYRr9nAAAAAElFTkSuQmCC\n",
              "\">\n",
              "        \n",
              "      </div>\n",
              "      <script></script>\n",
              "      <script type=\"text/javascript\">\n",
              "        (() => {\n",
              "          const chartElement = document.getElementById(\"chart-bfcafa4a-74fb-4e5f-911c-c26094093d21\");\n",
              "          async function getCodeForChartHandler(event) {\n",
              "            const chartCodeResponse =  await google.colab.kernel.invokeFunction(\n",
              "                'getCodeForChart', [\"chart-bfcafa4a-74fb-4e5f-911c-c26094093d21\"], {});\n",
              "            const responseJson = chartCodeResponse.data['application/json'];\n",
              "            await google.colab.notebook.addCell(responseJson.code, 'code');\n",
              "          }\n",
              "          chartElement.onclick = getCodeForChartHandler;\n",
              "        })();\n",
              "      </script>\n",
              "      <style>\n",
              "        .colab-quickchart-chart-with-code  {\n",
              "            display: block;\n",
              "            float: left;\n",
              "            border: 1px solid transparent;\n",
              "        }\n",
              "\n",
              "        .colab-quickchart-chart-with-code:hover {\n",
              "            cursor: pointer;\n",
              "            border: 1px solid #aaa;\n",
              "        }\n",
              "      </style>"
            ],
            "text/plain": [
              "import numpy as np\n",
              "from google.colab import autoviz\n",
              "\n",
              "def histogram(df, colname, num_bins=20, figscale=1):\n",
              "  from matplotlib import pyplot as plt\n",
              "  figsize = (8 * figscale, 4 * figscale)\n",
              "  _, ax = plt.subplots(figsize=figsize)\n",
              "  plt.hist(df[colname], bins=num_bins, histtype='stepfilled')\n",
              "  plt.ylabel('count')\n",
              "  plt.title(colname)\n",
              "  ax.spines[['top', 'right',]].set_visible(False)\n",
              "  plt.tight_layout()\n",
              "  return autoviz.MplChart.from_current_mpl_state()\n",
              "\n",
              "chart = histogram(_df_3, *['long'], **{})\n",
              "chart"
            ]
          },
          "metadata": {},
          "output_type": "display_data"
        },
        {
          "data": {
            "text/html": [
              "<h4 class=\"colab-quickchart-section-title\">2-d distributions</h4>\n",
              "<style>\n",
              "  .colab-quickchart-section-title {\n",
              "      clear: both;\n",
              "  }\n",
              "</style>"
            ],
            "text/plain": [
              "<google.colab._quickchart_helpers.SectionTitle at 0x78fff8df1840>"
            ]
          },
          "metadata": {},
          "output_type": "display_data"
        },
        {
          "data": {
            "text/html": [
              "      <div class=\"colab-quickchart-chart-with-code\" id=\"chart-fb015fee-b83a-4c77-8d83-dc1b34ef603f\">\n",
              "        <img src=\"data:image/png;base64,iVBORw0KGgoAAAANSUhEUgAAAPYAAAD2CAYAAADlEnrIAAAAOXRFWHRTb2Z0d2FyZQBNYXRwbG90\n",
              "bGliIHZlcnNpb24zLjcuMSwgaHR0cHM6Ly9tYXRwbG90bGliLm9yZy/bCgiHAAAACXBIWXMAAA9h\n",
              "AAAPYQGoP6dpAABBQklEQVR4nO2dd3gc5bX/PzOzXatVly1btmzJReAmm2IbY5ppJtQQbkJIQvgB\n",
              "SeASQgwEyA0JEIIhBC6EEggQwr1JLt2UENtgE1ONC7giN8lNtrolba8z8/tjrbVkrcrKu9Jafj/P\n",
              "o+eRZmdnzqz2+5bznvccSdd1HYFAMKSQB9sAgUCQfISwBYIhiBC2QDAEEcIWCIYgQtgCwRBECFsg\n",
              "GIIIYQsEQxAhbIFgCCKELRAMQYSwe+Hxxx8fbBMEgoQRwu6FPXv2DLYJAkHCCGELBEMQIWyBYAgi\n",
              "hC0QDEGEsAWCIYgQtkDQR5z+EKt3HWBPs4ewqg22OT1iGGwDBIKjgb9/sYf736vEH9aQgOmjs/j9\n",
              "tyoYV2gfbNPiInpsgaAXnP4QvzsoagAd+GqvkwcXV6Ztzy2ELRD0wrY6N75wVwF/taeNFm9oECzq\n",
              "HSFsgaAXCrPMKFLX4wY5zsE0QQhbIOiFkdk2po3K7nRMkWF6SQ65GabBMaoXhLAFgl4wKjKXTh+J\n",
              "xRCViyLBtOJsbj+vHKOSnhISXnGBoBc272vjocVbCEQ0jBJIErR4Q4zItgy2ad2Sns2NQJAmhFWN\n",
              "h5ZsxRuKOs/COkQ0aPOFqXMGBtm67hHCFgh6oMUbYnujp9MxDQipKvn29JxfgxC2QNAnFAk6+sBL\n",
              "cm2k6RI2MMjCfu+99zjhhBMwm83ccsstnV774x//yOTJk5kyZQpTp07lb3/7W+y1NWvWcMopp2Cz\n",
              "2bj00kv7dK8PP/wQRVF47LHHkvcAgiFPboaJilHZGBQZRQajLJFtNTB5ZDaZlvR1UQ2qZePHj+cv\n",
              "f/kLr732Gh5P5+HOpEmT+Oyzz8jKyqKmpobp06cze/ZsysrKKCoq4rHHHmPdunUsXry41/s4nU7u\n",
              "vPNOLrjgglQ9imCIYlRkbj+vHID1NW3IQMXoHH58elnaesRhkIU9YcIEABYtWtTltXnz5sV+HzVq\n",
              "FMOHD6empoaysjKKi4spLi6msrKyT/e56aab+NWvfsWbb76ZHMMFxxTjCu08+d0ZsSgzRYa9B/w4\n",
              "/SGyrOk5z07fsUQHli1bRmtrKyeddFLC73399deRZZmLL764V2EHg0GCwWCnY6qqJnxPwdDDqMgM\n",
              "c1j4+xd7WLh4C8GIhtkgc9f847hqVslgm9eFlI4lZs+eTX5+ftyfmpqaPl1j06ZNXHPNNbzyyitk\n",
              "ZGQkdP/6+nruv//+PickXLhwIVlZWZ1+Vq9endA9jwXCqkaLN5S2GyBShdMfYuHiLfhCKrIs4Qup\n",
              "LFy8Bac//eLFU9pjr1y58ojeX1lZyYUXXshf/vIXTj311ITf/+WXX1JXV0dFRQUAzc3NvPPOOzQ1\n",
              "NfG73/2uy/l33XUXCxYs6HTs7rvv7pftQ5WqRg/PfbyTJk+Qgkwz188tTduti8mmutFLMKJhNMiY\n",
              "D86vgxGN6kYvM0rSa0ietkPxLVu2cMEFF/DnP/+Zc845p1/X+MY3vkFDQ0Ps7x/+8IdUVFR08cC3\n",
              "YzabMZvNnY4pitKvew9FwqrGcx/vpLrJQ6HDQnWjh+c+2cn9l05Oa0dSsigrzMBskPGFotOzcETD\n",
              "ZlIoK0xsJDkQDOp/Y/ny5RQXF/Poo4/ywgsvUFxczDvvvAPAzTffjNPp5I477qCiooKKigqWLl0K\n",
              "wLZt2yguLmbBggUsXbqU4uJinn76aQDWrl0rvN8pwh2I0OQJUuiwkGU1Uuiw0OQO4g5EBtu0ASHL\n",
              "auKu+cdhMylomo7NpHDX/OPS0oEm6bquD7YR6cyCBQt49NFHB9uMtCCsavzqrc1UN0Z77EZXgLJC\n",
              "+zHTY7fj9IeobvRSVpiRlqIGEXkmSACjInP93FLKCu0EwiplhXaun1t6TIkaoj33jJKctBU1pPEc\n",
              "W5CejDvYQ7sDETIthmNO1EcLQtiChDEqctomGBBEEc2tQJACBnutX/TYAkGSaV/rb3AHyLYa+cnp\n",
              "ZZQXOQbUBiFsgSCJtK/1b6514vSHcfvDbNjn5E/fm0H58IETtxiKCwRJxB2I0OAO4PSHCYRVrGYD\n",
              "LZ4Qz6yoHtBhuRC2QJBEMi0Gsq1G3P4wBkUmompkWg3R3nsAA3mEsAWCJGJUZH5yehm5djP+oIrF\n",
              "qMSi9AYyMYOYYwsESaa8yMGfvjeDZ1ZU4/SHKXRYBjyQRwhbIEgB5cMdPHzFtEEL5BHCFghSxGAG\n",
              "8og5tkAwBBHCFgiGIELYAsEQRAhbIBiCCGELBEMQIWyBYAgihC0QDEGEsAWCIYgQtkAwBBny1TZ1\n",
              "Xeeee+5hwoQJTJkyhTPPPDMFTyIQpBdDvtrmH//4RzZu3MjmzZsxmUzU19en8pEEgrRgUHvsCRMm\n",
              "MG3aNAyGru3LvHnzyMrKAjpX2wQoLi7m5JNP7lK1Ix4PP/wwDz74ICZTNGZ3+PDhSXwCgSA9OSrm\n",
              "2P2ttulyuWhoaODtt99m5syZzJw5k1deeaXb84PBIC6Xq9OPqLYpOBpJ6VB89uzZ7NixI+5r69at\n",
              "Y9SoUb1e40iqbUYiESKRCH6/n1WrVrF7925OOeUUysvLmTZtWpfzFy5cyL333tvp2KxZsxK6p0CQ\n",
              "DqS0x165ciXNzc1xf/oi6iOttpmbm4vdbud73/seAGPGjGHOnDmsWbMm7vl33XUXTqez08/JJ5+c\n",
              "8H0FgsEmbYfiyai2CXDllVeyZMkSAFpaWli9ejVTp06Ne67ZbMbhcHT6EdU2BUcl+iCybNkyfeTI\n",
              "kXpmZqZut9v1kSNH6m+//bau67p+9tln69nZ2fq0adNiP0uWLNF1Xde3bt2qjxw5Us/JydEtFos+\n",
              "cuRI/amnntJ1XdfXrFmjz58/P3aP5uZm/aKLLtInTZqkT5o0KXZeX/n5z3+epKcVCAYOUW2zF7qr\n",
              "thlWNVG/SpC2iNRI/aC90kOTJ0hBppnr55YyrtA+2GYJBDFEV5Mg7ZUeqps8WIwK1Y0envtk56DV\n",
              "aBII4iF67ARxByI0eYIUOixkWY0ANLmDuAMRUYFSkDaIHjtBMi0GCjLNNLqiZVwaXQEKMs0Dmgz+\n",
              "WGawq1geLYhvY4IYFZnr55by3Cc7aXIHKSu0D3gy+GMV4dvoO0LY/WBcoZ37L50svOK9kMyVg46+\n",
              "jUKHJebbuP/SyeLzj4MQdj8ZzGTwRwPtvet+pw+zIvPTM8dRUZLb7+sJ30ZiCGELkk5777qyupn9\n",
              "bX5UHVZsb+I3F03iB7PH9Oua7b6N6sbo9t5GV4CyQrvwbXSDGMMIkkJY1dha18air/axra6NXQc8\n",
              "MVEDqBo8+K+tOP2hfl2/3bdRVmgnEFaFb6MXRHMnOGKqGj385H/XUtXkjR0zSsRE3Y4/rLKt3s3J\n",
              "Y/P6dR/h2+g7QtiCI8IXivDw0i2dRA0QjhOorAOeQP967HaEb6NviCZP0G+21rm49ZX1fLqjuc/v\n",
              "eWjxVrEGPQCIHlvQLzbvb+PGv31Fqy+EqvV9H9G2Rh+1rT5K8sX6cyoRPbYgYbbWubj+f9ZS0+rH\n",
              "G1RRtcS+SPvb/F2OtUeUNXsCfLWntd9ONkEU0WMLEiKsajz97yqaPVHh6UA4gR5bBkZmWzsda1/z\n",
              "/mpPCzsPeJGQsBhl7pp/HFfNKkmi9ccOoscWJIQ7EKHZG0KWJAyylPD7pxQ7GJFji/3dvua9oaaF\n",
              "HU1eVA0imo43pLJw8RbRc/cTIWxBQmRaDIzMtmIyyIQ1nUSzdNx67oROy1Qt3hD7Wn1dhue6DoGw\n",
              "RnWj9/BLCPqAGIoLEsKoyFw7dyz/2ljbr/c/8v5WvtrTxtnHFeAN6by6poYd9S7cwa6ech2d0XnW\n",
              "OFcR9IYQtiBhjBJ4w/1bstqwz8OGfVU8trwKRYJMi5FhDiON3nCXc0c6LMiSGFT2ByFsQcJ8ur0h\n",
              "KddRdfAEw9gC8cVbPsIhYsH7yZAvyrd69WpmzZrF9OnTOe644/j973+fgic5ttjV1HW5qr9ENPCE\n",
              "VA6PDjUbZG48o0yEjfaTIV+U70c/+hH33XcfF198MS0tLZSXl3PhhRdy/PHHp/LRhjTfmVnMX1fX\n",
              "JO16obDGyWNz2XPAh9sfQdN1SvPt/H1VDaouMbU4Swg8QYZ8UT5JkmhrawPA6/ViMpnIze3/vmAB\n",
              "lI/MZUKBLe5rZiWxJbACu4lJI7J47NvTWfyzuZw6Po+Jw+zkZJj4cGsjN/79S+58YyNVjZ7eLyaI\n",
              "cVQ0g/0tygfw4osvcvfddzN69GgmTJjAAw880G3FTVGUr++8f+uZnFiS1emY1SgzYbgDm7Fv1VMm\n",
              "DbczOtdGaUEGrd4A/97SiDsQoTDLyq5mD+5AmBZviH9va+SR97eJGPMEGNJF+QAefPBBFi5cyHe/\n",
              "+1127tzJ6aefzoknnhh3KC6K8iXG6zecyu4mF0u/bmTm2BwmFGURCGvsbHDx3RdWEzp832YHJg7L\n",
              "YFi2DbNBZvXOZl77cl/stUK7CVcggqrpWIwKmg7ra9po8YYY5rAMxKMd9aRU2CtXrjyi9x9pUb7m\n",
              "5mYWLVrEyy+/DEBpaSmzZs3is88+iyvsu+66iwULFnQ6dvfdd/fP+GOEMQUOfnyGI/a3zQS5pfn8\n",
              "/JxxPLQkfqN+2znj+fEZ42h0Bfjm05/S4O681NXoCWFSJBRZwmE14g+LUVOipO1QPBlF+XJycsjI\n",
              "yODDDz8EokJftWoVkydPjnu+KMqXPK4+pZRMc9evV0GGkf83t5Q9B3zc9vr6LqJupzQ/g0yLkYim\n",
              "Y5AkKkZli33YCTCowl6+fDnFxcU8+uijvPDCCxQXF/POO+8AcPPNN+N0OrnjjjuoqKigoqKCpUuX\n",
              "ArBt2zaKi4tZsGABS5cupbi4mKeffhqAtWvXcsEFFwCgKAqvvvoqt99+O9OmTeO0007jlltuYfbs\n",
              "2YPzwEMAXyhCdZMHXyjS43k2k4HHrzyBgsxDDs78DCMPXVGBUZF5dkU1G/Y6u32/pmmcMbGAicMy\n",
              "ObO8kFvPnSg84wkgivL1QndF+Y5FPtzayG//WYnLH8ZhNXL3hcdzVnlhj+/xhSLsaop6tMcW2LGZ\n",
              "DLR4Q9z8f+vYXNtGm6/7BmLF7afjsJhEGqR+ID4tQZ/whSL89p+VNLoCGA0yja4Av/1nZZ967kkj\n",
              "s5k0MhubKerSybQYKMqyEOll7rypppXcDBO+UGRA9mgPpSojIl5P0CfqnAFc/jCZViMZBwXq8oep\n",
              "cwYoK0gsG4pRkTl30jDeWb+/x/OeXVFNgyvMY8u34wuqmI0St55TznWnlfb7Obqjuyoj7WIHyM0w\n",
              "HTUjByHsIUQqa3YXZVlwWI00ugIAuP1hCh0WirISX34Kqxr/WLW3x+UwgM31Xjb/a0vsb39Y5/5/\n",
              "bQFJ57q5ZX26T2+fR7twn/pwB9sb3IzMtcWqjFxWUcTDS7dT0+pDkWUqRmVz67kTj4qyQgkLe+/e\n",
              "vV2OZWdn43A44pwtGChSXdfKZjJw94XHx+bYhQ4Ld194fGx4nQhf7Wnl06qmhPdyt/PI+9u54sRR\n",
              "ZFm795L35fNoP2dTrZNtdS5kSWJvi4+Jwx18UdXMK2sOhc2aDRJrdrfw7EfVPPDNKWnfcyf8Xznh\n",
              "hBNoaWnBaIyWWQmHw9jtdoqLi/n73/9ORUVFsm0U9MJA1bU6q7yQWaW51DkDFGVZ+iXqsKrx0ue7\n",
              "OJKl6bAaTcAwoyS+sPvyebSfs63Bxa5GD6oOmq7jCaqs39PK4Z6DYETHomrUOwO0eEMYFTk2Ekjl\n",
              "SKm/JPyfufbaaykvL+fqq69G13X+9re/sXnzZubMmcNNN93Ep59+mgo7BT3Q4g2xv81PfqY55XWt\n",
              "bCZDwnPqjrgDEbbX9j1dcTxMBpmywu6jEPtS58sdiLD7gJc6Z4BgREOC2AiiO3egxx/BapL5w5Jt\n",
              "HPCFKMg0c96k4SzdXJ92FUATbl6WLl3KD3/4QyRJQpZlfvCDH7Bs2TIuueQSnM7u1yUFqaGq0cMf\n",
              "lm6jusnD2l0t7G/1U+/047AYsBjTo/foSKbFwAH/kUWSBcMa/9xQF/e1sKoRVjXyMkw91jC3GGUa\n",
              "3UE8gQhIh0QtAYZu9rHYTBL+kEp1sweLUWFHg5vf/rOSqkY3FqMSGxl09KoPlqc94f98MBjsFP+9\n",
              "Y8cOAoGoQ0VEaQ0s7cPJXc1exhfaQYItdU6a3EFqnQHufbeSrfWutFnCaf+Sj849snhvVYffvVfZ\n",
              "ZfmrqtHDrxZt5q43N+EJRijINBMIq5Tk2Th/0nDCqkazJ8Cyynq21jqxmxU0XadjJIfFKDO1OAtD\n",
              "HGV4wzrrapw0uoNIQG6GGZc/TE6GiSyrkUKHJTYyANi8r40b/raWHzy/kh/8ZRVrdx84oudOhISH\n",
              "4gsXLmT27NlMmzYNgI0bN/L888/j8Xj49re/nXQDj2V8oUiP89nDh5yaprN2byv+sIpOdIi+elcL\n",
              "JXk2hjksgzpMrGr08MjSbayracXlDx7x9XxhrVMdsMPn1Y2uAGPzMzjn+DyeWL6DFduaUDWdNv+h\n",
              "EFblYE8tS6Dp0d+zLAbCmk75sEy2N7oJdRhc6IA/HCHiivDVXp1hmSYcFgON7iCyLNHgDDBhWCaZ\n",
              "FgMfVNbzn3/7ilCH1Mzfqv6Cn545jlvPm3jEz98bCQv7kksuYfbs2axatQqI7n4qKCgAopsoBMmh\n",
              "L1FeHUvLarpOZZ0LVdPJshoJhFVavCEMskRZgX1QC8WHVY1nV1SzctcBvIEw/UyX1gVZP6S6ePPq\n",
              "BneAx5bt4IAniNkgdxI1dC4aaFIkdKDZE6LJHSLeZEEGdA10RaLJHQRdZ0SOlb3NXrY3uLGbDeTb\n",
              "zWyoaeWXb2zsJOp2nvp3FVfPKSHfntpdav1axy4sLOSiiy5Kti2Cg3SM8so8uHb8239WMqs0t1PP\n",
              "3V5a9rlPdlLb6sdkkMk1mFA1HVmSCEY0suwm7CYFg2KmyR2k0RUgENH67dXuD+5AhP1OP/5gBFUD\n",
              "SYJkBDJ/WtXKiaXRxi5e/eyCTBOt3hCBsIov1PO8PqTqnRxo8WhvCIKqjlGWaPGGcAfCqBqEVI3W\n",
              "SIiVO5v5rKqZQCR+66UB6/e2cfbx8XMCJIuEm+4lS5ZQXl6OyWRCURRkWRZz6yRT0+KjzRfCbjGQ\n",
              "YTJgtxho84XY1eTpMl9uLy37h/+YxtzxBeTbzViMCoGwikmR8IVVPtt5gLW7WnD6Q1z1/Cqu+NPn\n",
              "fOPxT/hwa+OAPE+mxUC+3YSqH8xDrke/eBJglqE7v31v36o1e1pin0W8+tnXzhmDPxxB1XsWbDuJ\n",
              "tDVhTSes6nhCGv6IhqZHhR8Ia92Kup0x+fGzzySThJvsm2++mSeeeILZs2cLQR8hHdc/ITon3t3s\n",
              "5R+r9+APq7j8YYIRDXcgjEGWufHv68i3myktyODHp5fF5stGRWaYw8KPTy/juU92srPJgwR4ghF8\n",
              "IRVFirp5N+93EVE1FEXCFYjw67c3M6v0tF577t7m+r1hVGRuPGMca3e3UueMOlqjc1sJk1HGHezc\n",
              "mxoOzn1769UDEa3TEtbh9bP3tviwGg34QhF0PdpbJpN419N0euz5s61GRmSnobAdDgfnnXdeKmw5\n",
              "6kkkUKFjZJTZIOMJRqhq8NDiC6HpOmaDTAhw+cIoMlhNCvvb/DS4A+w+4MUTjPDHK6d3us+4Qju/\n",
              "vKCcO9/YSDAUIRDRsJrAYlKIRDSCB3sSoyShSzpN7iA1ByOtuuPDrY389t2vafOHybYaufuiSb3u\n",
              "6IpHeZGDv1xzEg8t3srm/U6cgQhZFgNNnq4bOyIHVWE1yvi7mZBHh8LRz6bFG4o1jh0//6IsC/mZ\n",
              "ZhqcGhaTQkuc3OXtSECB3UCjp+dNLX0hnqgVoMBhoiTPTiCsYUvx1vKEhX3hhRfy1ltv9Zr291gj\n",
              "kZDOjh7cXLuJL3YewBuMYDUqhCIaOmCUdexmA/5QhKnFWVTWujnY8RLR9LipgqoaPTz54Q5W72rF\n",
              "alIwG2TCEY0md5BwB09RIKwhS2AwyNjN3X8FfKEIv35rM3WuALJEQr18PMqHO/jzD06k0RXgoSVb\n",
              "+Xq/M66wIeqxzrebcflDOANd58fZGUbsZgO/eftrnP5wrJfUIbYCUJJn45azx/P7JVtp8oQwKxKq\n",
              "pscajs62ZfK9WSU8tmwbTZ7uG4DukIh616GzU04CMkwKFpNCYaaFMfkZA5IrPeE7PP744zidTqxW\n",
              "K2azGV3XkSSJlpaWVNiX1rT30BajnFBIZ7sH12YysK3OjScYIaLqZJql2NJLRNOQJAlNh231HoId\n",
              "5pJSnACK9saipsWH1aTQ6g1hNSq4AmHiFcPUdJg2ykFhDznEdjV5qHf5UTViXuJ6p7/XXr4njIrM\n",
              "yBwbN8+bwCPvb6W62dflHInoMLw7UQN4AxF2haIJHzyBCI2eIOiQY1WwW4zsanaTbzfjCaqEIhqa\n",
              "qsWGyfGobvKw5Ot6Ft9yGne9uZHVVU04D2tzirLMNLqDaFrXXtlmkhhfaGdzrQejHB1RBCIaBlnC\n",
              "aJAwKjIThzu4fm7pgKxKJCzs9evXp8CMo4+OPbTDYqDOGTi0nqzr1Lb6Yz1qWNVodAXwBCMMz4r+\n",
              "nWMz8tG2JkKqRkSNOpVafNGeQgdCKkRUFatJIctmJODS0DQdsyKjxEkV1N5YDMuyMjzLyoaaNhrd\n",
              "gbiibscoK+w54OsysvCFIny0vYk/rdjO4X6giAb72vov7HbGFdp55D8q2N7wKdVNhwrvtfd6mk63\n",
              "ogawmQ0Ewip1bYGoU+7gc7b4VVr8Kntbo3P5LIvS43XaCak6a3a1EAxr3HH+8Tz7UTUrttbjDUUo\n",
              "yrLS6ouALpGXERX34XhDOhv2uTHIElajgs1kIOINIkkSc8blc82c0gHNj56wsEtKSvD5fDGBV1RU\n",
              "YLOl3hmQTnQcSudnmtnZ7MXtDxNWNTyBMJW1LowGmT8s3cZZxxXy/Mc7+brWhapHl0nG5GdEh9BS\n",
              "dJnEaJBB12PbGBUgw6LgD2tkWgycMi6ffa1+djV5KcmzMTrXxo9P71wlo+NyT6HDQq7dhD+s4vSH\n",
              "UOP0MBaDjCcQ6jKy+HBrI3e+sYFGd/dJDV5bs4/Txhce8ZfUZjLw1FUz+NFLaw+NDOI0RIc7oxQJ\n",
              "0FXCEZWg2n0vDD03DocTiGi0+UJMGpnNbedNpN4ZIMNiIMdm4oA3SH2bn5oD3ec314lOkwyKhKpr\n",
              "ZFqMVIzK5vffmjZgS4vtJHy3zz//nMsvvzyWm7uhoYE33njjmMojdmgorbC93o3LHwYJxuRnsLXO\n",
              "jYZOaUEGn2zd3ymtLkBY1dlS56auzY/FqGBUJGwmA8GwhhRWiagaBZlmJo10sK3eg9sfodUbIhzR\n",
              "mDs+n9vOmxh3w3/HNe0md5CJwzIZ5jDz8fZmNF3r4mHWdJ39ziBGgyfmWfaFItz7zuYeRW0xyvjD\n",
              "aidvdMcpSeBgY9RX0ZcPd/D0VTO48R/rOOAJ4A3Fq7p5CJmo+Ju9atzXj5R2s3MzTIzIsVLd6MEX\n",
              "jPB1rQt3MEwo3gT9MFtHZlnJtpkYnhVdqRhoUUM/hL1gwQJef/115syZA0SF/vOf/5wvvvgi6cal\n",
              "K5kWA3kZJj7Y0oAvGEHTQZElPMEIqqahazqfVXUfFxwdakeXoXJsJlq8IfwhNdZbNbqD6Ptd5B0U\n",
              "sKrplBXauX5uaY95tQ9f7tlzwEcg/DVrd7eialp0VHBQNyFVp9EdxBeKUNvqIzfDxKqdLdS2Bbq9\n",
              "viLByOzoUD/TEl1G+qyqmbfX76e2zU+9M0hBpokJwxydluN6Y0SOjbKCDPJsBtbtc3V7ngTIsoTW\n",
              "0/ziCHEd3KDS3lA++1E1n1Y1E1FV9D7ed1Oti3OPGzao+7YTFrbf74+JGuCUU06JbQI5VjAqMt86\n",
              "oZh/bqxD08FslJElic37nQdDF3tfMvGGdCKaym3nT+T3S7bh6RAeqenRbYbHFzm44/xyCh2WTr1g\n",
              "T8tqRkXutK77lx+eRKMrwMqqZu56c1MXO3Qdnv90Fw98cwrvrN/f7ZfXJENZYSaTR2Zx/dxSPtnR\n",
              "zK/e2kR9W6DTem6tM0DlPhf723wsvGwKI3JsvX65owEsZtbsju+AlQBju0c7haK2KFBamBFbPhtX\n",
              "aOe28ybyda0zOmpKYCH8/S0NNDh9FOcOTmx+ws2J3W5n2bJlsb+XL1/erwod0P9qmy+//DIVFRVM\n",
              "njyZyZMn88gjj3R7D5/Px5VXXsm4ceOYMGECr7/+er9sPZwx+RlkWQ3YzAo5VhOyJKFpUJrAXuVw\n",
              "RGPF9kbc/q7LK5IEGWaFskJ7p6F3+w6m217bwK/e2hyraeX0h+Im/DMqMoUOC3/+ZBfhOJpwWI20\n",
              "+cOs2tnCp1XNPX4jGt0BIppGo8vPfe9spsEZiBukEQY+r27hnP/+mB++uLrXulvtDWWkmx1o0RGO\n",
              "3qMj8HDMgMOUWB2xsQWZ3P7qRm76x1f88s1NVDV6sBhl9rb4CKlaj3P5ePz1010JviN59Gu56/LL\n",
              "L49FnWmaxptvvtmvm/e32uaoUaNYsmQJw4cPx+l0csIJJ3DCCSdwxhlndLnHH/7wB8xmM1VVVeza\n",
              "tYuZM2dy5plnkpeX1y+b28nNMDF9dE7Uk6pGlzXyM6PLf31FA7bVueM6jBxmA95g17ns4ctqz35U\n",
              "TYHdzJ8/qiYC2IwyPz93IieMzqGsMIMsq4m9zR62dyMuuzGa9uf1r/bi9MdfGoNo0Ig7EGHF1kY+\n",
              "3XGANl8QWZJQe3jekBqdktz+2jr+9L0TGJ7VvZN1TH4GDquRQA/z+0T66ggg9TIf7ogiwdZ6N1vr\n",
              "3ZgUiUqTAU8wwi1nj8cgy5gN0ZWLcETrcxTbnpbklRtOlISFfeKJJ1JVVcW2bdsAmDhxYixNUqJM\n",
              "mDABgEWLFnV5bd68ebHfO1bbLCsr6zQVyMrKory8nN27d8e9xyuvvMILL7wAwNixYznjjDNYtGgR\n",
              "1113Xb9sbseoyNx67kSe/ag6Fm557vHDeG9THTsbnF3WQLujzhlAlkE77JviCkYIqRoWo0zDwQSC\n",
              "EVWjptWHw2ok02zAY1J4d8M+Ah1G/r6wxu/e24JBBotR4a75x/F2D9lAa1oD7HeG8Ie1HoWj6VGh\n",
              "GlUNRZHRNFD7KLV1NS7mPPRvfnrmeG45Z0Lcc3IzTORYjT067hJBBRLZgt6xcQ1pOloowro9LQRC\n",
              "EbJtRhpdKlajQkCCAruFsgILH27rOXbjx6eO7p/xSaDPwna5Ojs1Ro+OGu33+/H7/SlNZthTtc3K\n",
              "ykpWrlzJM888E/e9e/fupaSkJPb3mDFj4iZkhGgSiWCw8xplT9U2xxXaeeCbU3AHIjS6Arz42W6c\n",
              "/jAjsg04G/sWmhjWdDLNBlz+SKdeQNVg7e4Wrnz2C2pdfjQt6qCL9qo6uRkmXN4g3a3mRDTwBFXu\n",
              "e/drgj1kAw0kqABvSMMg91XSnZ/nyX/v4HuzR5NlNXXxERgVGXcgtXnD+4quR1cv6t0hbvrfL2jy\n",
              "6gS0aKMJMC7XwkNXTGfm75bHHW0BWAzQGoL9rT4KHZYBd6L1WdjZ2dlIktRpqNn+tyRJcQWQ6mqb\n",
              "+/bt45JLLuGZZ56huLi4r4/SLf2pttme1O6hxbvZ0eBCA7b0UdQABim6IaOjtNrXbYMRnQ37O6eb\n",
              "UqRoEEeLp2/OnJ5E3V8SWRvuSESD979uYEONkyZPkLwME985eXQscOOHs0p44P2qJFt7ZNS4u35+\n",
              "y6taOPH+5Zxels22Bg8NnggGovEHihGGZZrY2xbiR//zJSZFYkpxFrefV86Mkpz0C1DRDh8r9oFU\n",
              "Vtusra3l7LPP5le/+hVXXHFFt9cYPXo0e/bsoaioCIDdu3dz7rnnxj23v9U23YEIW+pcbGtwEUxw\n",
              "Xqehd1lj7ukKOpCfaSEQVmn1JR7TPNisrG6mzhnEZJB5v7KeD7fUMaU4h0tmFLG4cmC2kSaLj6rb\n",
              "ALhl3niqGt18UtWMPxRhZ8uhkUdQ1Vm7p43v/vkLzjq+kDvOP25AstikbcGAnqpt1tXVMW/ePO64\n",
              "4w6uvvrqHq9zxRVX8MwzzzBr1ix27drFihUrYgX8DsdsNmM2mzsd68vWVEWG6iZ3QqIGQCcWFaZI\n",
              "YDMquHtJCKDp4A1GUGQJg0yXkM90RgL2tQWQJFi160BsBrBiezMrth9Z5tLB5LHlOyi2Szj93f//\n",
              "VWDF1kZkSeLJ785Iec99VFbb/PWvf83evXt5/PHHY6+9+OKLQLQn75jb/Pbbb8fv91NWVsZ5553H\n",
              "k08+SX5+flKfo9kTQpH78VF2yCSi6uCL9D7ENSkSGSYDJ4/NZcrIrMTvOYjoQKPTx+Z9zoQcW0cD\n",
              "+zy9N+phjdiuvFQjqm32Ql+qbfpCEeY/9nFCyxvZ1uhyiixJvZa6aSc/w8jjV05nXGEmuRkmttW7\n",
              "uPiJz5KeQCCVTByWwc5mX6dtpMcSeRlG/vWz03qMIEwG6Zd4+ijEZjKw4NyJWAwyEtEhpyKBxSAx\n",
              "eYSDbFvn5UCrQSKi6pgMCqqmxxxiModSBnW9h8LzV5/InHEF5GZEvcqjcm1k2wZ3NmWSD27K6CO5\n",
              "diPDHObYLq5jjYimp+d+bEF8LphSxMfbm9ha5yY/08Tm/S4kCYpzbciyhEkJMDLbzP62AM3uEDoq\n",
              "eRlGrEYFpz9aMqY9Bjrj4JbEYFgDCYyyzPTR2dgtpk7bRY2KROBIauUkAUkCk6IQiKixaYVM9wEc\n",
              "X+5qw2I0xPadH2v4gyqt3lDKN4YIYScJoyJzwxnjYrurTh6bC0AwojFxWCYjs600OP2d1qtbfGFy\n",
              "bQaKsqw4fWFsVgVfSMUfUrGZZDKM0Z1fI3Iz8AUjPPtRNQC7mr3YTAqrqw/gixcnOoAYFCWWGKGd\n",
              "nqYGIQ1CwSNPP3S0Ih3cLJRqhLCTyOG7q4BOO60eXrqVYM2hdWlNhxZvhF+fOZ71+5y0+kJsqXNF\n",
              "ExkGIlGPt09lnzOaFy0Y0cjLMJOfaWb1zgN4BlnUWWaZCUWZRDSNdXu735UlOESuzcCo3NTnLxBz\n",
              "7CTTvrvKqMidfh9XaOcX507oMn/WgDV7Wnngm1P4xXkTcQei20A7eo01Hfxhjb0tPrIzDFTub4tl\n",
              "WxlMnEGNdXva+i3qeGV0hjpGRelxa2yyOAY/2sHDbjWRae08SDLKEq2+MIGwhkGRD+bl6twTy9Kh\n",
              "MjSrqltiaX/SgUSX7ttRgJmleYzJtybVnnRnb6ufp/69I+W11ISwB5DcDBOzSvMwK9Gkhe2ho3Vt\n",
              "fhpdgYNebmOXVEbtSfhCERVXYPB76mQgy9HnOb4odXsM0pXdzb5Y4b5UIYQ9gBgVmdvPK+e0iQWY\n",
              "FBmDIpFvN2EzG3jx892EVY3hmZYuw3UJMBpkrEYDdnP/dtKlG2EN9rX62dfi5/jC1K7pphsOi5Ly\n",
              "JS/hPBtgog62Kfz8lfVYjAoFdjPuYITdzV5+8fpGtjZE84cbiPbUBgWmjcrBaJDY3xKg3jV4e3yT\n",
              "TZ0ziDeoYjMpTCzMYFujt/c3DQFOHZc3tENKj1VyM0yMyrXh8odxByPUO/00uoPUtvnRdB1Vj85d\n",
              "NUBHIhhWGZWTwVUzRxHu76Q2TXEFIrR4Q4wpsHPliUe+Q+9oYOoAhAILYQ8ChxeQG51rozDTTFG2\n",
              "tUtLrmo6w7IsTCpy8PjyqgENH22Pgkt1kFhI1flkeyOvHpbRdaCwDrAK8lIcTgpiKD5odFzzthhl\n",
              "7n23kq11ri6hliZFxqhIPP/JTvwDHGVmMckcV+TAZJCZPTaPR5fF31ufDAYz0MY/gK2lRGKZXfqL\n",
              "6LEHkfZ1bpvJwPVzSyktyMB/cNtmu77Dmka9M4A7EB6wTfpmQ/TuobDGriYv2VYT151Wykljsgfk\n",
              "/kMZHWhydS1rlGyEsNOEcYV2fnJ6GRnmaBx1e/8Vbd11zEYFTdcGZPNE+75yTY8WFmjn6lmjsR6j\n",
              "mzeSyUNLt6V8HVsMxdOIUbk28jJMXWKJvzossqunTRbJQgIURcJiVKht83PKwuV9ypcu6J2qek+X\n",
              "SqnJRvTYaYTNZOCWcyZgNkRL//Q08i5ymLt/MQnoHEzo5wqyYZ9TiDqJKIbUD3uEsNOMC6YUccGU\n",
              "4ZTmZ2Azxv/3aMCwLEtC+6AF6cOJY3I7VUpNBULYaUb79s8x+RkEekhDuqHG2W3qW0F6872Zo0WA\n",
              "yrFISZ4Nh9nI6Lz42/tkklthUjCw/PfS7Sm/hxB2GuIORDjgCzF+mIOJww7lUpeA4mzLUZXjTNCV\n",
              "rxu8NHtSu0NvUIU9EEX5fvnLX1JeXs60adM48cQTY5lO05lMiwF/JMSKLfXUtXjJsRmYMSqL40dk\n",
              "sm8A9vIKUs/mHsoFJ4NBXe4aiKJ8c+fO5e6778ZqtbJhwwZOO+00amtr+10hdCD45lOfsKk2+nkE\n",
              "VFAiEYIRla/req5aKTg6kCWYXJza7aqD2mNPmDCBadOmYTB0bV/mzZtHVlY0WL5jUT6AOXPmMHz4\n",
              "cKD3onzz58/Hao1u5p8yZQq6rtPU1JSCp0kOV/zp05io21F1hKiHEBdMLiLfntp48aMiQOVIivJ1\n",
              "5MUXX6S0tLRTkb6OJFqUL9nsbnKxZo+z9xMFRzWrdjbjC0VSmqk0pT327Nmzyc/Pj/vT3vv2RrKK\n",
              "8i1fvpx7772XV155BUmKvwC8cOFCsrKyOv2sXr26bw+bBP61qWHA7iUYPJq8YWpaUhsvntIeOx2K\n",
              "8gF89NFHXHPNNbz77rtMnDix2/P6W5QvWZQXpe+8X5BcUh18lrZD8WQV5fv444/5/ve/z9tvv820\n",
              "adN6PLe/RfmSRUlu6qswCgYfRep/Esi+MuSL8l177bUEg0Guueaa2LmbNm0a8GftC0MsOYqgG+wm\n",
              "KeW5xUVRvl7oS1G+ZOELRZh1/1JcqS/GeMRYDdHwV1fw6A+X+fP3K9he7+HznQdYs6uVHiJ5k4IC\n",
              "bP3d/JSGlabtUPxYxGYy8MDlFdz0f+tTdo9Ty/K456JyvvHEZwR7cfiPzbVyZnkB6/e3sbXWRSgC\n",
              "douBE0tyueHMcRxXlEmTK8DORg+BiEpE1/EGImzc08Y/vtqfsmdIJrfMG8+5k0ZyZrnGFSeVEFE1\n",
              "vtrbwv3vbKAhRbkVVWB7bRuTRuWm5gYIYacdnt7U1k/ybAae+u50Zo0rBODWcyfywOJtPb7nySsr\n",
              "mDQql7Cq0eINEVGjRQ3aq5sAlOTbKcnv7BsYk1M3aMK2GqCvO0wf/tYUrjhxNFWNHv572TaqGjyM\n",
              "H2bnlrMn8vbNZzJr4b9TZufnOw8IYR8r+EIRFv4zNfP/A74IDy6t5LEcG1ajgW+fPJonP6zC1U1D\n",
              "Mq7AxoQR2YRVDXcg0knM7bQL3uMPUdsWwGE18F9vbWZzrTslz9AXSnIs7GkN9CpuRYLZpbl8WLmf\n",
              "n768nvZa9NsaPLy/sZ7rzijllNIsPt+ZmriCYZmp3U8vhJ1G1DkDsS9YKlhf4+WMhz/CpsDYAjvf\n",
              "mFzE2xv3xxIJKsDwLDMzxuTwn2eOZ+M+Jy+v3ssBb4iCTDPXzy2lJM9GizfE17Wt/PfSbVTWeRnc\n",
              "Qr6dGTPMwa3zJ3HrK+u7bbQUGeZPLuKsRz4mFGfvawh4esXOlNpZmJXa0kZC2GlEUZaFvAyZBm9q\n",
              "vTc+Fb6u9/B1fecw1bOPL+CSaSModFh44eNdfFrdTFjVOL7IQXWjh4WLK3H5I3y9v23Qy/fGw2Ex\n",
              "cM0ppYzMNvOfZ41jb7OHkTkWvAGVL/Y20dwWYmyejUtOHM3PXxnclRFjiisSCmGnETaTgdvmT+b2\n",
              "1zcOyv2XVjaxtLIJGRieZSIQ1lFVjX2tfhQJ1u5pHRS7+oJNAose4dt//qLH8/a0OVlRPfjLnYFw\n",
              "alNNCWGnGbkZAxcQ0x0aUOs8NCdwBdO/9I5PB1+w9/PSBXdAVNs8pvhyV/r2ioLkUTEqtWV+hLDT\n",
              "jFCqoyMEaUGqq4EIYacRYVVj2bb03SsuSB77W1I7vRHCTiNqW33sbhk6ZXIF3bO/NbX/ZyHsNGLv\n",
              "gfR3UnXEqsB/nlnK+IJjq3B9MsiyG1N6feEVTyMc1r7/sy0GCAxycQ6/Cn/5eCda+i1ppz1Ti3NS\n",
              "en3RY6cR44c7yMvom7jHFdhwWAb/3+dXYQhs8BpQTIAsiYIBxww2k4GHr6hgRFbvccSb63y4UrwW\n",
              "KkgNIUDTRbXNY4qzygtZdusZrN/byo9eWo0nPNgWpRcm4LgRNuaVDycQ1qhq8pBrMzEy18r/rNqL\n",
              "yxfGpIA7zfe072zypjRTqRB2GmIzGSgrzMRmNuIJJ1fZEwqtfH/WWEbnW8i2mPGHQry7oZ51e1vY\n",
              "3xYgokugaXjTtLhmCNhQ66POvZ8HL5/KL74xKfbataeNo84ZoCjLwpLN9Sx4dcPgGdoLJjm1jgkh\n",
              "7DQlN8PElOIclm9tTNo1fzBrNPddOqXL8VnjojnafaFITBg7Gz1c+9IqGtzpqfBGd5B73t7ErNLT\n",
              "Y2l8bSYDZQXRveHHD0tt6qEjZXezn4r4WbCTgphjpylGReb28yaSZ0te23vJtBE9vt4uDJvJwOTi\n",
              "bP59+zxKc9N3KWtva4D/W7UXX6hr45PugT6t/tTOsYSw05jyIgdPfW9G0q6Xn+DmfpvJwJ9/OJNL\n",
              "KoqYXGRnXIE17Wpy//a9LUz59VL+vnJ3p+OSnmaGHobHn1ongBB2mjOrtIAbTy874utYFbD0o/LE\n",
              "uEI7f7iigv+5bjaLbzmDr359Dg9/aypj89KnJ1eB/3r7ay576tPYsUum9zw6GWyG5aT28xvy1Tbb\n",
              "2bJlCzabrct9jgZ+Mb+cp67qOSd6b0wZlUNuhqlf7zV2yHOWZTVxxYmj+N1lU4/InlSwrsbJ31ZG\n",
              "M58U59o5tTR7cA3qAT1O5pZkMqjCbq+2efvtt3d5rb3a5qZNm3jvvfe45ZZbqK6uBohV29y8eTOf\n",
              "ffYZf/rTn1ixYkW39wmHw/zoRz/isssuS9WjpJxvTCnm3EmF/XqvIsEv55f3mu62PYdZuA9bjyaN\n",
              "zMLSQzkLCZg6IpO3/vMU7r/0+ERN7je/fXtLbM794rWzGagBud0kYZT7frdUF6IYVK/4hAkTAFi0\n",
              "aFGX1+bNmxf7vWO1zbKyMubMmRN7rbdqmwD33XcfV1xxBS0tLbS1tSXN/oHmz98/iUeWbOWJFdUJ\n",
              "ve/GM8dRUdJzRsyqRg/PfbyTJk8wlt9sXGH3lUmyrCbuvnASv357Mx07n6IsM/ddMpnjixwUOiwY\n",
              "FZmKUTnYzQZueSX1mWGCRHPHlRXYaXQFUlZ1I8MAFqNCcZ6Vn82byIgcG797bwurdx4g2IfeeGxB\n",
              "ass5HRXLXUdSbXPVqlWsXLmSDz74gHvvvbfH+wx2tc2+cOv55QB9FndxtoUbzuh5jh5WNZ77eCfV\n",
              "TR4KHRZ21Lt45P2tPHj5VLKs3Q/fr5pVwoXTili5o5Ga1gCzy/KYWJQVd2Twjakj+cPS7exrC/TJ\n",
              "7v5SYJMpyorOXz3BSEpE/eR3pnLW8UUEwhqZFkPsef/yw5NodAXYtK+NZz+qYt2++NlaHWaF44qO\n",
              "4kQLg11t0+fzceONN/Lcc891W2GzI4NdbbOv3Hp+OZdOK+r1PItB4tcXT+q2XKsvFGFbvYvt9S4a\n",
              "3AEKHRa8gQhbGzx88HUDFzz+Ce9X1vd4jyyrifOnFnP96eOYXJzT7XDfqMj89f/N5OQxqd388NB/\n",
              "nBB73lG5NrIsyR3yTirK4MKKUdhMhi4pmY2KzMgcG+dPGcGrN5zKucd1nTrZzQqPXTkjpSV0IU1K\n",
              "/Nxzzz20tbXx2GOPdTpeWVnJ/Pnzef7557sU5qutreWss87irrvu6rYw36ZNmzjrrLNiDUJbWxua\n",
              "pnHZZZfx0ksvdTk/Xo9999138/jjjx/B06WO3yzayEur4jeQJgVe/ckpVIyKL6QPtzbyyzc20OQN\n",
              "YZRlsmxG8mxGdh3w4e+QxcVmUnj1x7OYPDI7KTaHVY1GV4A3v6rh2Y+q8Bxc9SnOlJFkjZp+pvE+\n",
              "Y7yDp78/u4tg3lxbw4IkJofc8JtzehzFHM6+Fg//3FCHJMP04mwmj8pJuaghjYfiyai2OWXKFJqa\n",
              "DgUqdNeAtDPY1TYT5d7LpjJ9bB53v7Ee98F4B4siM63Ewb0XTaG8yBH3fb5QhJv/8RWeUHSaoWoa\n",
              "IXcQCWKiliRAB39I5cHFW3nsOxXIktxp6Nkd7UUG4p3b3qv9dN5Erp1bFot0a/+ytwt/8/5WPqps\n",
              "YGNdG5vrek9K8Ndr58Y9/s0TR7H461o+2NLc6zV6wijBPZdMTkjUEPXO/+TM8Ud07/4wqD328uXL\n",
              "ufrqq3G5XOi6TlZWFk8//TQXX3wx55xzDmvXrqWk5FDc3UMPPcR5553H9ddfzz/+8Q/Gjz/0gf3s\n",
              "Zz/jmmuuoba2lgsuuID169d3uV9vwo7HQBbl6y++UISaFh9mo4zV2HWIePi5izfXceurXXsxm1GK\n",
              "my9ckcCkSIzIsTG1OItrTx2LUZFR5GjurvbKkXXOAP5ghJc+30OdKyrYH59e1qMTrq/P973nP+er\n",
              "vfHnrH3pRc/8w4fsau571pL7Ljqes44rIKJDozPIxKLMhEU9mKTFUDydORqE3Vc+qKznt/+spNkT\n",
              "xBfquqRlUiDUi69QAgwHBa0BBkUi0xztmSOahj+kIgE2swF0OGlsLn+8cnpSKkv+cfkOHv1ge6dj\n",
              "v7t0MlfN6lvQ9ea9zdz3z0pWH9ZAXDSliHU1rTgDYXJtJn5z8WTOKu/f0mK6kLZDcUFy2byvjZ+9\n",
              "vB5fD8rtSxOvQ6cysxFVp9UXnQcoErGlr0A4hNWksL6mjRZviGGOQ5FWPQ3Ve+LmeeO5+pQSNtS0\n",
              "IukwdXROQr3o5NH5vHrjaYRVjT0HPOxu9lExOpt8u6XTBpiBmAOnmqP/CQS9ElY1nviwqkdRy0Dk\n",
              "CPf+d1y+1QBfSCXT0jkjzBfVTfz3sh1ous6YPHvCQ/Usq4nTJgw7IjuNisy4QgfjCg/5IDruDBsK\n",
              "CGEfA7gDEVp72HRgN8kEI1pKCr6PK4yuSIRVjXve/pq/r94be21DTRuuQJgnvzsjpUXgj0WEsI8B\n",
              "Mi0GhjssHHR0d0WSUpKQ0GKUsRoV7npzExlmmXc3dF4TD6nw762NfLWnlZmleck34BhGNJPHAEZF\n",
              "5sJpIzB3E9utaTq63rcvQ1+joc2KRMWobFp9YSxGhU374i9Qh1Wdv32xp0/x6YK+I4R9DBBWNZZX\n",
              "NjI2PwPjYRuqjXJ0bi3LfRNtjs3Y45dGIVp/OifDSEjVyLaZyDQbGNNNbLRBhhZfCPdg51IeYoih\n",
              "+DGAOxChyRNkbEEmY/LsfLW3BU8wQo7NRIbFwN5mHzpRh1e3w3XAbJCZWJTJljo3nkA4rrMt06pg\n",
              "NhpwByJsqXWiSBJZGWayrEZKC2zsbPLFzpWADIuREVlWMi3iq5hMxKc5RGnfggnROXZehontDW4y\n",
              "LUbCEQ2LQWbcsAxUFRqdAdxBHVmODskNcrQwuyzJBMIq4YPubvXgkH1eeSE1rT4qa114goc87dE1\n",
              "7qgjLhBRQQeTQabNG8aoyPzpqhNo8wZ44F/bqHUFMMoyFaOz+fHpZcJ5lmSEsIcgVY0eHl66lfV7\n",
              "25AkGD8sE4BGV5Ct9W4imoauw4ptB5AlKCvIIKz68YejwlUUmRybidICO59XHcAgS7Tvodnd5OWu\n",
              "88vZ1+rjF29sQpZAliQimo4ONHvDmBQJXY/28DaTgtkgMzrXSqHDQnmRgzf+Mz/W6PQUJSfoP0LY\n",
              "Q4ywqvHw0q2s2NqEquvIEnxRfYBMi0J5kYOG6kBsyA2g6bCj0Ut+hoFAREMDNA3cQRV/SMWgSIRV\n",
              "HdNB8bX6w1z30hqcgQihgz25djCyRZGiw/iIpmMxyJiNCkaDjPfgsL99uG1U5E4BK4LkI5rKIUaL\n",
              "N8T6vW2ouo5RkWNC8wRVdjR4YvPnjrtYZcAXVNGBDJMSS3pY0+Ln5LG5OCwGrEaZiKqjaTr+iBoT\n",
              "dUcsJoV8uwmjLFGUbSXDbMAfVMm1m/mJGG4PKKLHHoLIkoQsgarr6Hp0iKzqOrIsxZxj7evW0bhu\n",
              "hckjHazb40SRZaT2/lyCG88Yx+tf7qOmxcfOZk+s9/Yctr0VwCBLeIMq+ZkWKkZl0+INkWU18pMz\n",
              "yigfHn+nmSA1CGEPMXIzTFSMzmblzgMEwioaUQdWjs2IIksUOsz4QirBsEZY0zDIEuXDHYQiOvmZ\n",
              "ZgJhlUBExSBF16FnlOQwoySHFm+I3y/ZykfbmwhE1FgDIR9qA1BkidwMM3dfeDxzx+f3Kx5ckByE\n",
              "sIcYRkXm1nMn8uxH1dQ6/eTYjIRVnWZ3kJwME63eEKUFdm46s4ztjR6WbK6n1RemINPMTWeNZ/Gm\n",
              "uthmiI7e6mEOCzecMQ5fSGV9TRuyJBEIq7EMpr+YX87EYZmdNlH0Nyuq4MgR2zZ74WjdttlxB9We\n",
              "Az6e+2QnTe6uiQoP32nV286rjstoFqNMsyc0ZHZEDSXEf2OI0t6TQjTp//2XTo4r2I7nxfs73nU7\n",
              "erSPpuQDxxJC2McIvQlWMLQQXg2BYAgihC0QDEGEsAWCIYgQtkAwBBHLXb3wzW9+kzFjxvT7/aqq\n",
              "snr1ak4++eS0zlHeEWHzwNDR5tLSUn72s58l7dpC2CnG5XKRlZWF0+nE4Tg6wiqFzQNDKm0WQ3GB\n",
              "YAgihC0QDEGEsAWCIYgQdooxm8385je/6VLsL50RNg8MqbRZOM8EgiGI6LEFgiGIELZAMAQRwhYI\n",
              "hiBC2EfIiy++iCRJvPXWWwDMnDmTiooKKioqmDx5MpIksXFj1yLztbW1nHfeeUycOJGpU6dy+eWX\n",
              "09TUlNY2d+Q3v/kNkiSxfv361BvMkdnc2trKVVddxYQJE5g0aRJ33nln2tv80ksvMWXKFCoqKpg+\n",
              "fTr/+te/Eru5Lug3u3bt0mfPnq3PmjVLX7RoUZfXX3vtNX3y5Mlx31tfX69/8sknsb9vu+02/eqr\n",
              "r06RpYc4EpvbWbVqlT5//ny9pKREX7duXWoM7cCR2nzppZfqDz/8cOzvurq6VJjZiSOx+cCBA3pm\n",
              "ZmbMzk8++UQvKChI6P6ix+4nmqZx3XXX8cQTT3S7XPHCCy9w7bXXxn1t2LBhnHrqqbG/Z86cye7d\n",
              "u1NhaowjtRnA5/Nx00038eyzz6bKzE4cqc1VVVWsXbuWBQsWxI4NHz48Jba2c6Q2a5qGruu43W4A\n",
              "2traKC4uTsgGkUGlnzz66KPMmTOHE044Ie7rNTU1fPTRR/zv//5vr9dSVZUnn3ySSy65JNlmdiIZ\n",
              "Nv/iF7/ghhtuYNSoUakysxNHanNlZSXFxcXccMMNrF27lry8PB566CGmT5+etjbn5+fzzDPPMGPG\n",
              "DHJzc/H7/SxbtiwhG4Sw+8HmzZt54403+Pjjj7s9569//SsXXngh+fn5PV5L13VuvPFGcnJykrq7\n",
              "53CSYfMHH3zAnj17ePLJJ1NlZieSYXMkEmH16tU88MADPPvssyxevJgLL7yQ3bt3YzQa09Jmp9PJ\n",
              "448/zurVqznuuON49913ueyyy9iyZQsmUx/TWyU4dRDouv7000/rw4cP10tKSvSSkhLdbDbrBQUF\n",
              "+tNPP63ruq5rmqaPHTtWX7JkSa/Xuummm/T58+frwWAw7W2+88479REjRsSuoSiKXlRUpL/zzjtp\n",
              "a/OaNWv0UaNGdTqWn5+v79ixI21tfu211/Rzzjmni83bt2/vsx1C2Eng9NNP7+QgWbZsmT5q1Chd\n",
              "VdUe3/fTn/5UP//88/VAIJBiC7vSX5s7MlDOs3b6Y7OmafqkSZP0DRs26Loedfzl5eUN2GfeH5u/\n",
              "/PJLvaCgIOY8+/zzz/Xs7Gzd7/f3+b5iKJ4CXnjhBa655hpkubNv8plnnqG2tpb77ruPzz77jCee\n",
              "eILy8nJmzpwJwNixY1m0aNFgmNwnm9ONvtgsSRIvvfQS119/PX6/H7PZzBtvvDFoMeV9sXnGjBn8\n",
              "13/9F2eddRZGoxGDwcCrr76KxdL3QoYiVlwgGIKI5S6BYAgihC0QDEGEsAX9RpIk2traej3vnnvu\n",
              "IRAIpN4gQQwxxxb0G0mSaG1tJTs7OynnCZKH6LEFSeG2227jpJNOoqKigtNOO41t27YB8JOf/ASA\n",
              "uXPnUlFRQWNj42CaecwgemxBv+nYEzc1NVFQUADAyy+/zF//+leWLFnS5TzBwCDWsQVJ4YMPPuCJ\n",
              "J57A7XajaRotLS2DbdIxjeixBf2mvSd2uVxUVFSwZs0aysrK2LhxI6eddlrMsSZ67IFHzLEFR4zT\n",
              "6cRoNFJUVISu6102iWRmZuJ0OgfJumMTIWzBETNlyhS+853vMGnSJE466SRGjx7d6fVbb72Vc845\n",
              "RzjPBhAxFBcIhiCixxYIhiBC2ALBEEQIWyAYgghhCwRDECFsgWAIIoQtEAxBhLAFgiGIELZAMAQR\n",
              "whYIhiBC2ALBEEQIWyAYgvx/OA5xq/u+I6cAAAAASUVORK5CYII=\n",
              "\">\n",
              "        \n",
              "      </div>\n",
              "      <script></script>\n",
              "      <script type=\"text/javascript\">\n",
              "        (() => {\n",
              "          const chartElement = document.getElementById(\"chart-fb015fee-b83a-4c77-8d83-dc1b34ef603f\");\n",
              "          async function getCodeForChartHandler(event) {\n",
              "            const chartCodeResponse =  await google.colab.kernel.invokeFunction(\n",
              "                'getCodeForChart', [\"chart-fb015fee-b83a-4c77-8d83-dc1b34ef603f\"], {});\n",
              "            const responseJson = chartCodeResponse.data['application/json'];\n",
              "            await google.colab.notebook.addCell(responseJson.code, 'code');\n",
              "          }\n",
              "          chartElement.onclick = getCodeForChartHandler;\n",
              "        })();\n",
              "      </script>\n",
              "      <style>\n",
              "        .colab-quickchart-chart-with-code  {\n",
              "            display: block;\n",
              "            float: left;\n",
              "            border: 1px solid transparent;\n",
              "        }\n",
              "\n",
              "        .colab-quickchart-chart-with-code:hover {\n",
              "            cursor: pointer;\n",
              "            border: 1px solid #aaa;\n",
              "        }\n",
              "      </style>"
            ],
            "text/plain": [
              "import numpy as np\n",
              "from google.colab import autoviz\n",
              "\n",
              "def scatter_plots(df, colname_pairs, figscale=1, alpha=.6):\n",
              "  from matplotlib import pyplot as plt\n",
              "  figsize = (len(colname_pairs) * 10 * figscale, 10 * figscale)\n",
              "  plt.figure(figsize=figsize)\n",
              "  for plot_i, (x_colname, y_colname) in enumerate(colname_pairs, start=1):\n",
              "    ax = plt.subplot(1, len(colname_pairs), plot_i)\n",
              "    # Note: `32*figscale` may be too large; scaling by # of datapoints may be\n",
              "    # wiser.\n",
              "    ax.scatter(df[x_colname], df[y_colname], s=(32 * figscale), alpha=alpha)\n",
              "    plt.xlabel(x_colname)\n",
              "    plt.ylabel(y_colname)\n",
              "    ax.spines[['top', 'right',]].set_visible(False)\n",
              "  plt.tight_layout()\n",
              "  return autoviz.MplChart.from_current_mpl_state()\n",
              "\n",
              "chart = scatter_plots(_df_4, *[[['lat', 'long']]], **{})\n",
              "chart"
            ]
          },
          "metadata": {},
          "output_type": "display_data"
        }
      ],
      "source": [
        "df[['lat', 'long']]"
      ]
    },
    {
      "cell_type": "markdown",
      "metadata": {
        "id": "fe7l28I2KFJ4"
      },
      "source": [
        "I noticed that the outliers were generally located at longitude -121.6 or greater. I decided to isolate those entries and determine their average price. This might shed light on whether they are luxury rural properties or cheaper units at the fringes of the urban center. The mean price was 236,588, roughly half of the total mean. This suggests that units on the outskirts are generally cheaper than in the urban core."
      ]
    },
    {
      "cell_type": "code",
      "execution_count": 24,
      "metadata": {
        "colab": {
          "base_uri": "https://localhost:8080/"
        },
        "id": "UF_bmK5UJGhv",
        "outputId": "07fa7006-fde9-4d18-f0dc-1dcd4a30295f"
      },
      "outputs": [
        {
          "data": {
            "text/plain": [
              "590817.6470588235"
            ]
          },
          "execution_count": 24,
          "metadata": {},
          "output_type": "execute_result"
        }
      ],
      "source": [
        "df[df.long > -121.6]['price'].mean()"
      ]
    },
    {
      "cell_type": "markdown",
      "metadata": {
        "id": "QDrVNkslI8t7"
      },
      "source": [
        "# Temporal analysis"
      ]
    },
    {
      "cell_type": "markdown",
      "metadata": {
        "id": "gXBQxnesMWA9"
      },
      "source": [
        "It appears that most units were built in the 2000s, while there are a few units that date from the early 20th century."
      ]
    },
    {
      "cell_type": "code",
      "execution_count": 25,
      "metadata": {
        "colab": {
          "base_uri": "https://localhost:8080/"
        },
        "id": "XU25GUbFJAbp",
        "outputId": "5670960b-9be9-4f6e-fa58-9329e808ffb7"
      },
      "outputs": [
        {
          "data": {
            "text/plain": [
              "Index(['id', 'date', 'price', 'bedrooms', 'bathrooms', 'sqft_living',\n",
              "       'sqft_lot', 'floors', 'waterfront', 'view', 'condition', 'grade',\n",
              "       'sqft_above', 'sqft_basement', 'yr_built', 'yr_renovated', 'zipcode',\n",
              "       'lat', 'long', 'sqft_living15', 'sqft_lot15'],\n",
              "      dtype='object')"
            ]
          },
          "execution_count": 25,
          "metadata": {},
          "output_type": "execute_result"
        }
      ],
      "source": [
        "df.columns"
      ]
    },
    {
      "cell_type": "code",
      "execution_count": 26,
      "metadata": {
        "colab": {
          "base_uri": "https://localhost:8080/",
          "height": 423
        },
        "id": "nLFkjDKjLzGe",
        "outputId": "e58934b3-5047-40df-e221-0f86b6b296c5"
      },
      "outputs": [
        {
          "data": {
            "text/html": [
              "\n",
              "\n",
              "  <div id=\"df-c4a44550-3053-409e-9d13-96b5df7aa16b\">\n",
              "    <div class=\"colab-df-container\">\n",
              "      <div>\n",
              "<style scoped>\n",
              "    .dataframe tbody tr th:only-of-type {\n",
              "        vertical-align: middle;\n",
              "    }\n",
              "\n",
              "    .dataframe tbody tr th {\n",
              "        vertical-align: top;\n",
              "    }\n",
              "\n",
              "    .dataframe thead th {\n",
              "        text-align: right;\n",
              "    }\n",
              "</style>\n",
              "<table border=\"1\" class=\"dataframe\">\n",
              "  <thead>\n",
              "    <tr style=\"text-align: right;\">\n",
              "      <th></th>\n",
              "      <th>yr_built</th>\n",
              "    </tr>\n",
              "  </thead>\n",
              "  <tbody>\n",
              "    <tr>\n",
              "      <th>2014</th>\n",
              "      <td>559</td>\n",
              "    </tr>\n",
              "    <tr>\n",
              "      <th>2006</th>\n",
              "      <td>454</td>\n",
              "    </tr>\n",
              "    <tr>\n",
              "      <th>2005</th>\n",
              "      <td>450</td>\n",
              "    </tr>\n",
              "    <tr>\n",
              "      <th>2004</th>\n",
              "      <td>433</td>\n",
              "    </tr>\n",
              "    <tr>\n",
              "      <th>2003</th>\n",
              "      <td>422</td>\n",
              "    </tr>\n",
              "    <tr>\n",
              "      <th>...</th>\n",
              "      <td>...</td>\n",
              "    </tr>\n",
              "    <tr>\n",
              "      <th>1933</th>\n",
              "      <td>30</td>\n",
              "    </tr>\n",
              "    <tr>\n",
              "      <th>1901</th>\n",
              "      <td>29</td>\n",
              "    </tr>\n",
              "    <tr>\n",
              "      <th>1902</th>\n",
              "      <td>27</td>\n",
              "    </tr>\n",
              "    <tr>\n",
              "      <th>1935</th>\n",
              "      <td>24</td>\n",
              "    </tr>\n",
              "    <tr>\n",
              "      <th>1934</th>\n",
              "      <td>21</td>\n",
              "    </tr>\n",
              "  </tbody>\n",
              "</table>\n",
              "<p>116 rows × 1 columns</p>\n",
              "</div>\n",
              "      <button class=\"colab-df-convert\" onclick=\"convertToInteractive('df-c4a44550-3053-409e-9d13-96b5df7aa16b')\"\n",
              "              title=\"Convert this dataframe to an interactive table.\"\n",
              "              style=\"display:none;\">\n",
              "\n",
              "  <svg xmlns=\"http://www.w3.org/2000/svg\" height=\"24px\"viewBox=\"0 0 24 24\"\n",
              "       width=\"24px\">\n",
              "    <path d=\"M0 0h24v24H0V0z\" fill=\"none\"/>\n",
              "    <path d=\"M18.56 5.44l.94 2.06.94-2.06 2.06-.94-2.06-.94-.94-2.06-.94 2.06-2.06.94zm-11 1L8.5 8.5l.94-2.06 2.06-.94-2.06-.94L8.5 2.5l-.94 2.06-2.06.94zm10 10l.94 2.06.94-2.06 2.06-.94-2.06-.94-.94-2.06-.94 2.06-2.06.94z\"/><path d=\"M17.41 7.96l-1.37-1.37c-.4-.4-.92-.59-1.43-.59-.52 0-1.04.2-1.43.59L10.3 9.45l-7.72 7.72c-.78.78-.78 2.05 0 2.83L4 21.41c.39.39.9.59 1.41.59.51 0 1.02-.2 1.41-.59l7.78-7.78 2.81-2.81c.8-.78.8-2.07 0-2.86zM5.41 20L4 18.59l7.72-7.72 1.47 1.35L5.41 20z\"/>\n",
              "  </svg>\n",
              "      </button>\n",
              "\n",
              "\n",
              "\n",
              "    <div id=\"df-1a2b2185-4224-499d-bcf7-6ac4eaa0c29d\">\n",
              "      <button class=\"colab-df-quickchart\" onclick=\"quickchart('df-1a2b2185-4224-499d-bcf7-6ac4eaa0c29d')\"\n",
              "              title=\"Suggest charts.\"\n",
              "              style=\"display:none;\">\n",
              "\n",
              "<svg xmlns=\"http://www.w3.org/2000/svg\" height=\"24px\"viewBox=\"0 0 24 24\"\n",
              "     width=\"24px\">\n",
              "    <g>\n",
              "        <path d=\"M19 3H5c-1.1 0-2 .9-2 2v14c0 1.1.9 2 2 2h14c1.1 0 2-.9 2-2V5c0-1.1-.9-2-2-2zM9 17H7v-7h2v7zm4 0h-2V7h2v10zm4 0h-2v-4h2v4z\"/>\n",
              "    </g>\n",
              "</svg>\n",
              "      </button>\n",
              "    </div>\n",
              "\n",
              "<style>\n",
              "  .colab-df-quickchart {\n",
              "    background-color: #E8F0FE;\n",
              "    border: none;\n",
              "    border-radius: 50%;\n",
              "    cursor: pointer;\n",
              "    display: none;\n",
              "    fill: #1967D2;\n",
              "    height: 32px;\n",
              "    padding: 0 0 0 0;\n",
              "    width: 32px;\n",
              "  }\n",
              "\n",
              "  .colab-df-quickchart:hover {\n",
              "    background-color: #E2EBFA;\n",
              "    box-shadow: 0px 1px 2px rgba(60, 64, 67, 0.3), 0px 1px 3px 1px rgba(60, 64, 67, 0.15);\n",
              "    fill: #174EA6;\n",
              "  }\n",
              "\n",
              "  [theme=dark] .colab-df-quickchart {\n",
              "    background-color: #3B4455;\n",
              "    fill: #D2E3FC;\n",
              "  }\n",
              "\n",
              "  [theme=dark] .colab-df-quickchart:hover {\n",
              "    background-color: #434B5C;\n",
              "    box-shadow: 0px 1px 3px 1px rgba(0, 0, 0, 0.15);\n",
              "    filter: drop-shadow(0px 1px 2px rgba(0, 0, 0, 0.3));\n",
              "    fill: #FFFFFF;\n",
              "  }\n",
              "</style>\n",
              "\n",
              "    <script>\n",
              "      async function quickchart(key) {\n",
              "        const containerElement = document.querySelector('#' + key);\n",
              "        const charts = await google.colab.kernel.invokeFunction(\n",
              "            'suggestCharts', [key], {});\n",
              "      }\n",
              "    </script>\n",
              "\n",
              "      <script>\n",
              "\n",
              "function displayQuickchartButton(domScope) {\n",
              "  let quickchartButtonEl =\n",
              "    domScope.querySelector('#df-1a2b2185-4224-499d-bcf7-6ac4eaa0c29d button.colab-df-quickchart');\n",
              "  quickchartButtonEl.style.display =\n",
              "    google.colab.kernel.accessAllowed ? 'block' : 'none';\n",
              "}\n",
              "\n",
              "        displayQuickchartButton(document);\n",
              "      </script>\n",
              "      <style>\n",
              "    .colab-df-container {\n",
              "      display:flex;\n",
              "      flex-wrap:wrap;\n",
              "      gap: 12px;\n",
              "    }\n",
              "\n",
              "    .colab-df-convert {\n",
              "      background-color: #E8F0FE;\n",
              "      border: none;\n",
              "      border-radius: 50%;\n",
              "      cursor: pointer;\n",
              "      display: none;\n",
              "      fill: #1967D2;\n",
              "      height: 32px;\n",
              "      padding: 0 0 0 0;\n",
              "      width: 32px;\n",
              "    }\n",
              "\n",
              "    .colab-df-convert:hover {\n",
              "      background-color: #E2EBFA;\n",
              "      box-shadow: 0px 1px 2px rgba(60, 64, 67, 0.3), 0px 1px 3px 1px rgba(60, 64, 67, 0.15);\n",
              "      fill: #174EA6;\n",
              "    }\n",
              "\n",
              "    [theme=dark] .colab-df-convert {\n",
              "      background-color: #3B4455;\n",
              "      fill: #D2E3FC;\n",
              "    }\n",
              "\n",
              "    [theme=dark] .colab-df-convert:hover {\n",
              "      background-color: #434B5C;\n",
              "      box-shadow: 0px 1px 3px 1px rgba(0, 0, 0, 0.15);\n",
              "      filter: drop-shadow(0px 1px 2px rgba(0, 0, 0, 0.3));\n",
              "      fill: #FFFFFF;\n",
              "    }\n",
              "  </style>\n",
              "\n",
              "      <script>\n",
              "        const buttonEl =\n",
              "          document.querySelector('#df-c4a44550-3053-409e-9d13-96b5df7aa16b button.colab-df-convert');\n",
              "        buttonEl.style.display =\n",
              "          google.colab.kernel.accessAllowed ? 'block' : 'none';\n",
              "\n",
              "        async function convertToInteractive(key) {\n",
              "          const element = document.querySelector('#df-c4a44550-3053-409e-9d13-96b5df7aa16b');\n",
              "          const dataTable =\n",
              "            await google.colab.kernel.invokeFunction('convertToInteractive',\n",
              "                                                     [key], {});\n",
              "          if (!dataTable) return;\n",
              "\n",
              "          const docLinkHtml = 'Like what you see? Visit the ' +\n",
              "            '<a target=\"_blank\" href=https://colab.research.google.com/notebooks/data_table.ipynb>data table notebook</a>'\n",
              "            + ' to learn more about interactive tables.';\n",
              "          element.innerHTML = '';\n",
              "          dataTable['output_type'] = 'display_data';\n",
              "          await google.colab.output.renderOutput(dataTable, element);\n",
              "          const docLink = document.createElement('div');\n",
              "          docLink.innerHTML = docLinkHtml;\n",
              "          element.appendChild(docLink);\n",
              "        }\n",
              "      </script>\n",
              "    </div>\n",
              "  </div>\n"
            ],
            "text/plain": [
              "      yr_built\n",
              "2014       559\n",
              "2006       454\n",
              "2005       450\n",
              "2004       433\n",
              "2003       422\n",
              "...        ...\n",
              "1933        30\n",
              "1901        29\n",
              "1902        27\n",
              "1935        24\n",
              "1934        21\n",
              "\n",
              "[116 rows x 1 columns]"
            ]
          },
          "execution_count": 26,
          "metadata": {},
          "output_type": "execute_result"
        }
      ],
      "source": [
        "df.yr_built.value_counts().to_frame()"
      ]
    },
    {
      "cell_type": "markdown",
      "metadata": {
        "id": "3xiWrEZAMoX7"
      },
      "source": [
        "The earliest units are from 1900. There are 87 such units."
      ]
    },
    {
      "cell_type": "code",
      "execution_count": 27,
      "metadata": {
        "colab": {
          "base_uri": "https://localhost:8080/"
        },
        "id": "4jUFTjBML5qC",
        "outputId": "017b32ae-0a22-4582-aa62-84f919dca382"
      },
      "outputs": [
        {
          "data": {
            "text/plain": [
              "1900"
            ]
          },
          "execution_count": 27,
          "metadata": {},
          "output_type": "execute_result"
        }
      ],
      "source": [
        "df.yr_built.min()"
      ]
    },
    {
      "cell_type": "code",
      "execution_count": 28,
      "metadata": {
        "colab": {
          "base_uri": "https://localhost:8080/",
          "height": 487
        },
        "id": "RSmvvncCTW0U",
        "outputId": "4089b02f-4e53-4114-ae8e-4f9ccad23662"
      },
      "outputs": [
        {
          "data": {
            "text/html": [
              "\n",
              "\n",
              "  <div id=\"df-3208192a-165b-4dec-b6a9-f589e479fea6\">\n",
              "    <div class=\"colab-df-container\">\n",
              "      <div>\n",
              "<style scoped>\n",
              "    .dataframe tbody tr th:only-of-type {\n",
              "        vertical-align: middle;\n",
              "    }\n",
              "\n",
              "    .dataframe tbody tr th {\n",
              "        vertical-align: top;\n",
              "    }\n",
              "\n",
              "    .dataframe thead th {\n",
              "        text-align: right;\n",
              "    }\n",
              "</style>\n",
              "<table border=\"1\" class=\"dataframe\">\n",
              "  <thead>\n",
              "    <tr style=\"text-align: right;\">\n",
              "      <th></th>\n",
              "      <th>id</th>\n",
              "      <th>date</th>\n",
              "      <th>price</th>\n",
              "      <th>bedrooms</th>\n",
              "      <th>bathrooms</th>\n",
              "      <th>sqft_living</th>\n",
              "      <th>sqft_lot</th>\n",
              "      <th>floors</th>\n",
              "      <th>waterfront</th>\n",
              "      <th>view</th>\n",
              "      <th>...</th>\n",
              "      <th>grade</th>\n",
              "      <th>sqft_above</th>\n",
              "      <th>sqft_basement</th>\n",
              "      <th>yr_built</th>\n",
              "      <th>yr_renovated</th>\n",
              "      <th>zipcode</th>\n",
              "      <th>lat</th>\n",
              "      <th>long</th>\n",
              "      <th>sqft_living15</th>\n",
              "      <th>sqft_lot15</th>\n",
              "    </tr>\n",
              "  </thead>\n",
              "  <tbody>\n",
              "    <tr>\n",
              "      <th>14</th>\n",
              "      <td>1175000570</td>\n",
              "      <td>20150312T000000</td>\n",
              "      <td>90000.0</td>\n",
              "      <td>5</td>\n",
              "      <td>2.00</td>\n",
              "      <td>1810</td>\n",
              "      <td>4850</td>\n",
              "      <td>1.5</td>\n",
              "      <td>0</td>\n",
              "      <td>0</td>\n",
              "      <td>...</td>\n",
              "      <td>7</td>\n",
              "      <td>1810</td>\n",
              "      <td>0</td>\n",
              "      <td>1900</td>\n",
              "      <td>0</td>\n",
              "      <td>98107</td>\n",
              "      <td>47.6700</td>\n",
              "      <td>-122.394</td>\n",
              "      <td>1360</td>\n",
              "      <td>4850</td>\n",
              "    </tr>\n",
              "    <tr>\n",
              "      <th>115</th>\n",
              "      <td>3626039325</td>\n",
              "      <td>20141121T000000</td>\n",
              "      <td>135000.0</td>\n",
              "      <td>3</td>\n",
              "      <td>3.50</td>\n",
              "      <td>4380</td>\n",
              "      <td>6350</td>\n",
              "      <td>2.0</td>\n",
              "      <td>0</td>\n",
              "      <td>0</td>\n",
              "      <td>...</td>\n",
              "      <td>8</td>\n",
              "      <td>2780</td>\n",
              "      <td>1600</td>\n",
              "      <td>1900</td>\n",
              "      <td>1999</td>\n",
              "      <td>98117</td>\n",
              "      <td>47.6981</td>\n",
              "      <td>-122.368</td>\n",
              "      <td>1830</td>\n",
              "      <td>6350</td>\n",
              "    </tr>\n",
              "    <tr>\n",
              "      <th>498</th>\n",
              "      <td>9274202270</td>\n",
              "      <td>20140818T000000</td>\n",
              "      <td>180000.0</td>\n",
              "      <td>2</td>\n",
              "      <td>1.50</td>\n",
              "      <td>1490</td>\n",
              "      <td>5750</td>\n",
              "      <td>1.5</td>\n",
              "      <td>0</td>\n",
              "      <td>0</td>\n",
              "      <td>...</td>\n",
              "      <td>7</td>\n",
              "      <td>1190</td>\n",
              "      <td>300</td>\n",
              "      <td>1900</td>\n",
              "      <td>0</td>\n",
              "      <td>98116</td>\n",
              "      <td>47.5872</td>\n",
              "      <td>-122.390</td>\n",
              "      <td>1590</td>\n",
              "      <td>4025</td>\n",
              "    </tr>\n",
              "    <tr>\n",
              "      <th>537</th>\n",
              "      <td>5694500105</td>\n",
              "      <td>20141204T000000</td>\n",
              "      <td>185000.0</td>\n",
              "      <td>2</td>\n",
              "      <td>2.00</td>\n",
              "      <td>1510</td>\n",
              "      <td>4000</td>\n",
              "      <td>1.0</td>\n",
              "      <td>0</td>\n",
              "      <td>0</td>\n",
              "      <td>...</td>\n",
              "      <td>7</td>\n",
              "      <td>1010</td>\n",
              "      <td>500</td>\n",
              "      <td>1900</td>\n",
              "      <td>0</td>\n",
              "      <td>98103</td>\n",
              "      <td>47.6582</td>\n",
              "      <td>-122.345</td>\n",
              "      <td>1920</td>\n",
              "      <td>4000</td>\n",
              "    </tr>\n",
              "    <tr>\n",
              "      <th>703</th>\n",
              "      <td>7011200260</td>\n",
              "      <td>20141219T000000</td>\n",
              "      <td>195000.0</td>\n",
              "      <td>4</td>\n",
              "      <td>2.00</td>\n",
              "      <td>1400</td>\n",
              "      <td>3600</td>\n",
              "      <td>1.0</td>\n",
              "      <td>0</td>\n",
              "      <td>0</td>\n",
              "      <td>...</td>\n",
              "      <td>7</td>\n",
              "      <td>1100</td>\n",
              "      <td>300</td>\n",
              "      <td>1900</td>\n",
              "      <td>0</td>\n",
              "      <td>98119</td>\n",
              "      <td>47.6385</td>\n",
              "      <td>-122.370</td>\n",
              "      <td>1630</td>\n",
              "      <td>2048</td>\n",
              "    </tr>\n",
              "    <tr>\n",
              "      <th>...</th>\n",
              "      <td>...</td>\n",
              "      <td>...</td>\n",
              "      <td>...</td>\n",
              "      <td>...</td>\n",
              "      <td>...</td>\n",
              "      <td>...</td>\n",
              "      <td>...</td>\n",
              "      <td>...</td>\n",
              "      <td>...</td>\n",
              "      <td>...</td>\n",
              "      <td>...</td>\n",
              "      <td>...</td>\n",
              "      <td>...</td>\n",
              "      <td>...</td>\n",
              "      <td>...</td>\n",
              "      <td>...</td>\n",
              "      <td>...</td>\n",
              "      <td>...</td>\n",
              "      <td>...</td>\n",
              "      <td>...</td>\n",
              "      <td>...</td>\n",
              "    </tr>\n",
              "    <tr>\n",
              "      <th>19063</th>\n",
              "      <td>1702901340</td>\n",
              "      <td>20140613T000000</td>\n",
              "      <td>840000.0</td>\n",
              "      <td>3</td>\n",
              "      <td>2.00</td>\n",
              "      <td>2910</td>\n",
              "      <td>6600</td>\n",
              "      <td>2.0</td>\n",
              "      <td>0</td>\n",
              "      <td>0</td>\n",
              "      <td>...</td>\n",
              "      <td>7</td>\n",
              "      <td>1920</td>\n",
              "      <td>990</td>\n",
              "      <td>1900</td>\n",
              "      <td>1988</td>\n",
              "      <td>98118</td>\n",
              "      <td>47.5576</td>\n",
              "      <td>-122.281</td>\n",
              "      <td>1370</td>\n",
              "      <td>5500</td>\n",
              "    </tr>\n",
              "    <tr>\n",
              "      <th>19137</th>\n",
              "      <td>3388110230</td>\n",
              "      <td>20140729T000000</td>\n",
              "      <td>850000.0</td>\n",
              "      <td>4</td>\n",
              "      <td>1.75</td>\n",
              "      <td>1790</td>\n",
              "      <td>7175</td>\n",
              "      <td>1.5</td>\n",
              "      <td>0</td>\n",
              "      <td>0</td>\n",
              "      <td>...</td>\n",
              "      <td>6</td>\n",
              "      <td>1410</td>\n",
              "      <td>380</td>\n",
              "      <td>1900</td>\n",
              "      <td>0</td>\n",
              "      <td>98168</td>\n",
              "      <td>47.4963</td>\n",
              "      <td>-122.318</td>\n",
              "      <td>1790</td>\n",
              "      <td>8417</td>\n",
              "    </tr>\n",
              "    <tr>\n",
              "      <th>19319</th>\n",
              "      <td>4083302225</td>\n",
              "      <td>20141014T000000</td>\n",
              "      <td>870000.0</td>\n",
              "      <td>4</td>\n",
              "      <td>3.00</td>\n",
              "      <td>2550</td>\n",
              "      <td>3784</td>\n",
              "      <td>1.5</td>\n",
              "      <td>0</td>\n",
              "      <td>0</td>\n",
              "      <td>...</td>\n",
              "      <td>8</td>\n",
              "      <td>1750</td>\n",
              "      <td>800</td>\n",
              "      <td>1900</td>\n",
              "      <td>0</td>\n",
              "      <td>98103</td>\n",
              "      <td>47.6559</td>\n",
              "      <td>-122.338</td>\n",
              "      <td>2100</td>\n",
              "      <td>4560</td>\n",
              "    </tr>\n",
              "    <tr>\n",
              "      <th>19385</th>\n",
              "      <td>2420069042</td>\n",
              "      <td>20150424T000000</td>\n",
              "      <td>875000.0</td>\n",
              "      <td>3</td>\n",
              "      <td>2.00</td>\n",
              "      <td>1553</td>\n",
              "      <td>6550</td>\n",
              "      <td>1.0</td>\n",
              "      <td>0</td>\n",
              "      <td>0</td>\n",
              "      <td>...</td>\n",
              "      <td>7</td>\n",
              "      <td>1553</td>\n",
              "      <td>0</td>\n",
              "      <td>1900</td>\n",
              "      <td>2001</td>\n",
              "      <td>98022</td>\n",
              "      <td>47.2056</td>\n",
              "      <td>-121.994</td>\n",
              "      <td>1010</td>\n",
              "      <td>10546</td>\n",
              "    </tr>\n",
              "    <tr>\n",
              "      <th>19598</th>\n",
              "      <td>7518507685</td>\n",
              "      <td>20150223T000000</td>\n",
              "      <td>905000.0</td>\n",
              "      <td>3</td>\n",
              "      <td>1.00</td>\n",
              "      <td>1100</td>\n",
              "      <td>5100</td>\n",
              "      <td>2.0</td>\n",
              "      <td>0</td>\n",
              "      <td>0</td>\n",
              "      <td>...</td>\n",
              "      <td>7</td>\n",
              "      <td>1100</td>\n",
              "      <td>0</td>\n",
              "      <td>1900</td>\n",
              "      <td>0</td>\n",
              "      <td>98117</td>\n",
              "      <td>47.6790</td>\n",
              "      <td>-122.386</td>\n",
              "      <td>1540</td>\n",
              "      <td>5100</td>\n",
              "    </tr>\n",
              "  </tbody>\n",
              "</table>\n",
              "<p>87 rows × 21 columns</p>\n",
              "</div>\n",
              "      <button class=\"colab-df-convert\" onclick=\"convertToInteractive('df-3208192a-165b-4dec-b6a9-f589e479fea6')\"\n",
              "              title=\"Convert this dataframe to an interactive table.\"\n",
              "              style=\"display:none;\">\n",
              "\n",
              "  <svg xmlns=\"http://www.w3.org/2000/svg\" height=\"24px\"viewBox=\"0 0 24 24\"\n",
              "       width=\"24px\">\n",
              "    <path d=\"M0 0h24v24H0V0z\" fill=\"none\"/>\n",
              "    <path d=\"M18.56 5.44l.94 2.06.94-2.06 2.06-.94-2.06-.94-.94-2.06-.94 2.06-2.06.94zm-11 1L8.5 8.5l.94-2.06 2.06-.94-2.06-.94L8.5 2.5l-.94 2.06-2.06.94zm10 10l.94 2.06.94-2.06 2.06-.94-2.06-.94-.94-2.06-.94 2.06-2.06.94z\"/><path d=\"M17.41 7.96l-1.37-1.37c-.4-.4-.92-.59-1.43-.59-.52 0-1.04.2-1.43.59L10.3 9.45l-7.72 7.72c-.78.78-.78 2.05 0 2.83L4 21.41c.39.39.9.59 1.41.59.51 0 1.02-.2 1.41-.59l7.78-7.78 2.81-2.81c.8-.78.8-2.07 0-2.86zM5.41 20L4 18.59l7.72-7.72 1.47 1.35L5.41 20z\"/>\n",
              "  </svg>\n",
              "      </button>\n",
              "\n",
              "\n",
              "\n",
              "    <div id=\"df-f6477a31-c4ed-4a1f-8dd6-075174c98029\">\n",
              "      <button class=\"colab-df-quickchart\" onclick=\"quickchart('df-f6477a31-c4ed-4a1f-8dd6-075174c98029')\"\n",
              "              title=\"Suggest charts.\"\n",
              "              style=\"display:none;\">\n",
              "\n",
              "<svg xmlns=\"http://www.w3.org/2000/svg\" height=\"24px\"viewBox=\"0 0 24 24\"\n",
              "     width=\"24px\">\n",
              "    <g>\n",
              "        <path d=\"M19 3H5c-1.1 0-2 .9-2 2v14c0 1.1.9 2 2 2h14c1.1 0 2-.9 2-2V5c0-1.1-.9-2-2-2zM9 17H7v-7h2v7zm4 0h-2V7h2v10zm4 0h-2v-4h2v4z\"/>\n",
              "    </g>\n",
              "</svg>\n",
              "      </button>\n",
              "    </div>\n",
              "\n",
              "<style>\n",
              "  .colab-df-quickchart {\n",
              "    background-color: #E8F0FE;\n",
              "    border: none;\n",
              "    border-radius: 50%;\n",
              "    cursor: pointer;\n",
              "    display: none;\n",
              "    fill: #1967D2;\n",
              "    height: 32px;\n",
              "    padding: 0 0 0 0;\n",
              "    width: 32px;\n",
              "  }\n",
              "\n",
              "  .colab-df-quickchart:hover {\n",
              "    background-color: #E2EBFA;\n",
              "    box-shadow: 0px 1px 2px rgba(60, 64, 67, 0.3), 0px 1px 3px 1px rgba(60, 64, 67, 0.15);\n",
              "    fill: #174EA6;\n",
              "  }\n",
              "\n",
              "  [theme=dark] .colab-df-quickchart {\n",
              "    background-color: #3B4455;\n",
              "    fill: #D2E3FC;\n",
              "  }\n",
              "\n",
              "  [theme=dark] .colab-df-quickchart:hover {\n",
              "    background-color: #434B5C;\n",
              "    box-shadow: 0px 1px 3px 1px rgba(0, 0, 0, 0.15);\n",
              "    filter: drop-shadow(0px 1px 2px rgba(0, 0, 0, 0.3));\n",
              "    fill: #FFFFFF;\n",
              "  }\n",
              "</style>\n",
              "\n",
              "    <script>\n",
              "      async function quickchart(key) {\n",
              "        const containerElement = document.querySelector('#' + key);\n",
              "        const charts = await google.colab.kernel.invokeFunction(\n",
              "            'suggestCharts', [key], {});\n",
              "      }\n",
              "    </script>\n",
              "\n",
              "      <script>\n",
              "\n",
              "function displayQuickchartButton(domScope) {\n",
              "  let quickchartButtonEl =\n",
              "    domScope.querySelector('#df-f6477a31-c4ed-4a1f-8dd6-075174c98029 button.colab-df-quickchart');\n",
              "  quickchartButtonEl.style.display =\n",
              "    google.colab.kernel.accessAllowed ? 'block' : 'none';\n",
              "}\n",
              "\n",
              "        displayQuickchartButton(document);\n",
              "      </script>\n",
              "      <style>\n",
              "    .colab-df-container {\n",
              "      display:flex;\n",
              "      flex-wrap:wrap;\n",
              "      gap: 12px;\n",
              "    }\n",
              "\n",
              "    .colab-df-convert {\n",
              "      background-color: #E8F0FE;\n",
              "      border: none;\n",
              "      border-radius: 50%;\n",
              "      cursor: pointer;\n",
              "      display: none;\n",
              "      fill: #1967D2;\n",
              "      height: 32px;\n",
              "      padding: 0 0 0 0;\n",
              "      width: 32px;\n",
              "    }\n",
              "\n",
              "    .colab-df-convert:hover {\n",
              "      background-color: #E2EBFA;\n",
              "      box-shadow: 0px 1px 2px rgba(60, 64, 67, 0.3), 0px 1px 3px 1px rgba(60, 64, 67, 0.15);\n",
              "      fill: #174EA6;\n",
              "    }\n",
              "\n",
              "    [theme=dark] .colab-df-convert {\n",
              "      background-color: #3B4455;\n",
              "      fill: #D2E3FC;\n",
              "    }\n",
              "\n",
              "    [theme=dark] .colab-df-convert:hover {\n",
              "      background-color: #434B5C;\n",
              "      box-shadow: 0px 1px 3px 1px rgba(0, 0, 0, 0.15);\n",
              "      filter: drop-shadow(0px 1px 2px rgba(0, 0, 0, 0.3));\n",
              "      fill: #FFFFFF;\n",
              "    }\n",
              "  </style>\n",
              "\n",
              "      <script>\n",
              "        const buttonEl =\n",
              "          document.querySelector('#df-3208192a-165b-4dec-b6a9-f589e479fea6 button.colab-df-convert');\n",
              "        buttonEl.style.display =\n",
              "          google.colab.kernel.accessAllowed ? 'block' : 'none';\n",
              "\n",
              "        async function convertToInteractive(key) {\n",
              "          const element = document.querySelector('#df-3208192a-165b-4dec-b6a9-f589e479fea6');\n",
              "          const dataTable =\n",
              "            await google.colab.kernel.invokeFunction('convertToInteractive',\n",
              "                                                     [key], {});\n",
              "          if (!dataTable) return;\n",
              "\n",
              "          const docLinkHtml = 'Like what you see? Visit the ' +\n",
              "            '<a target=\"_blank\" href=https://colab.research.google.com/notebooks/data_table.ipynb>data table notebook</a>'\n",
              "            + ' to learn more about interactive tables.';\n",
              "          element.innerHTML = '';\n",
              "          dataTable['output_type'] = 'display_data';\n",
              "          await google.colab.output.renderOutput(dataTable, element);\n",
              "          const docLink = document.createElement('div');\n",
              "          docLink.innerHTML = docLinkHtml;\n",
              "          element.appendChild(docLink);\n",
              "        }\n",
              "      </script>\n",
              "    </div>\n",
              "  </div>\n"
            ],
            "text/plain": [
              "               id             date     price  bedrooms  bathrooms  \\\n",
              "14     1175000570  20150312T000000   90000.0         5       2.00   \n",
              "115    3626039325  20141121T000000  135000.0         3       3.50   \n",
              "498    9274202270  20140818T000000  180000.0         2       1.50   \n",
              "537    5694500105  20141204T000000  185000.0         2       2.00   \n",
              "703    7011200260  20141219T000000  195000.0         4       2.00   \n",
              "...           ...              ...       ...       ...        ...   \n",
              "19063  1702901340  20140613T000000  840000.0         3       2.00   \n",
              "19137  3388110230  20140729T000000  850000.0         4       1.75   \n",
              "19319  4083302225  20141014T000000  870000.0         4       3.00   \n",
              "19385  2420069042  20150424T000000  875000.0         3       2.00   \n",
              "19598  7518507685  20150223T000000  905000.0         3       1.00   \n",
              "\n",
              "       sqft_living  sqft_lot  floors  waterfront  view  ...  grade  \\\n",
              "14            1810      4850     1.5           0     0  ...      7   \n",
              "115           4380      6350     2.0           0     0  ...      8   \n",
              "498           1490      5750     1.5           0     0  ...      7   \n",
              "537           1510      4000     1.0           0     0  ...      7   \n",
              "703           1400      3600     1.0           0     0  ...      7   \n",
              "...            ...       ...     ...         ...   ...  ...    ...   \n",
              "19063         2910      6600     2.0           0     0  ...      7   \n",
              "19137         1790      7175     1.5           0     0  ...      6   \n",
              "19319         2550      3784     1.5           0     0  ...      8   \n",
              "19385         1553      6550     1.0           0     0  ...      7   \n",
              "19598         1100      5100     2.0           0     0  ...      7   \n",
              "\n",
              "       sqft_above  sqft_basement  yr_built  yr_renovated  zipcode      lat  \\\n",
              "14           1810              0      1900             0    98107  47.6700   \n",
              "115          2780           1600      1900          1999    98117  47.6981   \n",
              "498          1190            300      1900             0    98116  47.5872   \n",
              "537          1010            500      1900             0    98103  47.6582   \n",
              "703          1100            300      1900             0    98119  47.6385   \n",
              "...           ...            ...       ...           ...      ...      ...   \n",
              "19063        1920            990      1900          1988    98118  47.5576   \n",
              "19137        1410            380      1900             0    98168  47.4963   \n",
              "19319        1750            800      1900             0    98103  47.6559   \n",
              "19385        1553              0      1900          2001    98022  47.2056   \n",
              "19598        1100              0      1900             0    98117  47.6790   \n",
              "\n",
              "          long  sqft_living15  sqft_lot15  \n",
              "14    -122.394           1360        4850  \n",
              "115   -122.368           1830        6350  \n",
              "498   -122.390           1590        4025  \n",
              "537   -122.345           1920        4000  \n",
              "703   -122.370           1630        2048  \n",
              "...        ...            ...         ...  \n",
              "19063 -122.281           1370        5500  \n",
              "19137 -122.318           1790        8417  \n",
              "19319 -122.338           2100        4560  \n",
              "19385 -121.994           1010       10546  \n",
              "19598 -122.386           1540        5100  \n",
              "\n",
              "[87 rows x 21 columns]"
            ]
          },
          "execution_count": 28,
          "metadata": {},
          "output_type": "execute_result"
        }
      ],
      "source": [
        "df[df.yr_built == 1900]"
      ]
    },
    {
      "cell_type": "markdown",
      "metadata": {
        "id": "3r9oe9twMzjt"
      },
      "source": [
        "As before, I was curious if heritage units are more expensive or less expensive than recent ones. It appears that the mean price of units built before 1930 is 602,613, above the total mean of 540,182. Therefore, indeed, heritage houses are more expensive in this locality."
      ]
    },
    {
      "cell_type": "code",
      "execution_count": 29,
      "metadata": {
        "colab": {
          "base_uri": "https://localhost:8080/"
        },
        "id": "0fKtaTdkMqsm",
        "outputId": "866667aa-6d6d-443c-99e4-ebc3792f5fb7"
      },
      "outputs": [
        {
          "data": {
            "text/plain": [
              "457566.2633371169"
            ]
          },
          "execution_count": 29,
          "metadata": {},
          "output_type": "execute_result"
        }
      ],
      "source": [
        "df[df.yr_built < 1930]['price'].mean()"
      ]
    },
    {
      "cell_type": "markdown",
      "metadata": {
        "id": "dhHoEVYhpHuT"
      },
      "source": [
        "# DataFrame from Dictionary"
      ]
    },
    {
      "cell_type": "code",
      "execution_count": 30,
      "metadata": {
        "id": "Yu9gW7e2qTG_"
      },
      "outputs": [],
      "source": [
        "import pandas as pd"
      ]
    },
    {
      "cell_type": "code",
      "execution_count": 31,
      "metadata": {
        "id": "YdQrxXtCpKGd"
      },
      "outputs": [],
      "source": [
        "myDict = {\n",
        "    'artist_first_name': ['Vincent', 'Henri', 'Pablo', 'Gustav'],\n",
        "    'artist_last_name': ['van Gogh', 'Matisse', 'Picasso', 'Klimt'],\n",
        "    'year_of_birth': [1853, 1869, 1881, 1862],\n",
        "    'year_of_death': [1890, 1954, 1973, 1918],\n",
        "    'nationality': ['Dutch', 'French', 'Spanish', 'Austrian'],\n",
        "}\n",
        "artist_df = pd.DataFrame.from_dict(myDict)"
      ]
    },
    {
      "cell_type": "code",
      "execution_count": 32,
      "metadata": {
        "colab": {
          "base_uri": "https://localhost:8080/"
        },
        "id": "AMqH8gAPq136",
        "outputId": "ddda2aae-3cc0-4682-8ba7-98e3233c795d"
      },
      "outputs": [
        {
          "name": "stdout",
          "output_type": "stream",
          "text": [
            "<class 'pandas.core.frame.DataFrame'>\n",
            "RangeIndex: 4 entries, 0 to 3\n",
            "Data columns (total 5 columns):\n",
            " #   Column             Non-Null Count  Dtype \n",
            "---  ------             --------------  ----- \n",
            " 0   artist_first_name  4 non-null      object\n",
            " 1   artist_last_name   4 non-null      object\n",
            " 2   year_of_birth      4 non-null      int64 \n",
            " 3   year_of_death      4 non-null      int64 \n",
            " 4   nationality        4 non-null      object\n",
            "dtypes: int64(2), object(3)\n",
            "memory usage: 288.0+ bytes\n"
          ]
        }
      ],
      "source": [
        "artist_df.info()"
      ]
    },
    {
      "cell_type": "code",
      "execution_count": 33,
      "metadata": {
        "colab": {
          "base_uri": "https://localhost:8080/"
        },
        "id": "GOK3ObuOq_0R",
        "outputId": "cc844160-f629-4878-be11-5b96d8eb2dea"
      },
      "outputs": [
        {
          "data": {
            "text/plain": [
              "Dutch       1\n",
              "French      1\n",
              "Spanish     1\n",
              "Austrian    1\n",
              "Name: nationality, dtype: int64"
            ]
          },
          "execution_count": 33,
          "metadata": {},
          "output_type": "execute_result"
        }
      ],
      "source": [
        "artist_df['nationality'].value_counts()"
      ]
    },
    {
      "cell_type": "code",
      "execution_count": 34,
      "metadata": {
        "colab": {
          "base_uri": "https://localhost:8080/"
        },
        "id": "9Famhx2RrZ9C",
        "outputId": "fd281b86-648c-4471-e10e-7175e329d503"
      },
      "outputs": [
        {
          "data": {
            "text/plain": [
              "[37, 85, 92, 56]"
            ]
          },
          "execution_count": 34,
          "metadata": {},
          "output_type": "execute_result"
        }
      ],
      "source": [
        "birth_years = list(artist_df['year_of_birth'])\n",
        "death_years = list(artist_df['year_of_death'])\n",
        "age_at_death = []\n",
        "for i in range(len(birth_years)):\n",
        "  age_at_death.append(death_years[i] - birth_years[i])\n",
        "age_at_death"
      ]
    },
    {
      "cell_type": "markdown",
      "metadata": {
        "id": "Etups_e3XEIn"
      },
      "source": [
        "# Pandas Documentation and Data Types"
      ]
    },
    {
      "cell_type": "markdown",
      "metadata": {
        "id": "LyB0Pj8WXHGI"
      },
      "source": [
        "The main datatypes we used in class were DataFrame and Series. Different methods return different value types, which may also include ndarrays.\n",
        "\n",
        "For example, in the following snippet, we access the 'zipcode' column of the DataFrame, which returns a Series. The unique() method is called on the Series to return an array (ndarray)."
      ]
    },
    {
      "cell_type": "code",
      "execution_count": 35,
      "metadata": {
        "colab": {
          "base_uri": "https://localhost:8080/"
        },
        "id": "fuVohsF_XVlL",
        "outputId": "8fb2fd4d-76f8-4054-81a1-ca58cffc3090"
      },
      "outputs": [
        {
          "data": {
            "text/plain": [
              "array([98178, 98125, 98028, 98136, 98074, 98053, 98003, 98198, 98146,\n",
              "       98038, 98007, 98115, 98107, 98126, 98019, 98103, 98002, 98133,\n",
              "       98040, 98092, 98030, 98119, 98112, 98052, 98027, 98117, 98058,\n",
              "       98001, 98056, 98166, 98023, 98070, 98148, 98105, 98042, 98008,\n",
              "       98059, 98122, 98144, 98004, 98005, 98034, 98075, 98116, 98010,\n",
              "       98118, 98199, 98032, 98045, 98102, 98077, 98108, 98168, 98177,\n",
              "       98065, 98029, 98006, 98109, 98022, 98033, 98155, 98024, 98011,\n",
              "       98031, 98106, 98072, 98188, 98014, 98055, 98039])"
            ]
          },
          "execution_count": 35,
          "metadata": {},
          "output_type": "execute_result"
        }
      ],
      "source": [
        "df['zipcode'].unique()"
      ]
    },
    {
      "cell_type": "markdown",
      "metadata": {
        "id": "zoQEXj7tZmJU"
      },
      "source": [
        "Additionally, I combined some pandas with vanilla Python to determine how many unique values for zipcode there were."
      ]
    },
    {
      "cell_type": "code",
      "execution_count": 36,
      "metadata": {
        "colab": {
          "base_uri": "https://localhost:8080/"
        },
        "id": "W_i1eNfpXVnf",
        "outputId": "b364864f-9b83-4a6a-b8f5-66328ebb4dae"
      },
      "outputs": [
        {
          "data": {
            "text/plain": [
              "70"
            ]
          },
          "execution_count": 36,
          "metadata": {},
          "output_type": "execute_result"
        }
      ],
      "source": [
        "len(df['zipcode'].unique())"
      ]
    },
    {
      "cell_type": "markdown",
      "metadata": {
        "id": "wHG-1_yMPj5p"
      },
      "source": [
        "The most interesting thing I learned through Pandas documentation is how to convert a Series to a DataFrame by using the to_frame() method. It also helped me answer the question raised during the class about the difference between calling df['yr_built'] (returns Series) vs. df[['yr_built']] (returns DataFrame). I am still discovering how Series and DataFrames can be used differently, as this is the first time I have encountered them. However, the question has been bugging me since it was raised in class and I am glad that I was able to stumble across the answer. Below, I use the value_counts() method to retrieve a Series, which I then convert into a DataFrame. I am still not sure how useful this is!"
      ]
    },
    {
      "cell_type": "code",
      "execution_count": 37,
      "metadata": {
        "colab": {
          "base_uri": "https://localhost:8080/"
        },
        "id": "QlmHbBG1Rv16",
        "outputId": "5c22fe50-a2ac-4825-f70f-b19d54c7bd62"
      },
      "outputs": [
        {
          "data": {
            "text/plain": [
              "2014    559\n",
              "2006    454\n",
              "2005    450\n",
              "2004    433\n",
              "2003    422\n",
              "       ... \n",
              "1933     30\n",
              "1901     29\n",
              "1902     27\n",
              "1935     24\n",
              "1934     21\n",
              "Name: yr_built, Length: 116, dtype: int64"
            ]
          },
          "execution_count": 37,
          "metadata": {},
          "output_type": "execute_result"
        }
      ],
      "source": [
        "df.yr_built.value_counts()"
      ]
    },
    {
      "cell_type": "code",
      "execution_count": 38,
      "metadata": {
        "colab": {
          "base_uri": "https://localhost:8080/",
          "height": 423
        },
        "id": "ANZZA396R4dx",
        "outputId": "2b7d0c4a-c369-429a-d7a5-9d06ac736776"
      },
      "outputs": [
        {
          "data": {
            "text/html": [
              "\n",
              "\n",
              "  <div id=\"df-621603b2-7f81-453e-8d4b-0ea4e35699c8\">\n",
              "    <div class=\"colab-df-container\">\n",
              "      <div>\n",
              "<style scoped>\n",
              "    .dataframe tbody tr th:only-of-type {\n",
              "        vertical-align: middle;\n",
              "    }\n",
              "\n",
              "    .dataframe tbody tr th {\n",
              "        vertical-align: top;\n",
              "    }\n",
              "\n",
              "    .dataframe thead th {\n",
              "        text-align: right;\n",
              "    }\n",
              "</style>\n",
              "<table border=\"1\" class=\"dataframe\">\n",
              "  <thead>\n",
              "    <tr style=\"text-align: right;\">\n",
              "      <th></th>\n",
              "      <th>yr_built</th>\n",
              "    </tr>\n",
              "  </thead>\n",
              "  <tbody>\n",
              "    <tr>\n",
              "      <th>2014</th>\n",
              "      <td>559</td>\n",
              "    </tr>\n",
              "    <tr>\n",
              "      <th>2006</th>\n",
              "      <td>454</td>\n",
              "    </tr>\n",
              "    <tr>\n",
              "      <th>2005</th>\n",
              "      <td>450</td>\n",
              "    </tr>\n",
              "    <tr>\n",
              "      <th>2004</th>\n",
              "      <td>433</td>\n",
              "    </tr>\n",
              "    <tr>\n",
              "      <th>2003</th>\n",
              "      <td>422</td>\n",
              "    </tr>\n",
              "    <tr>\n",
              "      <th>...</th>\n",
              "      <td>...</td>\n",
              "    </tr>\n",
              "    <tr>\n",
              "      <th>1933</th>\n",
              "      <td>30</td>\n",
              "    </tr>\n",
              "    <tr>\n",
              "      <th>1901</th>\n",
              "      <td>29</td>\n",
              "    </tr>\n",
              "    <tr>\n",
              "      <th>1902</th>\n",
              "      <td>27</td>\n",
              "    </tr>\n",
              "    <tr>\n",
              "      <th>1935</th>\n",
              "      <td>24</td>\n",
              "    </tr>\n",
              "    <tr>\n",
              "      <th>1934</th>\n",
              "      <td>21</td>\n",
              "    </tr>\n",
              "  </tbody>\n",
              "</table>\n",
              "<p>116 rows × 1 columns</p>\n",
              "</div>\n",
              "      <button class=\"colab-df-convert\" onclick=\"convertToInteractive('df-621603b2-7f81-453e-8d4b-0ea4e35699c8')\"\n",
              "              title=\"Convert this dataframe to an interactive table.\"\n",
              "              style=\"display:none;\">\n",
              "\n",
              "  <svg xmlns=\"http://www.w3.org/2000/svg\" height=\"24px\"viewBox=\"0 0 24 24\"\n",
              "       width=\"24px\">\n",
              "    <path d=\"M0 0h24v24H0V0z\" fill=\"none\"/>\n",
              "    <path d=\"M18.56 5.44l.94 2.06.94-2.06 2.06-.94-2.06-.94-.94-2.06-.94 2.06-2.06.94zm-11 1L8.5 8.5l.94-2.06 2.06-.94-2.06-.94L8.5 2.5l-.94 2.06-2.06.94zm10 10l.94 2.06.94-2.06 2.06-.94-2.06-.94-.94-2.06-.94 2.06-2.06.94z\"/><path d=\"M17.41 7.96l-1.37-1.37c-.4-.4-.92-.59-1.43-.59-.52 0-1.04.2-1.43.59L10.3 9.45l-7.72 7.72c-.78.78-.78 2.05 0 2.83L4 21.41c.39.39.9.59 1.41.59.51 0 1.02-.2 1.41-.59l7.78-7.78 2.81-2.81c.8-.78.8-2.07 0-2.86zM5.41 20L4 18.59l7.72-7.72 1.47 1.35L5.41 20z\"/>\n",
              "  </svg>\n",
              "      </button>\n",
              "\n",
              "\n",
              "\n",
              "    <div id=\"df-424fc24b-d429-4e20-b59b-682afabad889\">\n",
              "      <button class=\"colab-df-quickchart\" onclick=\"quickchart('df-424fc24b-d429-4e20-b59b-682afabad889')\"\n",
              "              title=\"Suggest charts.\"\n",
              "              style=\"display:none;\">\n",
              "\n",
              "<svg xmlns=\"http://www.w3.org/2000/svg\" height=\"24px\"viewBox=\"0 0 24 24\"\n",
              "     width=\"24px\">\n",
              "    <g>\n",
              "        <path d=\"M19 3H5c-1.1 0-2 .9-2 2v14c0 1.1.9 2 2 2h14c1.1 0 2-.9 2-2V5c0-1.1-.9-2-2-2zM9 17H7v-7h2v7zm4 0h-2V7h2v10zm4 0h-2v-4h2v4z\"/>\n",
              "    </g>\n",
              "</svg>\n",
              "      </button>\n",
              "    </div>\n",
              "\n",
              "<style>\n",
              "  .colab-df-quickchart {\n",
              "    background-color: #E8F0FE;\n",
              "    border: none;\n",
              "    border-radius: 50%;\n",
              "    cursor: pointer;\n",
              "    display: none;\n",
              "    fill: #1967D2;\n",
              "    height: 32px;\n",
              "    padding: 0 0 0 0;\n",
              "    width: 32px;\n",
              "  }\n",
              "\n",
              "  .colab-df-quickchart:hover {\n",
              "    background-color: #E2EBFA;\n",
              "    box-shadow: 0px 1px 2px rgba(60, 64, 67, 0.3), 0px 1px 3px 1px rgba(60, 64, 67, 0.15);\n",
              "    fill: #174EA6;\n",
              "  }\n",
              "\n",
              "  [theme=dark] .colab-df-quickchart {\n",
              "    background-color: #3B4455;\n",
              "    fill: #D2E3FC;\n",
              "  }\n",
              "\n",
              "  [theme=dark] .colab-df-quickchart:hover {\n",
              "    background-color: #434B5C;\n",
              "    box-shadow: 0px 1px 3px 1px rgba(0, 0, 0, 0.15);\n",
              "    filter: drop-shadow(0px 1px 2px rgba(0, 0, 0, 0.3));\n",
              "    fill: #FFFFFF;\n",
              "  }\n",
              "</style>\n",
              "\n",
              "    <script>\n",
              "      async function quickchart(key) {\n",
              "        const containerElement = document.querySelector('#' + key);\n",
              "        const charts = await google.colab.kernel.invokeFunction(\n",
              "            'suggestCharts', [key], {});\n",
              "      }\n",
              "    </script>\n",
              "\n",
              "      <script>\n",
              "\n",
              "function displayQuickchartButton(domScope) {\n",
              "  let quickchartButtonEl =\n",
              "    domScope.querySelector('#df-424fc24b-d429-4e20-b59b-682afabad889 button.colab-df-quickchart');\n",
              "  quickchartButtonEl.style.display =\n",
              "    google.colab.kernel.accessAllowed ? 'block' : 'none';\n",
              "}\n",
              "\n",
              "        displayQuickchartButton(document);\n",
              "      </script>\n",
              "      <style>\n",
              "    .colab-df-container {\n",
              "      display:flex;\n",
              "      flex-wrap:wrap;\n",
              "      gap: 12px;\n",
              "    }\n",
              "\n",
              "    .colab-df-convert {\n",
              "      background-color: #E8F0FE;\n",
              "      border: none;\n",
              "      border-radius: 50%;\n",
              "      cursor: pointer;\n",
              "      display: none;\n",
              "      fill: #1967D2;\n",
              "      height: 32px;\n",
              "      padding: 0 0 0 0;\n",
              "      width: 32px;\n",
              "    }\n",
              "\n",
              "    .colab-df-convert:hover {\n",
              "      background-color: #E2EBFA;\n",
              "      box-shadow: 0px 1px 2px rgba(60, 64, 67, 0.3), 0px 1px 3px 1px rgba(60, 64, 67, 0.15);\n",
              "      fill: #174EA6;\n",
              "    }\n",
              "\n",
              "    [theme=dark] .colab-df-convert {\n",
              "      background-color: #3B4455;\n",
              "      fill: #D2E3FC;\n",
              "    }\n",
              "\n",
              "    [theme=dark] .colab-df-convert:hover {\n",
              "      background-color: #434B5C;\n",
              "      box-shadow: 0px 1px 3px 1px rgba(0, 0, 0, 0.15);\n",
              "      filter: drop-shadow(0px 1px 2px rgba(0, 0, 0, 0.3));\n",
              "      fill: #FFFFFF;\n",
              "    }\n",
              "  </style>\n",
              "\n",
              "      <script>\n",
              "        const buttonEl =\n",
              "          document.querySelector('#df-621603b2-7f81-453e-8d4b-0ea4e35699c8 button.colab-df-convert');\n",
              "        buttonEl.style.display =\n",
              "          google.colab.kernel.accessAllowed ? 'block' : 'none';\n",
              "\n",
              "        async function convertToInteractive(key) {\n",
              "          const element = document.querySelector('#df-621603b2-7f81-453e-8d4b-0ea4e35699c8');\n",
              "          const dataTable =\n",
              "            await google.colab.kernel.invokeFunction('convertToInteractive',\n",
              "                                                     [key], {});\n",
              "          if (!dataTable) return;\n",
              "\n",
              "          const docLinkHtml = 'Like what you see? Visit the ' +\n",
              "            '<a target=\"_blank\" href=https://colab.research.google.com/notebooks/data_table.ipynb>data table notebook</a>'\n",
              "            + ' to learn more about interactive tables.';\n",
              "          element.innerHTML = '';\n",
              "          dataTable['output_type'] = 'display_data';\n",
              "          await google.colab.output.renderOutput(dataTable, element);\n",
              "          const docLink = document.createElement('div');\n",
              "          docLink.innerHTML = docLinkHtml;\n",
              "          element.appendChild(docLink);\n",
              "        }\n",
              "      </script>\n",
              "    </div>\n",
              "  </div>\n"
            ],
            "text/plain": [
              "      yr_built\n",
              "2014       559\n",
              "2006       454\n",
              "2005       450\n",
              "2004       433\n",
              "2003       422\n",
              "...        ...\n",
              "1933        30\n",
              "1901        29\n",
              "1902        27\n",
              "1935        24\n",
              "1934        21\n",
              "\n",
              "[116 rows x 1 columns]"
            ]
          },
          "execution_count": 38,
          "metadata": {},
          "output_type": "execute_result"
        }
      ],
      "source": [
        "df.yr_built.value_counts().to_frame()"
      ]
    }
  ],
  "metadata": {
    "colab": {
      "provenance": []
    },
    "kernelspec": {
      "display_name": "Python 3",
      "name": "python3"
    },
    "language_info": {
      "codemirror_mode": {
        "name": "ipython",
        "version": 3
      },
      "file_extension": ".py",
      "mimetype": "text/x-python",
      "name": "python",
      "nbconvert_exporter": "python",
      "pygments_lexer": "ipython3",
      "version": "3.11.3"
    }
  },
  "nbformat": 4,
  "nbformat_minor": 0
}
